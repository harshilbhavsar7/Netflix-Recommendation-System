{
 "cells": [
  {
   "cell_type": "markdown",
   "id": "0611a999-90bb-49dd-8a57-84b8f3bcba1c",
   "metadata": {
    "id": "0611a999-90bb-49dd-8a57-84b8f3bcba1c"
   },
   "source": [
    "# **NETFLIX RECOMMENDATION ENGINE**"
   ]
  },
  {
   "cell_type": "markdown",
   "id": "a0b9a798-7224-4420-b6c5-e943a6e40e22",
   "metadata": {
    "id": "a0b9a798-7224-4420-b6c5-e943a6e40e22"
   },
   "source": [
    "### Importing necessary libraries"
   ]
  },
  {
   "cell_type": "code",
   "execution_count": 2,
   "id": "c5528130",
   "metadata": {},
   "outputs": [
    {
     "name": "stdout",
     "output_type": "stream",
     "text": [
      "Collecting neattext\n",
      "  Downloading neattext-0.1.3-py3-none-any.whl (114 kB)\n",
      "     -------------------------------------- 114.7/114.7 kB 3.4 MB/s eta 0:00:00\n",
      "Installing collected packages: neattext\n",
      "Successfully installed neattext-0.1.3\n"
     ]
    }
   ],
   "source": [
    "!pip install neattext"
   ]
  },
  {
   "cell_type": "code",
   "execution_count": 3,
   "id": "cd05df17-8b66-4e75-83ce-ee18ae483bef",
   "metadata": {
    "id": "cd05df17-8b66-4e75-83ce-ee18ae483bef"
   },
   "outputs": [],
   "source": [
    "import pandas as pd\n",
    "import numpy as np\n",
    "import neattext.functions as nfx\n",
    "from sklearn.feature_extraction.text import TfidfVectorizer, CountVectorizer\n",
    "from sklearn.metrics.pairwise import cosine_similarity\n",
    "\n",
    "import warnings\n",
    "warnings.filterwarnings(\"ignore\")"
   ]
  },
  {
   "cell_type": "code",
   "execution_count": 4,
   "id": "c8bb11eb-1d3d-48cd-80b0-e46d01b4366b",
   "metadata": {
    "id": "c8bb11eb-1d3d-48cd-80b0-e46d01b4366b",
    "outputId": "745f5ad9-17c2-4b4a-c37c-e73eff624ff5"
   },
   "outputs": [
    {
     "data": {
      "text/html": [
       "<div>\n",
       "<style scoped>\n",
       "    .dataframe tbody tr th:only-of-type {\n",
       "        vertical-align: middle;\n",
       "    }\n",
       "\n",
       "    .dataframe tbody tr th {\n",
       "        vertical-align: top;\n",
       "    }\n",
       "\n",
       "    .dataframe thead th {\n",
       "        text-align: right;\n",
       "    }\n",
       "</style>\n",
       "<table border=\"1\" class=\"dataframe\">\n",
       "  <thead>\n",
       "    <tr style=\"text-align: right;\">\n",
       "      <th></th>\n",
       "      <th>show_id</th>\n",
       "      <th>type</th>\n",
       "      <th>title</th>\n",
       "      <th>director</th>\n",
       "      <th>cast</th>\n",
       "      <th>country</th>\n",
       "      <th>date_added</th>\n",
       "      <th>release_year</th>\n",
       "      <th>rating</th>\n",
       "      <th>duration</th>\n",
       "      <th>listed_in</th>\n",
       "      <th>description</th>\n",
       "    </tr>\n",
       "  </thead>\n",
       "  <tbody>\n",
       "    <tr>\n",
       "      <th>0</th>\n",
       "      <td>s1</td>\n",
       "      <td>Movie</td>\n",
       "      <td>Dick Johnson Is Dead</td>\n",
       "      <td>Kirsten Johnson</td>\n",
       "      <td>NaN</td>\n",
       "      <td>United States</td>\n",
       "      <td>September 25, 2021</td>\n",
       "      <td>2020</td>\n",
       "      <td>PG-13</td>\n",
       "      <td>90 min</td>\n",
       "      <td>Documentaries</td>\n",
       "      <td>As her father nears the end of his life, filmm...</td>\n",
       "    </tr>\n",
       "    <tr>\n",
       "      <th>1</th>\n",
       "      <td>s2</td>\n",
       "      <td>TV Show</td>\n",
       "      <td>Blood &amp; Water</td>\n",
       "      <td>NaN</td>\n",
       "      <td>Ama Qamata, Khosi Ngema, Gail Mabalane, Thaban...</td>\n",
       "      <td>South Africa</td>\n",
       "      <td>September 24, 2021</td>\n",
       "      <td>2021</td>\n",
       "      <td>TV-MA</td>\n",
       "      <td>2 Seasons</td>\n",
       "      <td>International TV Shows, TV Dramas, TV Mysteries</td>\n",
       "      <td>After crossing paths at a party, a Cape Town t...</td>\n",
       "    </tr>\n",
       "    <tr>\n",
       "      <th>2</th>\n",
       "      <td>s3</td>\n",
       "      <td>TV Show</td>\n",
       "      <td>Ganglands</td>\n",
       "      <td>Julien Leclercq</td>\n",
       "      <td>Sami Bouajila, Tracy Gotoas, Samuel Jouy, Nabi...</td>\n",
       "      <td>NaN</td>\n",
       "      <td>September 24, 2021</td>\n",
       "      <td>2021</td>\n",
       "      <td>TV-MA</td>\n",
       "      <td>1 Season</td>\n",
       "      <td>Crime TV Shows, International TV Shows, TV Act...</td>\n",
       "      <td>To protect his family from a powerful drug lor...</td>\n",
       "    </tr>\n",
       "    <tr>\n",
       "      <th>3</th>\n",
       "      <td>s4</td>\n",
       "      <td>TV Show</td>\n",
       "      <td>Jailbirds New Orleans</td>\n",
       "      <td>NaN</td>\n",
       "      <td>NaN</td>\n",
       "      <td>NaN</td>\n",
       "      <td>September 24, 2021</td>\n",
       "      <td>2021</td>\n",
       "      <td>TV-MA</td>\n",
       "      <td>1 Season</td>\n",
       "      <td>Docuseries, Reality TV</td>\n",
       "      <td>Feuds, flirtations and toilet talk go down amo...</td>\n",
       "    </tr>\n",
       "    <tr>\n",
       "      <th>4</th>\n",
       "      <td>s5</td>\n",
       "      <td>TV Show</td>\n",
       "      <td>Kota Factory</td>\n",
       "      <td>NaN</td>\n",
       "      <td>Mayur More, Jitendra Kumar, Ranjan Raj, Alam K...</td>\n",
       "      <td>India</td>\n",
       "      <td>September 24, 2021</td>\n",
       "      <td>2021</td>\n",
       "      <td>TV-MA</td>\n",
       "      <td>2 Seasons</td>\n",
       "      <td>International TV Shows, Romantic TV Shows, TV ...</td>\n",
       "      <td>In a city of coaching centers known to train I...</td>\n",
       "    </tr>\n",
       "  </tbody>\n",
       "</table>\n",
       "</div>"
      ],
      "text/plain": [
       "  show_id     type                  title         director  \\\n",
       "0      s1    Movie   Dick Johnson Is Dead  Kirsten Johnson   \n",
       "1      s2  TV Show          Blood & Water              NaN   \n",
       "2      s3  TV Show              Ganglands  Julien Leclercq   \n",
       "3      s4  TV Show  Jailbirds New Orleans              NaN   \n",
       "4      s5  TV Show           Kota Factory              NaN   \n",
       "\n",
       "                                                cast        country  \\\n",
       "0                                                NaN  United States   \n",
       "1  Ama Qamata, Khosi Ngema, Gail Mabalane, Thaban...   South Africa   \n",
       "2  Sami Bouajila, Tracy Gotoas, Samuel Jouy, Nabi...            NaN   \n",
       "3                                                NaN            NaN   \n",
       "4  Mayur More, Jitendra Kumar, Ranjan Raj, Alam K...          India   \n",
       "\n",
       "           date_added  release_year rating   duration  \\\n",
       "0  September 25, 2021          2020  PG-13     90 min   \n",
       "1  September 24, 2021          2021  TV-MA  2 Seasons   \n",
       "2  September 24, 2021          2021  TV-MA   1 Season   \n",
       "3  September 24, 2021          2021  TV-MA   1 Season   \n",
       "4  September 24, 2021          2021  TV-MA  2 Seasons   \n",
       "\n",
       "                                           listed_in  \\\n",
       "0                                      Documentaries   \n",
       "1    International TV Shows, TV Dramas, TV Mysteries   \n",
       "2  Crime TV Shows, International TV Shows, TV Act...   \n",
       "3                             Docuseries, Reality TV   \n",
       "4  International TV Shows, Romantic TV Shows, TV ...   \n",
       "\n",
       "                                         description  \n",
       "0  As her father nears the end of his life, filmm...  \n",
       "1  After crossing paths at a party, a Cape Town t...  \n",
       "2  To protect his family from a powerful drug lor...  \n",
       "3  Feuds, flirtations and toilet talk go down amo...  \n",
       "4  In a city of coaching centers known to train I...  "
      ]
     },
     "execution_count": 4,
     "metadata": {},
     "output_type": "execute_result"
    }
   ],
   "source": [
    "# df = pd.read_csv('netflix_titles.csv')\n",
    "df = pd.read_excel('netflix_tmdb_dataset_v1.xlsx')\n",
    "df.head()"
   ]
  },
  {
   "cell_type": "code",
   "execution_count": 5,
   "id": "499c4d05-be3f-4d56-adf2-a27ecc023f62",
   "metadata": {
    "id": "499c4d05-be3f-4d56-adf2-a27ecc023f62"
   },
   "outputs": [],
   "source": [
    "# Renaming Columns\n",
    "df.rename(columns = {'listed_in': 'genres'}, inplace= True)"
   ]
  },
  {
   "cell_type": "code",
   "execution_count": 6,
   "id": "2e72d084-2f3e-4957-960e-beef53c31803",
   "metadata": {
    "id": "2e72d084-2f3e-4957-960e-beef53c31803",
    "outputId": "95a10b9a-d300-44ed-e8c4-e9854c699245"
   },
   "outputs": [
    {
     "data": {
      "text/plain": [
       "Movie      6131\n",
       "TV Show    2676\n",
       "Name: type, dtype: int64"
      ]
     },
     "execution_count": 6,
     "metadata": {},
     "output_type": "execute_result"
    }
   ],
   "source": [
    "# Checking the type\n",
    "df['type'].value_counts()"
   ]
  },
  {
   "cell_type": "markdown",
   "id": "dc2fa4f2-781b-49d5-a8e6-d2a222c87008",
   "metadata": {
    "id": "dc2fa4f2-781b-49d5-a8e6-d2a222c87008",
    "tags": []
   },
   "source": [
    "## Movie Recommendation Engine"
   ]
  },
  {
   "cell_type": "code",
   "execution_count": 7,
   "id": "9735ff18-96ec-4a99-8ba6-29f4ef54faf1",
   "metadata": {
    "id": "9735ff18-96ec-4a99-8ba6-29f4ef54faf1",
    "outputId": "4d27b7ba-cffb-4a26-f7dd-8ebcb8cc34a7"
   },
   "outputs": [
    {
     "data": {
      "text/html": [
       "<div>\n",
       "<style scoped>\n",
       "    .dataframe tbody tr th:only-of-type {\n",
       "        vertical-align: middle;\n",
       "    }\n",
       "\n",
       "    .dataframe tbody tr th {\n",
       "        vertical-align: top;\n",
       "    }\n",
       "\n",
       "    .dataframe thead th {\n",
       "        text-align: right;\n",
       "    }\n",
       "</style>\n",
       "<table border=\"1\" class=\"dataframe\">\n",
       "  <thead>\n",
       "    <tr style=\"text-align: right;\">\n",
       "      <th></th>\n",
       "      <th>show_id</th>\n",
       "      <th>type</th>\n",
       "      <th>title</th>\n",
       "      <th>director</th>\n",
       "      <th>cast</th>\n",
       "      <th>country</th>\n",
       "      <th>date_added</th>\n",
       "      <th>release_year</th>\n",
       "      <th>rating</th>\n",
       "      <th>duration</th>\n",
       "      <th>genres</th>\n",
       "      <th>description</th>\n",
       "    </tr>\n",
       "  </thead>\n",
       "  <tbody>\n",
       "    <tr>\n",
       "      <th>0</th>\n",
       "      <td>s1</td>\n",
       "      <td>Movie</td>\n",
       "      <td>Dick Johnson Is Dead</td>\n",
       "      <td>Kirsten Johnson</td>\n",
       "      <td>NaN</td>\n",
       "      <td>United States</td>\n",
       "      <td>September 25, 2021</td>\n",
       "      <td>2020</td>\n",
       "      <td>PG-13</td>\n",
       "      <td>90 min</td>\n",
       "      <td>Documentaries</td>\n",
       "      <td>As her father nears the end of his life, filmm...</td>\n",
       "    </tr>\n",
       "    <tr>\n",
       "      <th>1</th>\n",
       "      <td>s7</td>\n",
       "      <td>Movie</td>\n",
       "      <td>My Little Pony: A New Generation</td>\n",
       "      <td>Robert Cullen, José Luis Ucha</td>\n",
       "      <td>Vanessa Hudgens, Kimiko Glenn, James Marsden, ...</td>\n",
       "      <td>NaN</td>\n",
       "      <td>September 24, 2021</td>\n",
       "      <td>2021</td>\n",
       "      <td>PG</td>\n",
       "      <td>91 min</td>\n",
       "      <td>Children &amp; Family Movies</td>\n",
       "      <td>Equestria's divided. But a bright-eyed hero be...</td>\n",
       "    </tr>\n",
       "    <tr>\n",
       "      <th>2</th>\n",
       "      <td>s8</td>\n",
       "      <td>Movie</td>\n",
       "      <td>Sankofa</td>\n",
       "      <td>Haile Gerima</td>\n",
       "      <td>Kofi Ghanaba, Oyafunmike Ogunlano, Alexandra D...</td>\n",
       "      <td>United States, Ghana, Burkina Faso, United Kin...</td>\n",
       "      <td>September 24, 2021</td>\n",
       "      <td>1993</td>\n",
       "      <td>TV-MA</td>\n",
       "      <td>125 min</td>\n",
       "      <td>Dramas, Independent Movies, International Movies</td>\n",
       "      <td>On a photo shoot in Ghana, an American model s...</td>\n",
       "    </tr>\n",
       "    <tr>\n",
       "      <th>3</th>\n",
       "      <td>s10</td>\n",
       "      <td>Movie</td>\n",
       "      <td>The Starling</td>\n",
       "      <td>Theodore Melfi</td>\n",
       "      <td>Melissa McCarthy, Chris O'Dowd, Kevin Kline, T...</td>\n",
       "      <td>United States</td>\n",
       "      <td>September 24, 2021</td>\n",
       "      <td>2021</td>\n",
       "      <td>PG-13</td>\n",
       "      <td>104 min</td>\n",
       "      <td>Comedies, Dramas</td>\n",
       "      <td>A woman adjusting to life after a loss contend...</td>\n",
       "    </tr>\n",
       "    <tr>\n",
       "      <th>4</th>\n",
       "      <td>s13</td>\n",
       "      <td>Movie</td>\n",
       "      <td>Je Suis Karl</td>\n",
       "      <td>Christian Schwochow</td>\n",
       "      <td>Luna Wedler, Jannis Niewöhner, Milan Peschel, ...</td>\n",
       "      <td>Germany, Czech Republic</td>\n",
       "      <td>September 23, 2021</td>\n",
       "      <td>2021</td>\n",
       "      <td>TV-MA</td>\n",
       "      <td>127 min</td>\n",
       "      <td>Dramas, International Movies</td>\n",
       "      <td>After most of her family is murdered in a terr...</td>\n",
       "    </tr>\n",
       "  </tbody>\n",
       "</table>\n",
       "</div>"
      ],
      "text/plain": [
       "  show_id   type                             title  \\\n",
       "0      s1  Movie              Dick Johnson Is Dead   \n",
       "1      s7  Movie  My Little Pony: A New Generation   \n",
       "2      s8  Movie                           Sankofa   \n",
       "3     s10  Movie                      The Starling   \n",
       "4     s13  Movie                      Je Suis Karl   \n",
       "\n",
       "                        director  \\\n",
       "0                Kirsten Johnson   \n",
       "1  Robert Cullen, José Luis Ucha   \n",
       "2                   Haile Gerima   \n",
       "3                 Theodore Melfi   \n",
       "4            Christian Schwochow   \n",
       "\n",
       "                                                cast  \\\n",
       "0                                                NaN   \n",
       "1  Vanessa Hudgens, Kimiko Glenn, James Marsden, ...   \n",
       "2  Kofi Ghanaba, Oyafunmike Ogunlano, Alexandra D...   \n",
       "3  Melissa McCarthy, Chris O'Dowd, Kevin Kline, T...   \n",
       "4  Luna Wedler, Jannis Niewöhner, Milan Peschel, ...   \n",
       "\n",
       "                                             country          date_added  \\\n",
       "0                                      United States  September 25, 2021   \n",
       "1                                                NaN  September 24, 2021   \n",
       "2  United States, Ghana, Burkina Faso, United Kin...  September 24, 2021   \n",
       "3                                      United States  September 24, 2021   \n",
       "4                            Germany, Czech Republic  September 23, 2021   \n",
       "\n",
       "   release_year rating duration  \\\n",
       "0          2020  PG-13   90 min   \n",
       "1          2021     PG   91 min   \n",
       "2          1993  TV-MA  125 min   \n",
       "3          2021  PG-13  104 min   \n",
       "4          2021  TV-MA  127 min   \n",
       "\n",
       "                                             genres  \\\n",
       "0                                     Documentaries   \n",
       "1                          Children & Family Movies   \n",
       "2  Dramas, Independent Movies, International Movies   \n",
       "3                                  Comedies, Dramas   \n",
       "4                      Dramas, International Movies   \n",
       "\n",
       "                                         description  \n",
       "0  As her father nears the end of his life, filmm...  \n",
       "1  Equestria's divided. But a bright-eyed hero be...  \n",
       "2  On a photo shoot in Ghana, an American model s...  \n",
       "3  A woman adjusting to life after a loss contend...  \n",
       "4  After most of her family is murdered in a terr...  "
      ]
     },
     "execution_count": 7,
     "metadata": {},
     "output_type": "execute_result"
    }
   ],
   "source": [
    "# Getting movies \n",
    "movies_df = df[df['type'] == 'Movie'].reset_index(drop= True)\n",
    "movies_df.head()"
   ]
  },
  {
   "cell_type": "code",
   "execution_count": 8,
   "id": "a63a01bf-e62f-45ea-b113-0d00da772f84",
   "metadata": {
    "id": "a63a01bf-e62f-45ea-b113-0d00da772f84",
    "outputId": "823a8c8d-73bd-417a-d967-4510f3dd413d"
   },
   "outputs": [
    {
     "data": {
      "text/plain": [
       "0"
      ]
     },
     "execution_count": 8,
     "metadata": {},
     "output_type": "execute_result"
    }
   ],
   "source": [
    "# Checking for duplicate\n",
    "movies_df.duplicated().sum()"
   ]
  },
  {
   "cell_type": "code",
   "execution_count": 9,
   "id": "a87f5acd-a2a9-4111-89b1-f05c77713a01",
   "metadata": {
    "id": "a87f5acd-a2a9-4111-89b1-f05c77713a01",
    "outputId": "bc032ea1-01f5-44e3-836c-2861f51456b5"
   },
   "outputs": [
    {
     "data": {
      "text/plain": [
       "show_id           0\n",
       "type              0\n",
       "title             0\n",
       "director        188\n",
       "cast            475\n",
       "country         440\n",
       "date_added        0\n",
       "release_year      0\n",
       "rating            2\n",
       "duration          3\n",
       "genres            0\n",
       "description       0\n",
       "dtype: int64"
      ]
     },
     "execution_count": 9,
     "metadata": {},
     "output_type": "execute_result"
    }
   ],
   "source": [
    "# Checking for null values\n",
    "movies_df.isnull().sum()"
   ]
  },
  {
   "cell_type": "code",
   "execution_count": 10,
   "id": "5198720c-12fd-4699-8770-df63a8d4da6a",
   "metadata": {
    "id": "5198720c-12fd-4699-8770-df63a8d4da6a",
    "outputId": "1437324e-e72c-47ea-8a81-0575c2d29498",
    "tags": []
   },
   "outputs": [
    {
     "data": {
      "text/html": [
       "<div>\n",
       "<style scoped>\n",
       "    .dataframe tbody tr th:only-of-type {\n",
       "        vertical-align: middle;\n",
       "    }\n",
       "\n",
       "    .dataframe tbody tr th {\n",
       "        vertical-align: top;\n",
       "    }\n",
       "\n",
       "    .dataframe thead th {\n",
       "        text-align: right;\n",
       "    }\n",
       "</style>\n",
       "<table border=\"1\" class=\"dataframe\">\n",
       "  <thead>\n",
       "    <tr style=\"text-align: right;\">\n",
       "      <th></th>\n",
       "      <th>show_id</th>\n",
       "      <th>type</th>\n",
       "      <th>title</th>\n",
       "      <th>director</th>\n",
       "      <th>cast</th>\n",
       "      <th>country</th>\n",
       "      <th>date_added</th>\n",
       "      <th>release_year</th>\n",
       "      <th>rating</th>\n",
       "      <th>duration</th>\n",
       "      <th>genres</th>\n",
       "      <th>description</th>\n",
       "    </tr>\n",
       "  </thead>\n",
       "  <tbody>\n",
       "    <tr>\n",
       "      <th>0</th>\n",
       "      <td>s8</td>\n",
       "      <td>Movie</td>\n",
       "      <td>Sankofa</td>\n",
       "      <td>Haile Gerima</td>\n",
       "      <td>Kofi Ghanaba, Oyafunmike Ogunlano, Alexandra D...</td>\n",
       "      <td>United States, Ghana, Burkina Faso, United Kin...</td>\n",
       "      <td>September 24, 2021</td>\n",
       "      <td>1993</td>\n",
       "      <td>TV-MA</td>\n",
       "      <td>125 min</td>\n",
       "      <td>Dramas, Independent Movies, International Movies</td>\n",
       "      <td>On a photo shoot in Ghana, an American model s...</td>\n",
       "    </tr>\n",
       "    <tr>\n",
       "      <th>1</th>\n",
       "      <td>s10</td>\n",
       "      <td>Movie</td>\n",
       "      <td>The Starling</td>\n",
       "      <td>Theodore Melfi</td>\n",
       "      <td>Melissa McCarthy, Chris O'Dowd, Kevin Kline, T...</td>\n",
       "      <td>United States</td>\n",
       "      <td>September 24, 2021</td>\n",
       "      <td>2021</td>\n",
       "      <td>PG-13</td>\n",
       "      <td>104 min</td>\n",
       "      <td>Comedies, Dramas</td>\n",
       "      <td>A woman adjusting to life after a loss contend...</td>\n",
       "    </tr>\n",
       "    <tr>\n",
       "      <th>2</th>\n",
       "      <td>s13</td>\n",
       "      <td>Movie</td>\n",
       "      <td>Je Suis Karl</td>\n",
       "      <td>Christian Schwochow</td>\n",
       "      <td>Luna Wedler, Jannis Niewöhner, Milan Peschel, ...</td>\n",
       "      <td>Germany, Czech Republic</td>\n",
       "      <td>September 23, 2021</td>\n",
       "      <td>2021</td>\n",
       "      <td>TV-MA</td>\n",
       "      <td>127 min</td>\n",
       "      <td>Dramas, International Movies</td>\n",
       "      <td>After most of her family is murdered in a terr...</td>\n",
       "    </tr>\n",
       "    <tr>\n",
       "      <th>3</th>\n",
       "      <td>s25</td>\n",
       "      <td>Movie</td>\n",
       "      <td>Jeans</td>\n",
       "      <td>S. Shankar</td>\n",
       "      <td>Prashanth, Aishwarya Rai Bachchan, Sri Lakshmi...</td>\n",
       "      <td>India</td>\n",
       "      <td>September 21, 2021</td>\n",
       "      <td>1998</td>\n",
       "      <td>TV-14</td>\n",
       "      <td>166 min</td>\n",
       "      <td>Comedies, International Movies, Romantic Movies</td>\n",
       "      <td>When the father of the man she loves insists t...</td>\n",
       "    </tr>\n",
       "    <tr>\n",
       "      <th>4</th>\n",
       "      <td>s28</td>\n",
       "      <td>Movie</td>\n",
       "      <td>Grown Ups</td>\n",
       "      <td>Dennis Dugan</td>\n",
       "      <td>Adam Sandler, Kevin James, Chris Rock, David S...</td>\n",
       "      <td>United States</td>\n",
       "      <td>September 20, 2021</td>\n",
       "      <td>2010</td>\n",
       "      <td>PG-13</td>\n",
       "      <td>103 min</td>\n",
       "      <td>Comedies</td>\n",
       "      <td>Mourning the loss of their beloved junior high...</td>\n",
       "    </tr>\n",
       "  </tbody>\n",
       "</table>\n",
       "</div>"
      ],
      "text/plain": [
       "  show_id   type         title             director  \\\n",
       "0      s8  Movie       Sankofa         Haile Gerima   \n",
       "1     s10  Movie  The Starling       Theodore Melfi   \n",
       "2     s13  Movie  Je Suis Karl  Christian Schwochow   \n",
       "3     s25  Movie         Jeans           S. Shankar   \n",
       "4     s28  Movie     Grown Ups         Dennis Dugan   \n",
       "\n",
       "                                                cast  \\\n",
       "0  Kofi Ghanaba, Oyafunmike Ogunlano, Alexandra D...   \n",
       "1  Melissa McCarthy, Chris O'Dowd, Kevin Kline, T...   \n",
       "2  Luna Wedler, Jannis Niewöhner, Milan Peschel, ...   \n",
       "3  Prashanth, Aishwarya Rai Bachchan, Sri Lakshmi...   \n",
       "4  Adam Sandler, Kevin James, Chris Rock, David S...   \n",
       "\n",
       "                                             country          date_added  \\\n",
       "0  United States, Ghana, Burkina Faso, United Kin...  September 24, 2021   \n",
       "1                                      United States  September 24, 2021   \n",
       "2                            Germany, Czech Republic  September 23, 2021   \n",
       "3                                              India  September 21, 2021   \n",
       "4                                      United States  September 20, 2021   \n",
       "\n",
       "   release_year rating duration  \\\n",
       "0          1993  TV-MA  125 min   \n",
       "1          2021  PG-13  104 min   \n",
       "2          2021  TV-MA  127 min   \n",
       "3          1998  TV-14  166 min   \n",
       "4          2010  PG-13  103 min   \n",
       "\n",
       "                                             genres  \\\n",
       "0  Dramas, Independent Movies, International Movies   \n",
       "1                                  Comedies, Dramas   \n",
       "2                      Dramas, International Movies   \n",
       "3   Comedies, International Movies, Romantic Movies   \n",
       "4                                          Comedies   \n",
       "\n",
       "                                         description  \n",
       "0  On a photo shoot in Ghana, an American model s...  \n",
       "1  A woman adjusting to life after a loss contend...  \n",
       "2  After most of her family is murdered in a terr...  \n",
       "3  When the father of the man she loves insists t...  \n",
       "4  Mourning the loss of their beloved junior high...  "
      ]
     },
     "execution_count": 10,
     "metadata": {},
     "output_type": "execute_result"
    }
   ],
   "source": [
    "# filling NaN manually at rating column so pandas can treat it as a Non null-value\n",
    "movies_df['rating'].fillna('NaN', inplace= True)\n",
    "\n",
    "# Dropping null values\n",
    "movies_df.dropna(inplace= True)\n",
    "movies_df = movies_df.reset_index(drop=True)\n",
    "movies_df.head()"
   ]
  },
  {
   "cell_type": "code",
   "execution_count": 11,
   "id": "6f1dc758-ed4c-435c-ad38-fef4a7decbe3",
   "metadata": {
    "id": "6f1dc758-ed4c-435c-ad38-fef4a7decbe3",
    "outputId": "6302d744-9058-443a-8d8c-c9b9164869e8"
   },
   "outputs": [
    {
     "data": {
      "text/html": [
       "<div>\n",
       "<style scoped>\n",
       "    .dataframe tbody tr th:only-of-type {\n",
       "        vertical-align: middle;\n",
       "    }\n",
       "\n",
       "    .dataframe tbody tr th {\n",
       "        vertical-align: top;\n",
       "    }\n",
       "\n",
       "    .dataframe thead th {\n",
       "        text-align: right;\n",
       "    }\n",
       "</style>\n",
       "<table border=\"1\" class=\"dataframe\">\n",
       "  <thead>\n",
       "    <tr style=\"text-align: right;\">\n",
       "      <th></th>\n",
       "      <th>title</th>\n",
       "      <th>director</th>\n",
       "      <th>cast</th>\n",
       "      <th>country</th>\n",
       "      <th>rating</th>\n",
       "      <th>genres</th>\n",
       "    </tr>\n",
       "  </thead>\n",
       "  <tbody>\n",
       "    <tr>\n",
       "      <th>0</th>\n",
       "      <td>Sankofa</td>\n",
       "      <td>Haile Gerima</td>\n",
       "      <td>Kofi Ghanaba, Oyafunmike Ogunlano, Alexandra D...</td>\n",
       "      <td>United States, Ghana, Burkina Faso, United Kin...</td>\n",
       "      <td>TV-MA</td>\n",
       "      <td>Dramas, Independent Movies, International Movies</td>\n",
       "    </tr>\n",
       "    <tr>\n",
       "      <th>1</th>\n",
       "      <td>The Starling</td>\n",
       "      <td>Theodore Melfi</td>\n",
       "      <td>Melissa McCarthy, Chris O'Dowd, Kevin Kline, T...</td>\n",
       "      <td>United States</td>\n",
       "      <td>PG-13</td>\n",
       "      <td>Comedies, Dramas</td>\n",
       "    </tr>\n",
       "    <tr>\n",
       "      <th>2</th>\n",
       "      <td>Je Suis Karl</td>\n",
       "      <td>Christian Schwochow</td>\n",
       "      <td>Luna Wedler, Jannis Niewöhner, Milan Peschel, ...</td>\n",
       "      <td>Germany, Czech Republic</td>\n",
       "      <td>TV-MA</td>\n",
       "      <td>Dramas, International Movies</td>\n",
       "    </tr>\n",
       "    <tr>\n",
       "      <th>3</th>\n",
       "      <td>Jeans</td>\n",
       "      <td>S. Shankar</td>\n",
       "      <td>Prashanth, Aishwarya Rai Bachchan, Sri Lakshmi...</td>\n",
       "      <td>India</td>\n",
       "      <td>TV-14</td>\n",
       "      <td>Comedies, International Movies, Romantic Movies</td>\n",
       "    </tr>\n",
       "    <tr>\n",
       "      <th>4</th>\n",
       "      <td>Grown Ups</td>\n",
       "      <td>Dennis Dugan</td>\n",
       "      <td>Adam Sandler, Kevin James, Chris Rock, David S...</td>\n",
       "      <td>United States</td>\n",
       "      <td>PG-13</td>\n",
       "      <td>Comedies</td>\n",
       "    </tr>\n",
       "  </tbody>\n",
       "</table>\n",
       "</div>"
      ],
      "text/plain": [
       "          title             director  \\\n",
       "0       Sankofa         Haile Gerima   \n",
       "1  The Starling       Theodore Melfi   \n",
       "2  Je Suis Karl  Christian Schwochow   \n",
       "3         Jeans           S. Shankar   \n",
       "4     Grown Ups         Dennis Dugan   \n",
       "\n",
       "                                                cast  \\\n",
       "0  Kofi Ghanaba, Oyafunmike Ogunlano, Alexandra D...   \n",
       "1  Melissa McCarthy, Chris O'Dowd, Kevin Kline, T...   \n",
       "2  Luna Wedler, Jannis Niewöhner, Milan Peschel, ...   \n",
       "3  Prashanth, Aishwarya Rai Bachchan, Sri Lakshmi...   \n",
       "4  Adam Sandler, Kevin James, Chris Rock, David S...   \n",
       "\n",
       "                                             country rating  \\\n",
       "0  United States, Ghana, Burkina Faso, United Kin...  TV-MA   \n",
       "1                                      United States  PG-13   \n",
       "2                            Germany, Czech Republic  TV-MA   \n",
       "3                                              India  TV-14   \n",
       "4                                      United States  PG-13   \n",
       "\n",
       "                                             genres  \n",
       "0  Dramas, Independent Movies, International Movies  \n",
       "1                                  Comedies, Dramas  \n",
       "2                      Dramas, International Movies  \n",
       "3   Comedies, International Movies, Romantic Movies  \n",
       "4                                          Comedies  "
      ]
     },
     "execution_count": 11,
     "metadata": {},
     "output_type": "execute_result"
    }
   ],
   "source": [
    "# Selecting features for working \n",
    "movies = movies_df[['title','director', 'cast', 'country', 'rating', 'genres']]\n",
    "movies.head()"
   ]
  },
  {
   "cell_type": "code",
   "execution_count": 12,
   "id": "39f2959c-0add-47c4-bfb6-a10fdab3484d",
   "metadata": {
    "id": "39f2959c-0add-47c4-bfb6-a10fdab3484d",
    "outputId": "486ae631-69dc-4c68-e4c6-0bb75891e287"
   },
   "outputs": [
    {
     "data": {
      "text/html": [
       "<div>\n",
       "<style scoped>\n",
       "    .dataframe tbody tr th:only-of-type {\n",
       "        vertical-align: middle;\n",
       "    }\n",
       "\n",
       "    .dataframe tbody tr th {\n",
       "        vertical-align: top;\n",
       "    }\n",
       "\n",
       "    .dataframe thead th {\n",
       "        text-align: right;\n",
       "    }\n",
       "</style>\n",
       "<table border=\"1\" class=\"dataframe\">\n",
       "  <thead>\n",
       "    <tr style=\"text-align: right;\">\n",
       "      <th></th>\n",
       "      <th>count</th>\n",
       "      <th>unique</th>\n",
       "      <th>top</th>\n",
       "      <th>freq</th>\n",
       "    </tr>\n",
       "  </thead>\n",
       "  <tbody>\n",
       "    <tr>\n",
       "      <th>title</th>\n",
       "      <td>5186</td>\n",
       "      <td>5186</td>\n",
       "      <td>Sankofa</td>\n",
       "      <td>1</td>\n",
       "    </tr>\n",
       "    <tr>\n",
       "      <th>director</th>\n",
       "      <td>5186</td>\n",
       "      <td>3829</td>\n",
       "      <td>Raúl Campos, Jan Suter</td>\n",
       "      <td>18</td>\n",
       "    </tr>\n",
       "    <tr>\n",
       "      <th>cast</th>\n",
       "      <td>5186</td>\n",
       "      <td>5062</td>\n",
       "      <td>Samuel West</td>\n",
       "      <td>10</td>\n",
       "    </tr>\n",
       "    <tr>\n",
       "      <th>country</th>\n",
       "      <td>5186</td>\n",
       "      <td>594</td>\n",
       "      <td>United States</td>\n",
       "      <td>1819</td>\n",
       "    </tr>\n",
       "    <tr>\n",
       "      <th>rating</th>\n",
       "      <td>5186</td>\n",
       "      <td>15</td>\n",
       "      <td>TV-MA</td>\n",
       "      <td>1741</td>\n",
       "    </tr>\n",
       "    <tr>\n",
       "      <th>genres</th>\n",
       "      <td>5186</td>\n",
       "      <td>268</td>\n",
       "      <td>Dramas, International Movies</td>\n",
       "      <td>336</td>\n",
       "    </tr>\n",
       "  </tbody>\n",
       "</table>\n",
       "</div>"
      ],
      "text/plain": [
       "         count unique                           top  freq\n",
       "title     5186   5186                       Sankofa     1\n",
       "director  5186   3829        Raúl Campos, Jan Suter    18\n",
       "cast      5186   5062                   Samuel West    10\n",
       "country   5186    594                 United States  1819\n",
       "rating    5186     15                         TV-MA  1741\n",
       "genres    5186    268  Dramas, International Movies   336"
      ]
     },
     "execution_count": 12,
     "metadata": {},
     "output_type": "execute_result"
    }
   ],
   "source": [
    "movies.describe().T"
   ]
  },
  {
   "cell_type": "markdown",
   "id": "492b6aec-b0dd-48cb-b90b-eb7c64e994e8",
   "metadata": {
    "id": "492b6aec-b0dd-48cb-b90b-eb7c64e994e8",
    "tags": []
   },
   "source": [
    "#### **FOR MOVIES RECOMMENDATIONS WE WOULD MAKE USE OF THE FOLLOWING FEATURES:**\n",
    "- DIRECTOR\n",
    "- CAST\n",
    "- COUNTRY\n",
    "- GENRES"
   ]
  },
  {
   "cell_type": "markdown",
   "id": "0f4e6dc4-30e3-4938-ab18-f93043a5b817",
   "metadata": {
    "id": "0f4e6dc4-30e3-4938-ab18-f93043a5b817",
    "tags": []
   },
   "source": [
    "### Preparing data for Vectorization"
   ]
  },
  {
   "cell_type": "code",
   "execution_count": 13,
   "id": "fc14101e-7272-4346-856a-1e12d8b42a59",
   "metadata": {
    "id": "fc14101e-7272-4346-856a-1e12d8b42a59",
    "outputId": "614d4eb6-df16-4954-f712-78cf007e51b0"
   },
   "outputs": [
    {
     "data": {
      "text/html": [
       "<div>\n",
       "<style scoped>\n",
       "    .dataframe tbody tr th:only-of-type {\n",
       "        vertical-align: middle;\n",
       "    }\n",
       "\n",
       "    .dataframe tbody tr th {\n",
       "        vertical-align: top;\n",
       "    }\n",
       "\n",
       "    .dataframe thead th {\n",
       "        text-align: right;\n",
       "    }\n",
       "</style>\n",
       "<table border=\"1\" class=\"dataframe\">\n",
       "  <thead>\n",
       "    <tr style=\"text-align: right;\">\n",
       "      <th></th>\n",
       "      <th>title</th>\n",
       "      <th>director</th>\n",
       "      <th>cast</th>\n",
       "      <th>country</th>\n",
       "      <th>rating</th>\n",
       "      <th>genres</th>\n",
       "    </tr>\n",
       "  </thead>\n",
       "  <tbody>\n",
       "    <tr>\n",
       "      <th>0</th>\n",
       "      <td>Sankofa</td>\n",
       "      <td>Haile Gerima</td>\n",
       "      <td>Kofi Ghanaba, Oyafunmike Ogunlano, Alexandra D...</td>\n",
       "      <td>United States Ghana Burkina Faso United Kingdo...</td>\n",
       "      <td>TV-MA</td>\n",
       "      <td>Dramas, Independent Movies, International Movies</td>\n",
       "    </tr>\n",
       "    <tr>\n",
       "      <th>1</th>\n",
       "      <td>The Starling</td>\n",
       "      <td>Theodore Melfi</td>\n",
       "      <td>Melissa McCarthy, Chris O'Dowd, Kevin Kline, T...</td>\n",
       "      <td>United States</td>\n",
       "      <td>PG-13</td>\n",
       "      <td>Comedies, Dramas</td>\n",
       "    </tr>\n",
       "    <tr>\n",
       "      <th>2</th>\n",
       "      <td>Je Suis Karl</td>\n",
       "      <td>Christian Schwochow</td>\n",
       "      <td>Luna Wedler, Jannis Niewöhner, Milan Peschel, ...</td>\n",
       "      <td>Germany Czech Republic</td>\n",
       "      <td>TV-MA</td>\n",
       "      <td>Dramas, International Movies</td>\n",
       "    </tr>\n",
       "    <tr>\n",
       "      <th>3</th>\n",
       "      <td>Jeans</td>\n",
       "      <td>S. Shankar</td>\n",
       "      <td>Prashanth, Aishwarya Rai Bachchan, Sri Lakshmi...</td>\n",
       "      <td>India</td>\n",
       "      <td>TV-14</td>\n",
       "      <td>Comedies, International Movies, Romantic Movies</td>\n",
       "    </tr>\n",
       "    <tr>\n",
       "      <th>4</th>\n",
       "      <td>Grown Ups</td>\n",
       "      <td>Dennis Dugan</td>\n",
       "      <td>Adam Sandler, Kevin James, Chris Rock, David S...</td>\n",
       "      <td>United States</td>\n",
       "      <td>PG-13</td>\n",
       "      <td>Comedies</td>\n",
       "    </tr>\n",
       "  </tbody>\n",
       "</table>\n",
       "</div>"
      ],
      "text/plain": [
       "          title             director  \\\n",
       "0       Sankofa         Haile Gerima   \n",
       "1  The Starling       Theodore Melfi   \n",
       "2  Je Suis Karl  Christian Schwochow   \n",
       "3         Jeans           S. Shankar   \n",
       "4     Grown Ups         Dennis Dugan   \n",
       "\n",
       "                                                cast  \\\n",
       "0  Kofi Ghanaba, Oyafunmike Ogunlano, Alexandra D...   \n",
       "1  Melissa McCarthy, Chris O'Dowd, Kevin Kline, T...   \n",
       "2  Luna Wedler, Jannis Niewöhner, Milan Peschel, ...   \n",
       "3  Prashanth, Aishwarya Rai Bachchan, Sri Lakshmi...   \n",
       "4  Adam Sandler, Kevin James, Chris Rock, David S...   \n",
       "\n",
       "                                             country rating  \\\n",
       "0  United States Ghana Burkina Faso United Kingdo...  TV-MA   \n",
       "1                                      United States  PG-13   \n",
       "2                             Germany Czech Republic  TV-MA   \n",
       "3                                              India  TV-14   \n",
       "4                                      United States  PG-13   \n",
       "\n",
       "                                             genres  \n",
       "0  Dramas, Independent Movies, International Movies  \n",
       "1                                  Comedies, Dramas  \n",
       "2                      Dramas, International Movies  \n",
       "3   Comedies, International Movies, Romantic Movies  \n",
       "4                                          Comedies  "
      ]
     },
     "execution_count": 13,
     "metadata": {},
     "output_type": "execute_result"
    }
   ],
   "source": [
    "# Remove stopwords\n",
    "movies['director'] = movies['director'].apply(nfx.remove_stopwords)\n",
    "movies['cast'] = movies['cast'].apply(nfx.remove_stopwords)\n",
    "movies['country'] = movies['country'].apply(nfx.remove_stopwords)\n",
    "movies['genres'] = movies['genres'].apply(nfx.remove_stopwords)\n",
    "\n",
    "# # Remove special characters\n",
    "movies['country'] = movies['country'].apply(nfx.remove_special_characters)\n",
    "\n",
    "movies.head()"
   ]
  },
  {
   "cell_type": "markdown",
   "id": "1e324932-c368-4ca9-a3b5-b4b9278b8dbe",
   "metadata": {
    "id": "1e324932-c368-4ca9-a3b5-b4b9278b8dbe",
    "tags": []
   },
   "source": [
    "### Vectorizing Data"
   ]
  },
  {
   "cell_type": "code",
   "execution_count": 14,
   "id": "caac02f7-18ac-4451-a378-a900e5d7cf13",
   "metadata": {
    "id": "caac02f7-18ac-4451-a378-a900e5d7cf13"
   },
   "outputs": [],
   "source": [
    "# Vectorizing Data\n",
    "countVector = CountVectorizer(binary= True)\n",
    "country = countVector.fit_transform(movies['country']).toarray()\n",
    "\n",
    "countVector = CountVectorizer(binary= True,\n",
    "                             tokenizer=lambda x:x.split(','))\n",
    "director = countVector.fit_transform(movies['director']).toarray()\n",
    "cast = countVector.fit_transform(movies['cast']).toarray()\n",
    "genres = countVector.fit_transform(movies['genres']).toarray()"
   ]
  },
  {
   "cell_type": "code",
   "execution_count": 15,
   "id": "13715939-a52d-4b40-98a5-4e765f89345a",
   "metadata": {
    "id": "13715939-a52d-4b40-98a5-4e765f89345a"
   },
   "outputs": [],
   "source": [
    "# Turning vectors to dataframe\n",
    "binary_director = pd.DataFrame(director).transpose()\n",
    "binary_cast = pd.DataFrame(cast).transpose()\n",
    "binary_country = pd.DataFrame(country).transpose()\n",
    "binary_genres = pd.DataFrame(genres).transpose()"
   ]
  },
  {
   "cell_type": "code",
   "execution_count": 16,
   "id": "0396502e-5b57-4747-b124-a4a96b0d52f3",
   "metadata": {
    "id": "0396502e-5b57-4747-b124-a4a96b0d52f3",
    "outputId": "f381f3f7-ea42-451f-b3e3-1301e4ed2eb4"
   },
   "outputs": [
    {
     "data": {
      "text/html": [
       "<div>\n",
       "<style scoped>\n",
       "    .dataframe tbody tr th:only-of-type {\n",
       "        vertical-align: middle;\n",
       "    }\n",
       "\n",
       "    .dataframe tbody tr th {\n",
       "        vertical-align: top;\n",
       "    }\n",
       "\n",
       "    .dataframe thead th {\n",
       "        text-align: right;\n",
       "    }\n",
       "</style>\n",
       "<table border=\"1\" class=\"dataframe\">\n",
       "  <thead>\n",
       "    <tr style=\"text-align: right;\">\n",
       "      <th></th>\n",
       "      <th>0</th>\n",
       "      <th>1</th>\n",
       "      <th>2</th>\n",
       "      <th>3</th>\n",
       "      <th>4</th>\n",
       "      <th>5</th>\n",
       "      <th>6</th>\n",
       "      <th>7</th>\n",
       "      <th>8</th>\n",
       "      <th>9</th>\n",
       "      <th>...</th>\n",
       "      <th>30813</th>\n",
       "      <th>30814</th>\n",
       "      <th>30815</th>\n",
       "      <th>30816</th>\n",
       "      <th>30817</th>\n",
       "      <th>30818</th>\n",
       "      <th>30819</th>\n",
       "      <th>30820</th>\n",
       "      <th>30821</th>\n",
       "      <th>30822</th>\n",
       "    </tr>\n",
       "  </thead>\n",
       "  <tbody>\n",
       "    <tr>\n",
       "      <th>0</th>\n",
       "      <td>0</td>\n",
       "      <td>0</td>\n",
       "      <td>0</td>\n",
       "      <td>0</td>\n",
       "      <td>0</td>\n",
       "      <td>0</td>\n",
       "      <td>0</td>\n",
       "      <td>0</td>\n",
       "      <td>0</td>\n",
       "      <td>0</td>\n",
       "      <td>...</td>\n",
       "      <td>0</td>\n",
       "      <td>0</td>\n",
       "      <td>0</td>\n",
       "      <td>0</td>\n",
       "      <td>0</td>\n",
       "      <td>0</td>\n",
       "      <td>0</td>\n",
       "      <td>0</td>\n",
       "      <td>0</td>\n",
       "      <td>0</td>\n",
       "    </tr>\n",
       "    <tr>\n",
       "      <th>1</th>\n",
       "      <td>0</td>\n",
       "      <td>0</td>\n",
       "      <td>0</td>\n",
       "      <td>0</td>\n",
       "      <td>0</td>\n",
       "      <td>0</td>\n",
       "      <td>0</td>\n",
       "      <td>0</td>\n",
       "      <td>0</td>\n",
       "      <td>0</td>\n",
       "      <td>...</td>\n",
       "      <td>0</td>\n",
       "      <td>0</td>\n",
       "      <td>0</td>\n",
       "      <td>0</td>\n",
       "      <td>0</td>\n",
       "      <td>0</td>\n",
       "      <td>0</td>\n",
       "      <td>0</td>\n",
       "      <td>0</td>\n",
       "      <td>0</td>\n",
       "    </tr>\n",
       "    <tr>\n",
       "      <th>2</th>\n",
       "      <td>0</td>\n",
       "      <td>0</td>\n",
       "      <td>0</td>\n",
       "      <td>0</td>\n",
       "      <td>0</td>\n",
       "      <td>0</td>\n",
       "      <td>0</td>\n",
       "      <td>0</td>\n",
       "      <td>0</td>\n",
       "      <td>0</td>\n",
       "      <td>...</td>\n",
       "      <td>0</td>\n",
       "      <td>0</td>\n",
       "      <td>0</td>\n",
       "      <td>0</td>\n",
       "      <td>0</td>\n",
       "      <td>0</td>\n",
       "      <td>0</td>\n",
       "      <td>0</td>\n",
       "      <td>0</td>\n",
       "      <td>0</td>\n",
       "    </tr>\n",
       "    <tr>\n",
       "      <th>3</th>\n",
       "      <td>0</td>\n",
       "      <td>0</td>\n",
       "      <td>0</td>\n",
       "      <td>0</td>\n",
       "      <td>0</td>\n",
       "      <td>0</td>\n",
       "      <td>0</td>\n",
       "      <td>0</td>\n",
       "      <td>0</td>\n",
       "      <td>0</td>\n",
       "      <td>...</td>\n",
       "      <td>0</td>\n",
       "      <td>0</td>\n",
       "      <td>0</td>\n",
       "      <td>0</td>\n",
       "      <td>0</td>\n",
       "      <td>0</td>\n",
       "      <td>0</td>\n",
       "      <td>0</td>\n",
       "      <td>0</td>\n",
       "      <td>0</td>\n",
       "    </tr>\n",
       "    <tr>\n",
       "      <th>4</th>\n",
       "      <td>0</td>\n",
       "      <td>0</td>\n",
       "      <td>0</td>\n",
       "      <td>0</td>\n",
       "      <td>0</td>\n",
       "      <td>0</td>\n",
       "      <td>0</td>\n",
       "      <td>0</td>\n",
       "      <td>0</td>\n",
       "      <td>0</td>\n",
       "      <td>...</td>\n",
       "      <td>0</td>\n",
       "      <td>0</td>\n",
       "      <td>0</td>\n",
       "      <td>0</td>\n",
       "      <td>0</td>\n",
       "      <td>0</td>\n",
       "      <td>0</td>\n",
       "      <td>0</td>\n",
       "      <td>0</td>\n",
       "      <td>0</td>\n",
       "    </tr>\n",
       "    <tr>\n",
       "      <th>...</th>\n",
       "      <td>...</td>\n",
       "      <td>...</td>\n",
       "      <td>...</td>\n",
       "      <td>...</td>\n",
       "      <td>...</td>\n",
       "      <td>...</td>\n",
       "      <td>...</td>\n",
       "      <td>...</td>\n",
       "      <td>...</td>\n",
       "      <td>...</td>\n",
       "      <td>...</td>\n",
       "      <td>...</td>\n",
       "      <td>...</td>\n",
       "      <td>...</td>\n",
       "      <td>...</td>\n",
       "      <td>...</td>\n",
       "      <td>...</td>\n",
       "      <td>...</td>\n",
       "      <td>...</td>\n",
       "      <td>...</td>\n",
       "      <td>...</td>\n",
       "    </tr>\n",
       "    <tr>\n",
       "      <th>5181</th>\n",
       "      <td>0</td>\n",
       "      <td>0</td>\n",
       "      <td>0</td>\n",
       "      <td>0</td>\n",
       "      <td>0</td>\n",
       "      <td>0</td>\n",
       "      <td>0</td>\n",
       "      <td>0</td>\n",
       "      <td>0</td>\n",
       "      <td>0</td>\n",
       "      <td>...</td>\n",
       "      <td>0</td>\n",
       "      <td>0</td>\n",
       "      <td>0</td>\n",
       "      <td>0</td>\n",
       "      <td>0</td>\n",
       "      <td>0</td>\n",
       "      <td>0</td>\n",
       "      <td>0</td>\n",
       "      <td>0</td>\n",
       "      <td>0</td>\n",
       "    </tr>\n",
       "    <tr>\n",
       "      <th>5182</th>\n",
       "      <td>0</td>\n",
       "      <td>0</td>\n",
       "      <td>0</td>\n",
       "      <td>0</td>\n",
       "      <td>0</td>\n",
       "      <td>0</td>\n",
       "      <td>0</td>\n",
       "      <td>0</td>\n",
       "      <td>0</td>\n",
       "      <td>0</td>\n",
       "      <td>...</td>\n",
       "      <td>0</td>\n",
       "      <td>0</td>\n",
       "      <td>0</td>\n",
       "      <td>0</td>\n",
       "      <td>0</td>\n",
       "      <td>0</td>\n",
       "      <td>0</td>\n",
       "      <td>0</td>\n",
       "      <td>0</td>\n",
       "      <td>0</td>\n",
       "    </tr>\n",
       "    <tr>\n",
       "      <th>5183</th>\n",
       "      <td>0</td>\n",
       "      <td>0</td>\n",
       "      <td>0</td>\n",
       "      <td>0</td>\n",
       "      <td>0</td>\n",
       "      <td>0</td>\n",
       "      <td>0</td>\n",
       "      <td>0</td>\n",
       "      <td>0</td>\n",
       "      <td>0</td>\n",
       "      <td>...</td>\n",
       "      <td>0</td>\n",
       "      <td>0</td>\n",
       "      <td>0</td>\n",
       "      <td>0</td>\n",
       "      <td>0</td>\n",
       "      <td>0</td>\n",
       "      <td>0</td>\n",
       "      <td>0</td>\n",
       "      <td>0</td>\n",
       "      <td>0</td>\n",
       "    </tr>\n",
       "    <tr>\n",
       "      <th>5184</th>\n",
       "      <td>0</td>\n",
       "      <td>0</td>\n",
       "      <td>0</td>\n",
       "      <td>0</td>\n",
       "      <td>0</td>\n",
       "      <td>0</td>\n",
       "      <td>0</td>\n",
       "      <td>0</td>\n",
       "      <td>0</td>\n",
       "      <td>0</td>\n",
       "      <td>...</td>\n",
       "      <td>0</td>\n",
       "      <td>0</td>\n",
       "      <td>0</td>\n",
       "      <td>0</td>\n",
       "      <td>0</td>\n",
       "      <td>0</td>\n",
       "      <td>0</td>\n",
       "      <td>0</td>\n",
       "      <td>0</td>\n",
       "      <td>0</td>\n",
       "    </tr>\n",
       "    <tr>\n",
       "      <th>5185</th>\n",
       "      <td>0</td>\n",
       "      <td>0</td>\n",
       "      <td>0</td>\n",
       "      <td>0</td>\n",
       "      <td>0</td>\n",
       "      <td>0</td>\n",
       "      <td>0</td>\n",
       "      <td>0</td>\n",
       "      <td>0</td>\n",
       "      <td>0</td>\n",
       "      <td>...</td>\n",
       "      <td>0</td>\n",
       "      <td>0</td>\n",
       "      <td>0</td>\n",
       "      <td>0</td>\n",
       "      <td>0</td>\n",
       "      <td>0</td>\n",
       "      <td>0</td>\n",
       "      <td>0</td>\n",
       "      <td>0</td>\n",
       "      <td>0</td>\n",
       "    </tr>\n",
       "  </tbody>\n",
       "</table>\n",
       "<p>5186 rows × 30823 columns</p>\n",
       "</div>"
      ],
      "text/plain": [
       "      0      1      2      3      4      5      6      7      8      9      \\\n",
       "0         0      0      0      0      0      0      0      0      0      0   \n",
       "1         0      0      0      0      0      0      0      0      0      0   \n",
       "2         0      0      0      0      0      0      0      0      0      0   \n",
       "3         0      0      0      0      0      0      0      0      0      0   \n",
       "4         0      0      0      0      0      0      0      0      0      0   \n",
       "...     ...    ...    ...    ...    ...    ...    ...    ...    ...    ...   \n",
       "5181      0      0      0      0      0      0      0      0      0      0   \n",
       "5182      0      0      0      0      0      0      0      0      0      0   \n",
       "5183      0      0      0      0      0      0      0      0      0      0   \n",
       "5184      0      0      0      0      0      0      0      0      0      0   \n",
       "5185      0      0      0      0      0      0      0      0      0      0   \n",
       "\n",
       "      ...  30813  30814  30815  30816  30817  30818  30819  30820  30821  \\\n",
       "0     ...      0      0      0      0      0      0      0      0      0   \n",
       "1     ...      0      0      0      0      0      0      0      0      0   \n",
       "2     ...      0      0      0      0      0      0      0      0      0   \n",
       "3     ...      0      0      0      0      0      0      0      0      0   \n",
       "4     ...      0      0      0      0      0      0      0      0      0   \n",
       "...   ...    ...    ...    ...    ...    ...    ...    ...    ...    ...   \n",
       "5181  ...      0      0      0      0      0      0      0      0      0   \n",
       "5182  ...      0      0      0      0      0      0      0      0      0   \n",
       "5183  ...      0      0      0      0      0      0      0      0      0   \n",
       "5184  ...      0      0      0      0      0      0      0      0      0   \n",
       "5185  ...      0      0      0      0      0      0      0      0      0   \n",
       "\n",
       "      30822  \n",
       "0         0  \n",
       "1         0  \n",
       "2         0  \n",
       "3         0  \n",
       "4         0  \n",
       "...     ...  \n",
       "5181      0  \n",
       "5182      0  \n",
       "5183      0  \n",
       "5184      0  \n",
       "5185      0  \n",
       "\n",
       "[5186 rows x 30823 columns]"
      ]
     },
     "execution_count": 16,
     "metadata": {},
     "output_type": "execute_result"
    }
   ],
   "source": [
    "# Concating Dataframe\n",
    "movies_binary = pd.concat([binary_director, binary_cast,  binary_country, binary_genres], axis=0,ignore_index=True)\n",
    "movies_binary.T"
   ]
  },
  {
   "cell_type": "code",
   "execution_count": 17,
   "id": "b7db048f-4c1b-4566-91af-f2af99cff4bc",
   "metadata": {
    "id": "b7db048f-4c1b-4566-91af-f2af99cff4bc",
    "outputId": "0d7052b5-e882-4f47-a6d8-ce0193678f97"
   },
   "outputs": [
    {
     "data": {
      "text/plain": [
       "array([[1.        , 0.1118034 , 0.16269784, ..., 0.12909944, 0.11952286,\n",
       "        0.12403473],\n",
       "       [0.1118034 , 1.        , 0.        , ..., 0.21650635, 0.13363062,\n",
       "        0.        ],\n",
       "       [0.16269784, 0.        , 1.        , ..., 0.        , 0.        ,\n",
       "        0.13453456],\n",
       "       ...,\n",
       "       [0.12909944, 0.21650635, 0.        , ..., 1.        , 0.15430335,\n",
       "        0.        ],\n",
       "       [0.11952286, 0.13363062, 0.        , ..., 0.15430335, 1.        ,\n",
       "        0.        ],\n",
       "       [0.12403473, 0.        , 0.13453456, ..., 0.        , 0.        ,\n",
       "        1.        ]])"
      ]
     },
     "execution_count": 17,
     "metadata": {},
     "output_type": "execute_result"
    }
   ],
   "source": [
    "movies_sim = cosine_similarity(movies_binary.T)\n",
    "movies_sim"
   ]
  },
  {
   "cell_type": "code",
   "execution_count": 18,
   "id": "4be2633a-8787-4c78-8e2a-0b9991818159",
   "metadata": {
    "id": "4be2633a-8787-4c78-8e2a-0b9991818159",
    "outputId": "7bab6fad-1d6e-4a4d-aa01-e91f43734a86"
   },
   "outputs": [
    {
     "data": {
      "text/plain": [
       "(5186, 5186)"
      ]
     },
     "execution_count": 18,
     "metadata": {},
     "output_type": "execute_result"
    }
   ],
   "source": [
    "movies_sim.shape"
   ]
  },
  {
   "cell_type": "markdown",
   "id": "d1e30504-541d-4d07-a0a5-bc23ef8671d5",
   "metadata": {
    "id": "d1e30504-541d-4d07-a0a5-bc23ef8671d5"
   },
   "source": [
    "## TV Show Recommendation Engine"
   ]
  },
  {
   "cell_type": "code",
   "execution_count": 20,
   "id": "4e416fcb-3412-45c6-8061-dbac9c7772d4",
   "metadata": {
    "id": "4e416fcb-3412-45c6-8061-dbac9c7772d4",
    "outputId": "faf9b676-74ab-424d-c31e-62e7055cbc6e"
   },
   "outputs": [
    {
     "data": {
      "text/html": [
       "<div>\n",
       "<style scoped>\n",
       "    .dataframe tbody tr th:only-of-type {\n",
       "        vertical-align: middle;\n",
       "    }\n",
       "\n",
       "    .dataframe tbody tr th {\n",
       "        vertical-align: top;\n",
       "    }\n",
       "\n",
       "    .dataframe thead th {\n",
       "        text-align: right;\n",
       "    }\n",
       "</style>\n",
       "<table border=\"1\" class=\"dataframe\">\n",
       "  <thead>\n",
       "    <tr style=\"text-align: right;\">\n",
       "      <th></th>\n",
       "      <th>show_id</th>\n",
       "      <th>type</th>\n",
       "      <th>title</th>\n",
       "      <th>director</th>\n",
       "      <th>cast</th>\n",
       "      <th>country</th>\n",
       "      <th>date_added</th>\n",
       "      <th>release_year</th>\n",
       "      <th>rating</th>\n",
       "      <th>duration</th>\n",
       "      <th>genres</th>\n",
       "      <th>description</th>\n",
       "    </tr>\n",
       "  </thead>\n",
       "  <tbody>\n",
       "    <tr>\n",
       "      <th>0</th>\n",
       "      <td>s2</td>\n",
       "      <td>TV Show</td>\n",
       "      <td>Blood &amp; Water</td>\n",
       "      <td>NaN</td>\n",
       "      <td>Ama Qamata, Khosi Ngema, Gail Mabalane, Thaban...</td>\n",
       "      <td>South Africa</td>\n",
       "      <td>September 24, 2021</td>\n",
       "      <td>2021</td>\n",
       "      <td>TV-MA</td>\n",
       "      <td>2 Seasons</td>\n",
       "      <td>International TV Shows, TV Dramas, TV Mysteries</td>\n",
       "      <td>After crossing paths at a party, a Cape Town t...</td>\n",
       "    </tr>\n",
       "    <tr>\n",
       "      <th>1</th>\n",
       "      <td>s3</td>\n",
       "      <td>TV Show</td>\n",
       "      <td>Ganglands</td>\n",
       "      <td>Julien Leclercq</td>\n",
       "      <td>Sami Bouajila, Tracy Gotoas, Samuel Jouy, Nabi...</td>\n",
       "      <td>NaN</td>\n",
       "      <td>September 24, 2021</td>\n",
       "      <td>2021</td>\n",
       "      <td>TV-MA</td>\n",
       "      <td>1 Season</td>\n",
       "      <td>Crime TV Shows, International TV Shows, TV Act...</td>\n",
       "      <td>To protect his family from a powerful drug lor...</td>\n",
       "    </tr>\n",
       "    <tr>\n",
       "      <th>2</th>\n",
       "      <td>s4</td>\n",
       "      <td>TV Show</td>\n",
       "      <td>Jailbirds New Orleans</td>\n",
       "      <td>NaN</td>\n",
       "      <td>NaN</td>\n",
       "      <td>NaN</td>\n",
       "      <td>September 24, 2021</td>\n",
       "      <td>2021</td>\n",
       "      <td>TV-MA</td>\n",
       "      <td>1 Season</td>\n",
       "      <td>Docuseries, Reality TV</td>\n",
       "      <td>Feuds, flirtations and toilet talk go down amo...</td>\n",
       "    </tr>\n",
       "    <tr>\n",
       "      <th>3</th>\n",
       "      <td>s5</td>\n",
       "      <td>TV Show</td>\n",
       "      <td>Kota Factory</td>\n",
       "      <td>NaN</td>\n",
       "      <td>Mayur More, Jitendra Kumar, Ranjan Raj, Alam K...</td>\n",
       "      <td>India</td>\n",
       "      <td>September 24, 2021</td>\n",
       "      <td>2021</td>\n",
       "      <td>TV-MA</td>\n",
       "      <td>2 Seasons</td>\n",
       "      <td>International TV Shows, Romantic TV Shows, TV ...</td>\n",
       "      <td>In a city of coaching centers known to train I...</td>\n",
       "    </tr>\n",
       "    <tr>\n",
       "      <th>4</th>\n",
       "      <td>s6</td>\n",
       "      <td>TV Show</td>\n",
       "      <td>Midnight Mass</td>\n",
       "      <td>Mike Flanagan</td>\n",
       "      <td>Kate Siegel, Zach Gilford, Hamish Linklater, H...</td>\n",
       "      <td>NaN</td>\n",
       "      <td>September 24, 2021</td>\n",
       "      <td>2021</td>\n",
       "      <td>TV-MA</td>\n",
       "      <td>1 Season</td>\n",
       "      <td>TV Dramas, TV Horror, TV Mysteries</td>\n",
       "      <td>The arrival of a charismatic young priest brin...</td>\n",
       "    </tr>\n",
       "  </tbody>\n",
       "</table>\n",
       "</div>"
      ],
      "text/plain": [
       "  show_id     type                  title         director  \\\n",
       "0      s2  TV Show          Blood & Water              NaN   \n",
       "1      s3  TV Show              Ganglands  Julien Leclercq   \n",
       "2      s4  TV Show  Jailbirds New Orleans              NaN   \n",
       "3      s5  TV Show           Kota Factory              NaN   \n",
       "4      s6  TV Show          Midnight Mass    Mike Flanagan   \n",
       "\n",
       "                                                cast       country  \\\n",
       "0  Ama Qamata, Khosi Ngema, Gail Mabalane, Thaban...  South Africa   \n",
       "1  Sami Bouajila, Tracy Gotoas, Samuel Jouy, Nabi...           NaN   \n",
       "2                                                NaN           NaN   \n",
       "3  Mayur More, Jitendra Kumar, Ranjan Raj, Alam K...         India   \n",
       "4  Kate Siegel, Zach Gilford, Hamish Linklater, H...           NaN   \n",
       "\n",
       "           date_added  release_year rating   duration  \\\n",
       "0  September 24, 2021          2021  TV-MA  2 Seasons   \n",
       "1  September 24, 2021          2021  TV-MA   1 Season   \n",
       "2  September 24, 2021          2021  TV-MA   1 Season   \n",
       "3  September 24, 2021          2021  TV-MA  2 Seasons   \n",
       "4  September 24, 2021          2021  TV-MA   1 Season   \n",
       "\n",
       "                                              genres  \\\n",
       "0    International TV Shows, TV Dramas, TV Mysteries   \n",
       "1  Crime TV Shows, International TV Shows, TV Act...   \n",
       "2                             Docuseries, Reality TV   \n",
       "3  International TV Shows, Romantic TV Shows, TV ...   \n",
       "4                 TV Dramas, TV Horror, TV Mysteries   \n",
       "\n",
       "                                         description  \n",
       "0  After crossing paths at a party, a Cape Town t...  \n",
       "1  To protect his family from a powerful drug lor...  \n",
       "2  Feuds, flirtations and toilet talk go down amo...  \n",
       "3  In a city of coaching centers known to train I...  \n",
       "4  The arrival of a charismatic young priest brin...  "
      ]
     },
     "execution_count": 20,
     "metadata": {},
     "output_type": "execute_result"
    }
   ],
   "source": [
    "# Getting Tv Shows \n",
    "tv_show = df[df['type'] == 'TV Show'].reset_index(drop= True)\n",
    "tv_show.head()"
   ]
  },
  {
   "cell_type": "code",
   "execution_count": 21,
   "id": "5744833c-5850-4637-96e3-a60c1c81f553",
   "metadata": {
    "id": "5744833c-5850-4637-96e3-a60c1c81f553",
    "outputId": "ccc83fef-edb1-4229-d14a-cc8c9b64a757"
   },
   "outputs": [
    {
     "data": {
      "text/plain": [
       "0"
      ]
     },
     "execution_count": 21,
     "metadata": {},
     "output_type": "execute_result"
    }
   ],
   "source": [
    "# Checking for duplicate\n",
    "tv_show.duplicated().sum()"
   ]
  },
  {
   "cell_type": "code",
   "execution_count": 22,
   "id": "d93a1fc9-6278-445c-b0ae-b571c78f1726",
   "metadata": {
    "id": "d93a1fc9-6278-445c-b0ae-b571c78f1726",
    "outputId": "dbde3ec5-5400-4719-ce22-5c3bf5549c38"
   },
   "outputs": [
    {
     "data": {
      "text/plain": [
       "show_id            0\n",
       "type               0\n",
       "title              0\n",
       "director        2446\n",
       "cast             350\n",
       "country          391\n",
       "date_added        10\n",
       "release_year       0\n",
       "rating             2\n",
       "duration           0\n",
       "genres             0\n",
       "description        0\n",
       "dtype: int64"
      ]
     },
     "execution_count": 22,
     "metadata": {},
     "output_type": "execute_result"
    }
   ],
   "source": [
    "# Checking for null values\n",
    "tv_show.isnull().sum()"
   ]
  },
  {
   "cell_type": "code",
   "execution_count": 23,
   "id": "9bfb6f7a-97f5-42e1-a94c-648a218a4f5a",
   "metadata": {
    "id": "9bfb6f7a-97f5-42e1-a94c-648a218a4f5a",
    "outputId": "4a8e519d-a90f-4cf6-efa5-88c8561651bf",
    "tags": []
   },
   "outputs": [
    {
     "data": {
      "text/html": [
       "<div>\n",
       "<style scoped>\n",
       "    .dataframe tbody tr th:only-of-type {\n",
       "        vertical-align: middle;\n",
       "    }\n",
       "\n",
       "    .dataframe tbody tr th {\n",
       "        vertical-align: top;\n",
       "    }\n",
       "\n",
       "    .dataframe thead th {\n",
       "        text-align: right;\n",
       "    }\n",
       "</style>\n",
       "<table border=\"1\" class=\"dataframe\">\n",
       "  <thead>\n",
       "    <tr style=\"text-align: right;\">\n",
       "      <th></th>\n",
       "      <th>show_id</th>\n",
       "      <th>type</th>\n",
       "      <th>title</th>\n",
       "      <th>director</th>\n",
       "      <th>cast</th>\n",
       "      <th>country</th>\n",
       "      <th>date_added</th>\n",
       "      <th>release_year</th>\n",
       "      <th>rating</th>\n",
       "      <th>duration</th>\n",
       "      <th>genres</th>\n",
       "      <th>description</th>\n",
       "    </tr>\n",
       "  </thead>\n",
       "  <tbody>\n",
       "    <tr>\n",
       "      <th>0</th>\n",
       "      <td>s2</td>\n",
       "      <td>TV Show</td>\n",
       "      <td>Blood &amp; Water</td>\n",
       "      <td>NaN</td>\n",
       "      <td>Ama Qamata, Khosi Ngema, Gail Mabalane, Thaban...</td>\n",
       "      <td>South Africa</td>\n",
       "      <td>September 24, 2021</td>\n",
       "      <td>2021</td>\n",
       "      <td>TV-MA</td>\n",
       "      <td>2 Seasons</td>\n",
       "      <td>International TV Shows, TV Dramas, TV Mysteries</td>\n",
       "      <td>After crossing paths at a party, a Cape Town t...</td>\n",
       "    </tr>\n",
       "    <tr>\n",
       "      <th>1</th>\n",
       "      <td>s5</td>\n",
       "      <td>TV Show</td>\n",
       "      <td>Kota Factory</td>\n",
       "      <td>NaN</td>\n",
       "      <td>Mayur More, Jitendra Kumar, Ranjan Raj, Alam K...</td>\n",
       "      <td>India</td>\n",
       "      <td>September 24, 2021</td>\n",
       "      <td>2021</td>\n",
       "      <td>TV-MA</td>\n",
       "      <td>2 Seasons</td>\n",
       "      <td>International TV Shows, Romantic TV Shows, TV ...</td>\n",
       "      <td>In a city of coaching centers known to train I...</td>\n",
       "    </tr>\n",
       "    <tr>\n",
       "      <th>2</th>\n",
       "      <td>s9</td>\n",
       "      <td>TV Show</td>\n",
       "      <td>The Great British Baking Show</td>\n",
       "      <td>Andy Devonshire</td>\n",
       "      <td>Mel Giedroyc, Sue Perkins, Mary Berry, Paul Ho...</td>\n",
       "      <td>United Kingdom</td>\n",
       "      <td>September 24, 2021</td>\n",
       "      <td>2021</td>\n",
       "      <td>TV-14</td>\n",
       "      <td>9 Seasons</td>\n",
       "      <td>British TV Shows, Reality TV</td>\n",
       "      <td>A talented batch of amateur bakers face off in...</td>\n",
       "    </tr>\n",
       "    <tr>\n",
       "      <th>3</th>\n",
       "      <td>s16</td>\n",
       "      <td>TV Show</td>\n",
       "      <td>Dear White People</td>\n",
       "      <td>NaN</td>\n",
       "      <td>Logan Browning, Brandon P. Bell, DeRon Horton,...</td>\n",
       "      <td>United States</td>\n",
       "      <td>September 22, 2021</td>\n",
       "      <td>2021</td>\n",
       "      <td>TV-MA</td>\n",
       "      <td>4 Seasons</td>\n",
       "      <td>TV Comedies, TV Dramas</td>\n",
       "      <td>Students of color navigate the daily slights a...</td>\n",
       "    </tr>\n",
       "    <tr>\n",
       "      <th>4</th>\n",
       "      <td>s18</td>\n",
       "      <td>TV Show</td>\n",
       "      <td>Falsa identidad</td>\n",
       "      <td>NaN</td>\n",
       "      <td>Luis Ernesto Franco, Camila Sodi, Sergio Goyri...</td>\n",
       "      <td>Mexico</td>\n",
       "      <td>September 22, 2021</td>\n",
       "      <td>2020</td>\n",
       "      <td>TV-MA</td>\n",
       "      <td>2 Seasons</td>\n",
       "      <td>Crime TV Shows, Spanish-Language TV Shows, TV ...</td>\n",
       "      <td>Strangers Diego and Isabel flee their home in ...</td>\n",
       "    </tr>\n",
       "  </tbody>\n",
       "</table>\n",
       "</div>"
      ],
      "text/plain": [
       "  show_id     type                          title         director  \\\n",
       "0      s2  TV Show                  Blood & Water              NaN   \n",
       "1      s5  TV Show                   Kota Factory              NaN   \n",
       "2      s9  TV Show  The Great British Baking Show  Andy Devonshire   \n",
       "3     s16  TV Show              Dear White People              NaN   \n",
       "4     s18  TV Show                Falsa identidad              NaN   \n",
       "\n",
       "                                                cast         country  \\\n",
       "0  Ama Qamata, Khosi Ngema, Gail Mabalane, Thaban...    South Africa   \n",
       "1  Mayur More, Jitendra Kumar, Ranjan Raj, Alam K...           India   \n",
       "2  Mel Giedroyc, Sue Perkins, Mary Berry, Paul Ho...  United Kingdom   \n",
       "3  Logan Browning, Brandon P. Bell, DeRon Horton,...   United States   \n",
       "4  Luis Ernesto Franco, Camila Sodi, Sergio Goyri...          Mexico   \n",
       "\n",
       "           date_added  release_year rating   duration  \\\n",
       "0  September 24, 2021          2021  TV-MA  2 Seasons   \n",
       "1  September 24, 2021          2021  TV-MA  2 Seasons   \n",
       "2  September 24, 2021          2021  TV-14  9 Seasons   \n",
       "3  September 22, 2021          2021  TV-MA  4 Seasons   \n",
       "4  September 22, 2021          2020  TV-MA  2 Seasons   \n",
       "\n",
       "                                              genres  \\\n",
       "0    International TV Shows, TV Dramas, TV Mysteries   \n",
       "1  International TV Shows, Romantic TV Shows, TV ...   \n",
       "2                       British TV Shows, Reality TV   \n",
       "3                             TV Comedies, TV Dramas   \n",
       "4  Crime TV Shows, Spanish-Language TV Shows, TV ...   \n",
       "\n",
       "                                         description  \n",
       "0  After crossing paths at a party, a Cape Town t...  \n",
       "1  In a city of coaching centers known to train I...  \n",
       "2  A talented batch of amateur bakers face off in...  \n",
       "3  Students of color navigate the daily slights a...  \n",
       "4  Strangers Diego and Isabel flee their home in ...  "
      ]
     },
     "execution_count": 23,
     "metadata": {},
     "output_type": "execute_result"
    }
   ],
   "source": [
    "# filling NaN manually at rating column so pandas can treat it as a Non null-value\n",
    "tv_show['director'].fillna('NaN', inplace = True)\n",
    "\n",
    "# Dropping null values \n",
    "tv_show.dropna(inplace= True)\n",
    "tv_show = tv_show.reset_index(drop=True)\n",
    "tv_show.head()"
   ]
  },
  {
   "cell_type": "code",
   "execution_count": 24,
   "id": "a4401d5f-82b8-448e-8616-29cac2bf4c41",
   "metadata": {
    "id": "a4401d5f-82b8-448e-8616-29cac2bf4c41",
    "outputId": "1161fe8b-4c98-4e0c-db7d-97e0295f751a"
   },
   "outputs": [
    {
     "data": {
      "text/html": [
       "<div>\n",
       "<style scoped>\n",
       "    .dataframe tbody tr th:only-of-type {\n",
       "        vertical-align: middle;\n",
       "    }\n",
       "\n",
       "    .dataframe tbody tr th {\n",
       "        vertical-align: top;\n",
       "    }\n",
       "\n",
       "    .dataframe thead th {\n",
       "        text-align: right;\n",
       "    }\n",
       "</style>\n",
       "<table border=\"1\" class=\"dataframe\">\n",
       "  <thead>\n",
       "    <tr style=\"text-align: right;\">\n",
       "      <th></th>\n",
       "      <th>title</th>\n",
       "      <th>director</th>\n",
       "      <th>cast</th>\n",
       "      <th>country</th>\n",
       "      <th>rating</th>\n",
       "      <th>genres</th>\n",
       "    </tr>\n",
       "  </thead>\n",
       "  <tbody>\n",
       "    <tr>\n",
       "      <th>0</th>\n",
       "      <td>Blood &amp; Water</td>\n",
       "      <td>NaN</td>\n",
       "      <td>Ama Qamata, Khosi Ngema, Gail Mabalane, Thaban...</td>\n",
       "      <td>South Africa</td>\n",
       "      <td>TV-MA</td>\n",
       "      <td>International TV Shows, TV Dramas, TV Mysteries</td>\n",
       "    </tr>\n",
       "    <tr>\n",
       "      <th>1</th>\n",
       "      <td>Kota Factory</td>\n",
       "      <td>NaN</td>\n",
       "      <td>Mayur More, Jitendra Kumar, Ranjan Raj, Alam K...</td>\n",
       "      <td>India</td>\n",
       "      <td>TV-MA</td>\n",
       "      <td>International TV Shows, Romantic TV Shows, TV ...</td>\n",
       "    </tr>\n",
       "    <tr>\n",
       "      <th>2</th>\n",
       "      <td>The Great British Baking Show</td>\n",
       "      <td>Andy Devonshire</td>\n",
       "      <td>Mel Giedroyc, Sue Perkins, Mary Berry, Paul Ho...</td>\n",
       "      <td>United Kingdom</td>\n",
       "      <td>TV-14</td>\n",
       "      <td>British TV Shows, Reality TV</td>\n",
       "    </tr>\n",
       "    <tr>\n",
       "      <th>3</th>\n",
       "      <td>Dear White People</td>\n",
       "      <td>NaN</td>\n",
       "      <td>Logan Browning, Brandon P. Bell, DeRon Horton,...</td>\n",
       "      <td>United States</td>\n",
       "      <td>TV-MA</td>\n",
       "      <td>TV Comedies, TV Dramas</td>\n",
       "    </tr>\n",
       "    <tr>\n",
       "      <th>4</th>\n",
       "      <td>Falsa identidad</td>\n",
       "      <td>NaN</td>\n",
       "      <td>Luis Ernesto Franco, Camila Sodi, Sergio Goyri...</td>\n",
       "      <td>Mexico</td>\n",
       "      <td>TV-MA</td>\n",
       "      <td>Crime TV Shows, Spanish-Language TV Shows, TV ...</td>\n",
       "    </tr>\n",
       "  </tbody>\n",
       "</table>\n",
       "</div>"
      ],
      "text/plain": [
       "                           title         director  \\\n",
       "0                  Blood & Water              NaN   \n",
       "1                   Kota Factory              NaN   \n",
       "2  The Great British Baking Show  Andy Devonshire   \n",
       "3              Dear White People              NaN   \n",
       "4                Falsa identidad              NaN   \n",
       "\n",
       "                                                cast         country rating  \\\n",
       "0  Ama Qamata, Khosi Ngema, Gail Mabalane, Thaban...    South Africa  TV-MA   \n",
       "1  Mayur More, Jitendra Kumar, Ranjan Raj, Alam K...           India  TV-MA   \n",
       "2  Mel Giedroyc, Sue Perkins, Mary Berry, Paul Ho...  United Kingdom  TV-14   \n",
       "3  Logan Browning, Brandon P. Bell, DeRon Horton,...   United States  TV-MA   \n",
       "4  Luis Ernesto Franco, Camila Sodi, Sergio Goyri...          Mexico  TV-MA   \n",
       "\n",
       "                                              genres  \n",
       "0    International TV Shows, TV Dramas, TV Mysteries  \n",
       "1  International TV Shows, Romantic TV Shows, TV ...  \n",
       "2                       British TV Shows, Reality TV  \n",
       "3                             TV Comedies, TV Dramas  \n",
       "4  Crime TV Shows, Spanish-Language TV Shows, TV ...  "
      ]
     },
     "execution_count": 24,
     "metadata": {},
     "output_type": "execute_result"
    }
   ],
   "source": [
    "# Selecting features for working \n",
    "tv_df = tv_show[['title','director', 'cast', 'country', 'rating', 'genres']]\n",
    "tv_df.head()"
   ]
  },
  {
   "cell_type": "code",
   "execution_count": 25,
   "id": "22d79605-10fd-4b51-94e1-5ec6a2184200",
   "metadata": {
    "id": "22d79605-10fd-4b51-94e1-5ec6a2184200",
    "outputId": "f228eb77-4b91-4e3f-d13a-49dfa69f566c"
   },
   "outputs": [
    {
     "data": {
      "text/html": [
       "<div>\n",
       "<style scoped>\n",
       "    .dataframe tbody tr th:only-of-type {\n",
       "        vertical-align: middle;\n",
       "    }\n",
       "\n",
       "    .dataframe tbody tr th {\n",
       "        vertical-align: top;\n",
       "    }\n",
       "\n",
       "    .dataframe thead th {\n",
       "        text-align: right;\n",
       "    }\n",
       "</style>\n",
       "<table border=\"1\" class=\"dataframe\">\n",
       "  <thead>\n",
       "    <tr style=\"text-align: right;\">\n",
       "      <th></th>\n",
       "      <th>count</th>\n",
       "      <th>unique</th>\n",
       "      <th>top</th>\n",
       "      <th>freq</th>\n",
       "    </tr>\n",
       "  </thead>\n",
       "  <tbody>\n",
       "    <tr>\n",
       "      <th>title</th>\n",
       "      <td>2013</td>\n",
       "      <td>2013</td>\n",
       "      <td>Blood &amp; Water</td>\n",
       "      <td>1</td>\n",
       "    </tr>\n",
       "    <tr>\n",
       "      <th>director</th>\n",
       "      <td>2013</td>\n",
       "      <td>142</td>\n",
       "      <td>NaN</td>\n",
       "      <td>1866</td>\n",
       "    </tr>\n",
       "    <tr>\n",
       "      <th>cast</th>\n",
       "      <td>2013</td>\n",
       "      <td>1980</td>\n",
       "      <td>David Attenborough</td>\n",
       "      <td>14</td>\n",
       "    </tr>\n",
       "    <tr>\n",
       "      <th>country</th>\n",
       "      <td>2013</td>\n",
       "      <td>184</td>\n",
       "      <td>United States</td>\n",
       "      <td>618</td>\n",
       "    </tr>\n",
       "    <tr>\n",
       "      <th>rating</th>\n",
       "      <td>2013</td>\n",
       "      <td>9</td>\n",
       "      <td>TV-MA</td>\n",
       "      <td>881</td>\n",
       "    </tr>\n",
       "    <tr>\n",
       "      <th>genres</th>\n",
       "      <td>2013</td>\n",
       "      <td>219</td>\n",
       "      <td>Kids' TV</td>\n",
       "      <td>161</td>\n",
       "    </tr>\n",
       "  </tbody>\n",
       "</table>\n",
       "</div>"
      ],
      "text/plain": [
       "         count unique                 top  freq\n",
       "title     2013   2013       Blood & Water     1\n",
       "director  2013    142                 NaN  1866\n",
       "cast      2013   1980  David Attenborough    14\n",
       "country   2013    184       United States   618\n",
       "rating    2013      9               TV-MA   881\n",
       "genres    2013    219            Kids' TV   161"
      ]
     },
     "execution_count": 25,
     "metadata": {},
     "output_type": "execute_result"
    }
   ],
   "source": [
    "tv_df.describe().T"
   ]
  },
  {
   "cell_type": "markdown",
   "id": "23a813a5-da32-40b6-97f5-b2d9a38ae365",
   "metadata": {
    "id": "23a813a5-da32-40b6-97f5-b2d9a38ae365"
   },
   "source": [
    "#### **FOR TVSHOW RECOMMENDATIONS WE WOULD MAKE USE OF THE FOLLOWING FEATURES:**\n",
    "- CAST\n",
    "- COUNTRY\n",
    "- GENRES"
   ]
  },
  {
   "cell_type": "markdown",
   "id": "749f5bfb-8385-4b8b-abde-c615d643bd10",
   "metadata": {
    "id": "749f5bfb-8385-4b8b-abde-c615d643bd10"
   },
   "source": [
    "### Preparing data for Vectorization"
   ]
  },
  {
   "cell_type": "code",
   "execution_count": 26,
   "id": "8b4c5178-2ea7-491e-85e9-f68af06850e8",
   "metadata": {
    "id": "8b4c5178-2ea7-491e-85e9-f68af06850e8",
    "outputId": "a6765e65-f6f5-43c4-9abe-86213c4d9c14"
   },
   "outputs": [
    {
     "data": {
      "text/html": [
       "<div>\n",
       "<style scoped>\n",
       "    .dataframe tbody tr th:only-of-type {\n",
       "        vertical-align: middle;\n",
       "    }\n",
       "\n",
       "    .dataframe tbody tr th {\n",
       "        vertical-align: top;\n",
       "    }\n",
       "\n",
       "    .dataframe thead th {\n",
       "        text-align: right;\n",
       "    }\n",
       "</style>\n",
       "<table border=\"1\" class=\"dataframe\">\n",
       "  <thead>\n",
       "    <tr style=\"text-align: right;\">\n",
       "      <th></th>\n",
       "      <th>title</th>\n",
       "      <th>director</th>\n",
       "      <th>cast</th>\n",
       "      <th>country</th>\n",
       "      <th>rating</th>\n",
       "      <th>genres</th>\n",
       "    </tr>\n",
       "  </thead>\n",
       "  <tbody>\n",
       "    <tr>\n",
       "      <th>0</th>\n",
       "      <td>Blood &amp; Water</td>\n",
       "      <td>NaN</td>\n",
       "      <td>Ama Qamata, Khosi Ngema, Gail Mabalane, Thaban...</td>\n",
       "      <td>South Africa</td>\n",
       "      <td>TV-MA</td>\n",
       "      <td>International TV Shows, TV Dramas, TV Mysteries</td>\n",
       "    </tr>\n",
       "    <tr>\n",
       "      <th>1</th>\n",
       "      <td>Kota Factory</td>\n",
       "      <td>NaN</td>\n",
       "      <td>Mayur More, Jitendra Kumar, Ranjan Raj, Alam K...</td>\n",
       "      <td>India</td>\n",
       "      <td>TV-MA</td>\n",
       "      <td>International TV Shows, Romantic TV Shows, TV ...</td>\n",
       "    </tr>\n",
       "    <tr>\n",
       "      <th>2</th>\n",
       "      <td>The Great British Baking Show</td>\n",
       "      <td>Andy Devonshire</td>\n",
       "      <td>Mel Giedroyc, Sue Perkins, Mary Berry, Paul Ho...</td>\n",
       "      <td>United Kingdom</td>\n",
       "      <td>TV-14</td>\n",
       "      <td>British TV Shows, Reality TV</td>\n",
       "    </tr>\n",
       "    <tr>\n",
       "      <th>3</th>\n",
       "      <td>Dear White People</td>\n",
       "      <td>NaN</td>\n",
       "      <td>Logan Browning, Brandon P. Bell, DeRon Horton,...</td>\n",
       "      <td>United States</td>\n",
       "      <td>TV-MA</td>\n",
       "      <td>TV Comedies, TV Dramas</td>\n",
       "    </tr>\n",
       "    <tr>\n",
       "      <th>4</th>\n",
       "      <td>Falsa identidad</td>\n",
       "      <td>NaN</td>\n",
       "      <td>Luis Ernesto Franco, Camila Sodi, Sergio Goyri...</td>\n",
       "      <td>Mexico</td>\n",
       "      <td>TV-MA</td>\n",
       "      <td>Crime TV Shows, Spanish-Language TV Shows, TV ...</td>\n",
       "    </tr>\n",
       "  </tbody>\n",
       "</table>\n",
       "</div>"
      ],
      "text/plain": [
       "                           title         director  \\\n",
       "0                  Blood & Water              NaN   \n",
       "1                   Kota Factory              NaN   \n",
       "2  The Great British Baking Show  Andy Devonshire   \n",
       "3              Dear White People              NaN   \n",
       "4                Falsa identidad              NaN   \n",
       "\n",
       "                                                cast         country rating  \\\n",
       "0  Ama Qamata, Khosi Ngema, Gail Mabalane, Thaban...    South Africa  TV-MA   \n",
       "1  Mayur More, Jitendra Kumar, Ranjan Raj, Alam K...           India  TV-MA   \n",
       "2  Mel Giedroyc, Sue Perkins, Mary Berry, Paul Ho...  United Kingdom  TV-14   \n",
       "3  Logan Browning, Brandon P. Bell, DeRon Horton,...   United States  TV-MA   \n",
       "4  Luis Ernesto Franco, Camila Sodi, Sergio Goyri...          Mexico  TV-MA   \n",
       "\n",
       "                                              genres  \n",
       "0    International TV Shows, TV Dramas, TV Mysteries  \n",
       "1  International TV Shows, Romantic TV Shows, TV ...  \n",
       "2                       British TV Shows, Reality TV  \n",
       "3                             TV Comedies, TV Dramas  \n",
       "4  Crime TV Shows, Spanish-Language TV Shows, TV ...  "
      ]
     },
     "execution_count": 26,
     "metadata": {},
     "output_type": "execute_result"
    }
   ],
   "source": [
    "# Remove stopwords\n",
    "tv_df['cast'] = tv_df['cast'].apply(nfx.remove_stopwords)\n",
    "tv_df['country'] = tv_df['country'].apply(nfx.remove_stopwords)\n",
    "tv_df['genres'] = tv_df['genres'].apply(nfx.remove_stopwords)\n",
    "\n",
    "# # Remove special characters\n",
    "tv_df['country'] = tv_df['country'].apply(nfx.remove_special_characters)\n",
    "\n",
    "tv_df.head()"
   ]
  },
  {
   "cell_type": "markdown",
   "id": "3f9a6cdd-4826-45de-a4e3-36f08f2c3517",
   "metadata": {
    "id": "3f9a6cdd-4826-45de-a4e3-36f08f2c3517"
   },
   "source": [
    "### Vectorising Data"
   ]
  },
  {
   "cell_type": "code",
   "execution_count": 27,
   "id": "0600b0cf-c30f-471f-a974-3ebf052bcd58",
   "metadata": {
    "id": "0600b0cf-c30f-471f-a974-3ebf052bcd58"
   },
   "outputs": [],
   "source": [
    "# Vectorizing Data\n",
    "countVector = CountVectorizer(binary= True)\n",
    "country = countVector.fit_transform(tv_df['country']).toarray()\n",
    "\n",
    "countVector = CountVectorizer(binary= True,\n",
    "                             tokenizer=lambda x:x.split(','))\n",
    "cast = countVector.fit_transform(tv_df['cast']).toarray()\n",
    "genres = countVector.fit_transform(tv_df['genres']).toarray()"
   ]
  },
  {
   "cell_type": "code",
   "execution_count": 28,
   "id": "d05e562a-e6e9-4b56-9944-ee10424df1eb",
   "metadata": {
    "id": "d05e562a-e6e9-4b56-9944-ee10424df1eb"
   },
   "outputs": [],
   "source": [
    "# Turning vectors to dataframe\n",
    "tv_binary_cast = pd.DataFrame(cast).transpose()\n",
    "tv_binary_country = pd.DataFrame(country).transpose()\n",
    "tv_binary_genres = pd.DataFrame(genres).transpose()"
   ]
  },
  {
   "cell_type": "code",
   "execution_count": 29,
   "id": "0b9931d2-d415-4552-b40a-95b0d78bca1c",
   "metadata": {
    "id": "0b9931d2-d415-4552-b40a-95b0d78bca1c",
    "outputId": "f45e3fb2-10a3-460c-8f94-8cc69db68853"
   },
   "outputs": [
    {
     "data": {
      "text/html": [
       "<div>\n",
       "<style scoped>\n",
       "    .dataframe tbody tr th:only-of-type {\n",
       "        vertical-align: middle;\n",
       "    }\n",
       "\n",
       "    .dataframe tbody tr th {\n",
       "        vertical-align: top;\n",
       "    }\n",
       "\n",
       "    .dataframe thead th {\n",
       "        text-align: right;\n",
       "    }\n",
       "</style>\n",
       "<table border=\"1\" class=\"dataframe\">\n",
       "  <thead>\n",
       "    <tr style=\"text-align: right;\">\n",
       "      <th></th>\n",
       "      <th>0</th>\n",
       "      <th>1</th>\n",
       "      <th>2</th>\n",
       "      <th>3</th>\n",
       "      <th>4</th>\n",
       "      <th>5</th>\n",
       "      <th>6</th>\n",
       "      <th>7</th>\n",
       "      <th>8</th>\n",
       "      <th>9</th>\n",
       "      <th>...</th>\n",
       "      <th>14062</th>\n",
       "      <th>14063</th>\n",
       "      <th>14064</th>\n",
       "      <th>14065</th>\n",
       "      <th>14066</th>\n",
       "      <th>14067</th>\n",
       "      <th>14068</th>\n",
       "      <th>14069</th>\n",
       "      <th>14070</th>\n",
       "      <th>14071</th>\n",
       "    </tr>\n",
       "  </thead>\n",
       "  <tbody>\n",
       "    <tr>\n",
       "      <th>0</th>\n",
       "      <td>0</td>\n",
       "      <td>0</td>\n",
       "      <td>0</td>\n",
       "      <td>0</td>\n",
       "      <td>0</td>\n",
       "      <td>0</td>\n",
       "      <td>0</td>\n",
       "      <td>0</td>\n",
       "      <td>0</td>\n",
       "      <td>0</td>\n",
       "      <td>...</td>\n",
       "      <td>0</td>\n",
       "      <td>0</td>\n",
       "      <td>0</td>\n",
       "      <td>0</td>\n",
       "      <td>0</td>\n",
       "      <td>0</td>\n",
       "      <td>0</td>\n",
       "      <td>0</td>\n",
       "      <td>0</td>\n",
       "      <td>0</td>\n",
       "    </tr>\n",
       "    <tr>\n",
       "      <th>1</th>\n",
       "      <td>0</td>\n",
       "      <td>0</td>\n",
       "      <td>0</td>\n",
       "      <td>0</td>\n",
       "      <td>0</td>\n",
       "      <td>0</td>\n",
       "      <td>0</td>\n",
       "      <td>0</td>\n",
       "      <td>0</td>\n",
       "      <td>0</td>\n",
       "      <td>...</td>\n",
       "      <td>0</td>\n",
       "      <td>0</td>\n",
       "      <td>0</td>\n",
       "      <td>0</td>\n",
       "      <td>0</td>\n",
       "      <td>0</td>\n",
       "      <td>0</td>\n",
       "      <td>0</td>\n",
       "      <td>0</td>\n",
       "      <td>0</td>\n",
       "    </tr>\n",
       "    <tr>\n",
       "      <th>2</th>\n",
       "      <td>0</td>\n",
       "      <td>0</td>\n",
       "      <td>0</td>\n",
       "      <td>0</td>\n",
       "      <td>0</td>\n",
       "      <td>0</td>\n",
       "      <td>0</td>\n",
       "      <td>0</td>\n",
       "      <td>0</td>\n",
       "      <td>0</td>\n",
       "      <td>...</td>\n",
       "      <td>0</td>\n",
       "      <td>0</td>\n",
       "      <td>0</td>\n",
       "      <td>0</td>\n",
       "      <td>0</td>\n",
       "      <td>0</td>\n",
       "      <td>0</td>\n",
       "      <td>0</td>\n",
       "      <td>0</td>\n",
       "      <td>0</td>\n",
       "    </tr>\n",
       "    <tr>\n",
       "      <th>3</th>\n",
       "      <td>0</td>\n",
       "      <td>0</td>\n",
       "      <td>0</td>\n",
       "      <td>0</td>\n",
       "      <td>0</td>\n",
       "      <td>0</td>\n",
       "      <td>0</td>\n",
       "      <td>0</td>\n",
       "      <td>0</td>\n",
       "      <td>0</td>\n",
       "      <td>...</td>\n",
       "      <td>0</td>\n",
       "      <td>0</td>\n",
       "      <td>0</td>\n",
       "      <td>0</td>\n",
       "      <td>0</td>\n",
       "      <td>1</td>\n",
       "      <td>0</td>\n",
       "      <td>0</td>\n",
       "      <td>0</td>\n",
       "      <td>0</td>\n",
       "    </tr>\n",
       "    <tr>\n",
       "      <th>4</th>\n",
       "      <td>0</td>\n",
       "      <td>0</td>\n",
       "      <td>0</td>\n",
       "      <td>0</td>\n",
       "      <td>0</td>\n",
       "      <td>0</td>\n",
       "      <td>0</td>\n",
       "      <td>0</td>\n",
       "      <td>0</td>\n",
       "      <td>0</td>\n",
       "      <td>...</td>\n",
       "      <td>0</td>\n",
       "      <td>0</td>\n",
       "      <td>0</td>\n",
       "      <td>0</td>\n",
       "      <td>0</td>\n",
       "      <td>0</td>\n",
       "      <td>0</td>\n",
       "      <td>0</td>\n",
       "      <td>0</td>\n",
       "      <td>0</td>\n",
       "    </tr>\n",
       "    <tr>\n",
       "      <th>...</th>\n",
       "      <td>...</td>\n",
       "      <td>...</td>\n",
       "      <td>...</td>\n",
       "      <td>...</td>\n",
       "      <td>...</td>\n",
       "      <td>...</td>\n",
       "      <td>...</td>\n",
       "      <td>...</td>\n",
       "      <td>...</td>\n",
       "      <td>...</td>\n",
       "      <td>...</td>\n",
       "      <td>...</td>\n",
       "      <td>...</td>\n",
       "      <td>...</td>\n",
       "      <td>...</td>\n",
       "      <td>...</td>\n",
       "      <td>...</td>\n",
       "      <td>...</td>\n",
       "      <td>...</td>\n",
       "      <td>...</td>\n",
       "      <td>...</td>\n",
       "    </tr>\n",
       "    <tr>\n",
       "      <th>2008</th>\n",
       "      <td>0</td>\n",
       "      <td>0</td>\n",
       "      <td>0</td>\n",
       "      <td>0</td>\n",
       "      <td>0</td>\n",
       "      <td>0</td>\n",
       "      <td>0</td>\n",
       "      <td>0</td>\n",
       "      <td>0</td>\n",
       "      <td>0</td>\n",
       "      <td>...</td>\n",
       "      <td>0</td>\n",
       "      <td>0</td>\n",
       "      <td>0</td>\n",
       "      <td>0</td>\n",
       "      <td>0</td>\n",
       "      <td>0</td>\n",
       "      <td>0</td>\n",
       "      <td>0</td>\n",
       "      <td>0</td>\n",
       "      <td>0</td>\n",
       "    </tr>\n",
       "    <tr>\n",
       "      <th>2009</th>\n",
       "      <td>0</td>\n",
       "      <td>0</td>\n",
       "      <td>0</td>\n",
       "      <td>0</td>\n",
       "      <td>0</td>\n",
       "      <td>0</td>\n",
       "      <td>0</td>\n",
       "      <td>0</td>\n",
       "      <td>0</td>\n",
       "      <td>0</td>\n",
       "      <td>...</td>\n",
       "      <td>0</td>\n",
       "      <td>0</td>\n",
       "      <td>0</td>\n",
       "      <td>0</td>\n",
       "      <td>0</td>\n",
       "      <td>0</td>\n",
       "      <td>0</td>\n",
       "      <td>0</td>\n",
       "      <td>0</td>\n",
       "      <td>0</td>\n",
       "    </tr>\n",
       "    <tr>\n",
       "      <th>2010</th>\n",
       "      <td>0</td>\n",
       "      <td>0</td>\n",
       "      <td>0</td>\n",
       "      <td>0</td>\n",
       "      <td>0</td>\n",
       "      <td>0</td>\n",
       "      <td>0</td>\n",
       "      <td>0</td>\n",
       "      <td>0</td>\n",
       "      <td>0</td>\n",
       "      <td>...</td>\n",
       "      <td>0</td>\n",
       "      <td>0</td>\n",
       "      <td>0</td>\n",
       "      <td>0</td>\n",
       "      <td>0</td>\n",
       "      <td>0</td>\n",
       "      <td>0</td>\n",
       "      <td>0</td>\n",
       "      <td>0</td>\n",
       "      <td>0</td>\n",
       "    </tr>\n",
       "    <tr>\n",
       "      <th>2011</th>\n",
       "      <td>0</td>\n",
       "      <td>0</td>\n",
       "      <td>0</td>\n",
       "      <td>0</td>\n",
       "      <td>0</td>\n",
       "      <td>0</td>\n",
       "      <td>0</td>\n",
       "      <td>0</td>\n",
       "      <td>0</td>\n",
       "      <td>0</td>\n",
       "      <td>...</td>\n",
       "      <td>0</td>\n",
       "      <td>0</td>\n",
       "      <td>0</td>\n",
       "      <td>0</td>\n",
       "      <td>0</td>\n",
       "      <td>0</td>\n",
       "      <td>0</td>\n",
       "      <td>0</td>\n",
       "      <td>0</td>\n",
       "      <td>0</td>\n",
       "    </tr>\n",
       "    <tr>\n",
       "      <th>2012</th>\n",
       "      <td>0</td>\n",
       "      <td>0</td>\n",
       "      <td>0</td>\n",
       "      <td>0</td>\n",
       "      <td>0</td>\n",
       "      <td>0</td>\n",
       "      <td>0</td>\n",
       "      <td>0</td>\n",
       "      <td>0</td>\n",
       "      <td>0</td>\n",
       "      <td>...</td>\n",
       "      <td>0</td>\n",
       "      <td>0</td>\n",
       "      <td>0</td>\n",
       "      <td>0</td>\n",
       "      <td>0</td>\n",
       "      <td>0</td>\n",
       "      <td>0</td>\n",
       "      <td>0</td>\n",
       "      <td>0</td>\n",
       "      <td>0</td>\n",
       "    </tr>\n",
       "  </tbody>\n",
       "</table>\n",
       "<p>2013 rows × 14072 columns</p>\n",
       "</div>"
      ],
      "text/plain": [
       "      0      1      2      3      4      5      6      7      8      9      \\\n",
       "0         0      0      0      0      0      0      0      0      0      0   \n",
       "1         0      0      0      0      0      0      0      0      0      0   \n",
       "2         0      0      0      0      0      0      0      0      0      0   \n",
       "3         0      0      0      0      0      0      0      0      0      0   \n",
       "4         0      0      0      0      0      0      0      0      0      0   \n",
       "...     ...    ...    ...    ...    ...    ...    ...    ...    ...    ...   \n",
       "2008      0      0      0      0      0      0      0      0      0      0   \n",
       "2009      0      0      0      0      0      0      0      0      0      0   \n",
       "2010      0      0      0      0      0      0      0      0      0      0   \n",
       "2011      0      0      0      0      0      0      0      0      0      0   \n",
       "2012      0      0      0      0      0      0      0      0      0      0   \n",
       "\n",
       "      ...  14062  14063  14064  14065  14066  14067  14068  14069  14070  \\\n",
       "0     ...      0      0      0      0      0      0      0      0      0   \n",
       "1     ...      0      0      0      0      0      0      0      0      0   \n",
       "2     ...      0      0      0      0      0      0      0      0      0   \n",
       "3     ...      0      0      0      0      0      1      0      0      0   \n",
       "4     ...      0      0      0      0      0      0      0      0      0   \n",
       "...   ...    ...    ...    ...    ...    ...    ...    ...    ...    ...   \n",
       "2008  ...      0      0      0      0      0      0      0      0      0   \n",
       "2009  ...      0      0      0      0      0      0      0      0      0   \n",
       "2010  ...      0      0      0      0      0      0      0      0      0   \n",
       "2011  ...      0      0      0      0      0      0      0      0      0   \n",
       "2012  ...      0      0      0      0      0      0      0      0      0   \n",
       "\n",
       "      14071  \n",
       "0         0  \n",
       "1         0  \n",
       "2         0  \n",
       "3         0  \n",
       "4         0  \n",
       "...     ...  \n",
       "2008      0  \n",
       "2009      0  \n",
       "2010      0  \n",
       "2011      0  \n",
       "2012      0  \n",
       "\n",
       "[2013 rows x 14072 columns]"
      ]
     },
     "execution_count": 29,
     "metadata": {},
     "output_type": "execute_result"
    }
   ],
   "source": [
    "# Concating Dataframe\n",
    "tv_binary = pd.concat([tv_binary_cast,  tv_binary_country, tv_binary_genres], axis=0,ignore_index=True)\n",
    "tv_binary.T"
   ]
  },
  {
   "cell_type": "code",
   "execution_count": 30,
   "id": "97364c37-294f-4b70-8e88-2296e7c6a29a",
   "metadata": {
    "id": "97364c37-294f-4b70-8e88-2296e7c6a29a",
    "outputId": "802d0d4b-7545-42a3-ba44-fb2bfc6afc00"
   },
   "outputs": [
    {
     "data": {
      "text/plain": [
       "array([[1.        , 0.05892557, 0.        , ..., 0.08908708, 0.05455447,\n",
       "        0.1132277 ],\n",
       "       [0.05892557, 1.        , 0.        , ..., 0.06299408, 0.        ,\n",
       "        0.16012815],\n",
       "       [0.        , 0.        , 1.        , ..., 0.        , 0.09449112,\n",
       "        0.        ],\n",
       "       ...,\n",
       "       [0.08908708, 0.06299408, 0.        , ..., 1.        , 0.        ,\n",
       "        0.12104551],\n",
       "       [0.05455447, 0.        , 0.09449112, ..., 0.        , 1.        ,\n",
       "        0.        ],\n",
       "       [0.1132277 , 0.16012815, 0.        , ..., 0.12104551, 0.        ,\n",
       "        1.        ]])"
      ]
     },
     "execution_count": 30,
     "metadata": {},
     "output_type": "execute_result"
    }
   ],
   "source": [
    "tv_sim = cosine_similarity(tv_binary.T)\n",
    "tv_sim"
   ]
  },
  {
   "cell_type": "code",
   "execution_count": 31,
   "id": "634f1360-23a6-4a53-a0c5-3dc3ff1a32a5",
   "metadata": {
    "id": "634f1360-23a6-4a53-a0c5-3dc3ff1a32a5",
    "outputId": "676a3498-9eb1-40f2-c121-9ea4d3a520c0"
   },
   "outputs": [
    {
     "data": {
      "text/plain": [
       "(2013, 2013)"
      ]
     },
     "execution_count": 31,
     "metadata": {},
     "output_type": "execute_result"
    }
   ],
   "source": [
    "tv_sim.shape"
   ]
  },
  {
   "cell_type": "markdown",
   "id": "ec7abb4c-2d60-4ce8-9495-806c17431a71",
   "metadata": {
    "id": "ec7abb4c-2d60-4ce8-9495-806c17431a71",
    "tags": []
   },
   "source": [
    "## **RECOMMENDATION ENGINE TESTING**"
   ]
  },
  {
   "cell_type": "code",
   "execution_count": 32,
   "id": "25543c42-54c4-4c6d-a28b-f9ce90cf9185",
   "metadata": {
    "id": "25543c42-54c4-4c6d-a28b-f9ce90cf9185"
   },
   "outputs": [],
   "source": [
    "def recommend(title):\n",
    "    if title in movies_df['title'].values:\n",
    "        movies_index = movies_df[movies_df['title'] == title].index.item()\n",
    "        scores = dict(enumerate(movies_sim[movies_index]))\n",
    "        sorted_scores = dict(sorted(scores.items(), key=lambda x: x[1], reverse=True))\n",
    "\n",
    "        selected_movies_index = [id for id, scores in sorted_scores.items()]\n",
    "        selected_movies_score = [scores for id, scores in sorted_scores.items()]\n",
    "        \n",
    "        rec_movies = movies_df.iloc[selected_movies_index]\n",
    "        rec_movies['similiarity'] = selected_movies_score\n",
    "\n",
    "        movie_recommendation = rec_movies.reset_index(drop=True)\n",
    "        return movie_recommendation[1:6] # Skipping the first row \n",
    "    \n",
    "    elif title in tv_show['title'].values:\n",
    "        tv_index = tv_show[tv_show['title'] == title].index.item()\n",
    "        scores = dict(enumerate(tv_sim[tv_index]))\n",
    "        sorted_scores = dict(sorted(scores.items(), key=lambda x: x[1], reverse=True))\n",
    "\n",
    "        selected_tv_index = [id for id, scores in sorted_scores.items()]\n",
    "        selected_tv_score = [scores for id, scores in sorted_scores.items()]\n",
    "\n",
    "        rec_tv = tv_show.iloc[selected_tv_index]\n",
    "        rec_tv['similiarity'] = selected_tv_score\n",
    "\n",
    "        tv_recommendation = rec_tv.reset_index(drop=True)\n",
    "        return tv_recommendation[1:6] # Skipping the first row \n",
    "\n",
    "    else:\n",
    "        print(\"Title not in dataset. Please check spelling.\")"
   ]
  },
  {
   "cell_type": "markdown",
   "id": "5e77a0c6-c206-42e3-b366-2e21a7887847",
   "metadata": {
    "id": "5e77a0c6-c206-42e3-b366-2e21a7887847"
   },
   "source": [
    "### Movies recommendation test"
   ]
  },
  {
   "cell_type": "code",
   "execution_count": 33,
   "id": "c34ba5bb-1dee-4e50-b952-6f7db3c6b434",
   "metadata": {
    "id": "c34ba5bb-1dee-4e50-b952-6f7db3c6b434",
    "outputId": "51b82ad5-6199-442e-d4c0-94da64c57f43"
   },
   "outputs": [
    {
     "data": {
      "text/html": [
       "<div>\n",
       "<style scoped>\n",
       "    .dataframe tbody tr th:only-of-type {\n",
       "        vertical-align: middle;\n",
       "    }\n",
       "\n",
       "    .dataframe tbody tr th {\n",
       "        vertical-align: top;\n",
       "    }\n",
       "\n",
       "    .dataframe thead th {\n",
       "        text-align: right;\n",
       "    }\n",
       "</style>\n",
       "<table border=\"1\" class=\"dataframe\">\n",
       "  <thead>\n",
       "    <tr style=\"text-align: right;\">\n",
       "      <th></th>\n",
       "      <th>show_id</th>\n",
       "      <th>type</th>\n",
       "      <th>title</th>\n",
       "      <th>director</th>\n",
       "      <th>cast</th>\n",
       "      <th>country</th>\n",
       "      <th>date_added</th>\n",
       "      <th>release_year</th>\n",
       "      <th>rating</th>\n",
       "      <th>duration</th>\n",
       "      <th>genres</th>\n",
       "      <th>description</th>\n",
       "      <th>similiarity</th>\n",
       "    </tr>\n",
       "  </thead>\n",
       "  <tbody>\n",
       "    <tr>\n",
       "      <th>1</th>\n",
       "      <td>s6416</td>\n",
       "      <td>Movie</td>\n",
       "      <td>Candyman</td>\n",
       "      <td>Bernard Rose</td>\n",
       "      <td>Virginia Madsen, Tony Todd, Xander Berkeley, K...</td>\n",
       "      <td>United States, United Kingdom</td>\n",
       "      <td>October 1, 2019</td>\n",
       "      <td>1992</td>\n",
       "      <td>R</td>\n",
       "      <td>99 min</td>\n",
       "      <td>Cult Movies, Horror Movies</td>\n",
       "      <td>Grad student Helen Lyle unintentionally summon...</td>\n",
       "      <td>0.276026</td>\n",
       "    </tr>\n",
       "    <tr>\n",
       "      <th>2</th>\n",
       "      <td>s8238</td>\n",
       "      <td>Movie</td>\n",
       "      <td>The Car</td>\n",
       "      <td>Elliot Silverstein</td>\n",
       "      <td>James Brolin, Kathleen Lloyd, John Marley, R.G...</td>\n",
       "      <td>United States</td>\n",
       "      <td>June 1, 2020</td>\n",
       "      <td>1977</td>\n",
       "      <td>PG</td>\n",
       "      <td>96 min</td>\n",
       "      <td>Cult Movies, Horror Movies</td>\n",
       "      <td>In his small Southwestern town, sheriff Wade P...</td>\n",
       "      <td>0.276026</td>\n",
       "    </tr>\n",
       "    <tr>\n",
       "      <th>3</th>\n",
       "      <td>s797</td>\n",
       "      <td>Movie</td>\n",
       "      <td>Hostel: Part III</td>\n",
       "      <td>Scott Spiegel</td>\n",
       "      <td>Kip Pardue, Brian Hallisay, John Hensley, Sara...</td>\n",
       "      <td>United States</td>\n",
       "      <td>June 2, 2021</td>\n",
       "      <td>2011</td>\n",
       "      <td>R</td>\n",
       "      <td>88 min</td>\n",
       "      <td>Cult Movies, Horror Movies</td>\n",
       "      <td>In this installment in the popular horror fran...</td>\n",
       "      <td>0.266667</td>\n",
       "    </tr>\n",
       "    <tr>\n",
       "      <th>4</th>\n",
       "      <td>s4525</td>\n",
       "      <td>Movie</td>\n",
       "      <td>Tales From the Hood 2</td>\n",
       "      <td>Rusty Cundieff, Darin Scott</td>\n",
       "      <td>Keith David, Bryan Batt, Alexandria Deberry, B...</td>\n",
       "      <td>United States</td>\n",
       "      <td>October 10, 2018</td>\n",
       "      <td>2018</td>\n",
       "      <td>R</td>\n",
       "      <td>110 min</td>\n",
       "      <td>Cult Movies, Horror Movies, Independent Movies</td>\n",
       "      <td>Buckle up for an anthology of socially conscio...</td>\n",
       "      <td>0.266667</td>\n",
       "    </tr>\n",
       "    <tr>\n",
       "      <th>5</th>\n",
       "      <td>s6545</td>\n",
       "      <td>Movie</td>\n",
       "      <td>Cult of Chucky</td>\n",
       "      <td>Don Mancini</td>\n",
       "      <td>Fiona Dourif, Michael Therriault, Adam Hurtig,...</td>\n",
       "      <td>United States</td>\n",
       "      <td>October 3, 2017</td>\n",
       "      <td>2017</td>\n",
       "      <td>R</td>\n",
       "      <td>90 min</td>\n",
       "      <td>Horror Movies</td>\n",
       "      <td>Following a string of murders in the asylum wh...</td>\n",
       "      <td>0.266667</td>\n",
       "    </tr>\n",
       "  </tbody>\n",
       "</table>\n",
       "</div>"
      ],
      "text/plain": [
       "  show_id   type                  title                     director  \\\n",
       "1   s6416  Movie               Candyman                 Bernard Rose   \n",
       "2   s8238  Movie                The Car           Elliot Silverstein   \n",
       "3    s797  Movie       Hostel: Part III                Scott Spiegel   \n",
       "4   s4525  Movie  Tales From the Hood 2  Rusty Cundieff, Darin Scott   \n",
       "5   s6545  Movie         Cult of Chucky                  Don Mancini   \n",
       "\n",
       "                                                cast  \\\n",
       "1  Virginia Madsen, Tony Todd, Xander Berkeley, K...   \n",
       "2  James Brolin, Kathleen Lloyd, John Marley, R.G...   \n",
       "3  Kip Pardue, Brian Hallisay, John Hensley, Sara...   \n",
       "4  Keith David, Bryan Batt, Alexandria Deberry, B...   \n",
       "5  Fiona Dourif, Michael Therriault, Adam Hurtig,...   \n",
       "\n",
       "                         country        date_added  release_year rating  \\\n",
       "1  United States, United Kingdom   October 1, 2019          1992      R   \n",
       "2                  United States      June 1, 2020          1977     PG   \n",
       "3                  United States      June 2, 2021          2011      R   \n",
       "4                  United States  October 10, 2018          2018      R   \n",
       "5                  United States   October 3, 2017          2017      R   \n",
       "\n",
       "  duration                                          genres  \\\n",
       "1   99 min                      Cult Movies, Horror Movies   \n",
       "2   96 min                      Cult Movies, Horror Movies   \n",
       "3   88 min                      Cult Movies, Horror Movies   \n",
       "4  110 min  Cult Movies, Horror Movies, Independent Movies   \n",
       "5   90 min                                   Horror Movies   \n",
       "\n",
       "                                         description  similiarity  \n",
       "1  Grad student Helen Lyle unintentionally summon...     0.276026  \n",
       "2  In his small Southwestern town, sheriff Wade P...     0.276026  \n",
       "3  In this installment in the popular horror fran...     0.266667  \n",
       "4  Buckle up for an anthology of socially conscio...     0.266667  \n",
       "5  Following a string of murders in the asylum wh...     0.266667  "
      ]
     },
     "execution_count": 33,
     "metadata": {},
     "output_type": "execute_result"
    }
   ],
   "source": [
    "recommend(\"Child's Play\")"
   ]
  },
  {
   "cell_type": "code",
   "execution_count": 34,
   "id": "88f45bda-cd34-4087-aab4-356e5c81f4fc",
   "metadata": {
    "id": "88f45bda-cd34-4087-aab4-356e5c81f4fc",
    "outputId": "138f72eb-a8ad-4606-8820-4da50718166e"
   },
   "outputs": [
    {
     "data": {
      "text/html": [
       "<div>\n",
       "<style scoped>\n",
       "    .dataframe tbody tr th:only-of-type {\n",
       "        vertical-align: middle;\n",
       "    }\n",
       "\n",
       "    .dataframe tbody tr th {\n",
       "        vertical-align: top;\n",
       "    }\n",
       "\n",
       "    .dataframe thead th {\n",
       "        text-align: right;\n",
       "    }\n",
       "</style>\n",
       "<table border=\"1\" class=\"dataframe\">\n",
       "  <thead>\n",
       "    <tr style=\"text-align: right;\">\n",
       "      <th></th>\n",
       "      <th>show_id</th>\n",
       "      <th>type</th>\n",
       "      <th>title</th>\n",
       "      <th>director</th>\n",
       "      <th>cast</th>\n",
       "      <th>country</th>\n",
       "      <th>date_added</th>\n",
       "      <th>release_year</th>\n",
       "      <th>rating</th>\n",
       "      <th>duration</th>\n",
       "      <th>genres</th>\n",
       "      <th>description</th>\n",
       "      <th>similiarity</th>\n",
       "    </tr>\n",
       "  </thead>\n",
       "  <tbody>\n",
       "    <tr>\n",
       "      <th>1</th>\n",
       "      <td>s28</td>\n",
       "      <td>Movie</td>\n",
       "      <td>Grown Ups</td>\n",
       "      <td>Dennis Dugan</td>\n",
       "      <td>Adam Sandler, Kevin James, Chris Rock, David S...</td>\n",
       "      <td>United States</td>\n",
       "      <td>September 20, 2021</td>\n",
       "      <td>2010</td>\n",
       "      <td>PG-13</td>\n",
       "      <td>103 min</td>\n",
       "      <td>Comedies</td>\n",
       "      <td>Mourning the loss of their beloved junior high...</td>\n",
       "      <td>0.439155</td>\n",
       "    </tr>\n",
       "    <tr>\n",
       "      <th>2</th>\n",
       "      <td>s5534</td>\n",
       "      <td>Movie</td>\n",
       "      <td>Sandy Wexler</td>\n",
       "      <td>Steven Brill</td>\n",
       "      <td>Adam Sandler, Jennifer Hudson, Kevin James, Te...</td>\n",
       "      <td>United States</td>\n",
       "      <td>April 14, 2017</td>\n",
       "      <td>2017</td>\n",
       "      <td>TV-14</td>\n",
       "      <td>131 min</td>\n",
       "      <td>Comedies</td>\n",
       "      <td>When a hapless but dedicated talent manager si...</td>\n",
       "      <td>0.353553</td>\n",
       "    </tr>\n",
       "    <tr>\n",
       "      <th>3</th>\n",
       "      <td>s4483</td>\n",
       "      <td>Movie</td>\n",
       "      <td>ADAM SANDLER 100% FRESH</td>\n",
       "      <td>Steve Brill</td>\n",
       "      <td>Adam Sandler</td>\n",
       "      <td>United States</td>\n",
       "      <td>October 23, 2018</td>\n",
       "      <td>2018</td>\n",
       "      <td>TV-MA</td>\n",
       "      <td>74 min</td>\n",
       "      <td>Stand-Up Comedy</td>\n",
       "      <td>From \"Heroes\" to \"Ice Cream Ladies\" – Adam San...</td>\n",
       "      <td>0.338062</td>\n",
       "    </tr>\n",
       "    <tr>\n",
       "      <th>4</th>\n",
       "      <td>s6019</td>\n",
       "      <td>Movie</td>\n",
       "      <td>50 First Dates</td>\n",
       "      <td>Peter Segal</td>\n",
       "      <td>Adam Sandler, Drew Barrymore, Rob Schneider, S...</td>\n",
       "      <td>United States</td>\n",
       "      <td>December 1, 2020</td>\n",
       "      <td>2004</td>\n",
       "      <td>PG-13</td>\n",
       "      <td>99 min</td>\n",
       "      <td>Comedies, Romantic Movies</td>\n",
       "      <td>After falling for a pretty art teacher who has...</td>\n",
       "      <td>0.292770</td>\n",
       "    </tr>\n",
       "    <tr>\n",
       "      <th>5</th>\n",
       "      <td>s7518</td>\n",
       "      <td>Movie</td>\n",
       "      <td>Mr. Deeds</td>\n",
       "      <td>Steve Brill</td>\n",
       "      <td>Adam Sandler, Winona Ryder, Peter Gallagher, J...</td>\n",
       "      <td>United States</td>\n",
       "      <td>August 1, 2020</td>\n",
       "      <td>2002</td>\n",
       "      <td>PG-13</td>\n",
       "      <td>97 min</td>\n",
       "      <td>Comedies, Romantic Movies</td>\n",
       "      <td>After inheriting a media empire, humble Longfe...</td>\n",
       "      <td>0.292770</td>\n",
       "    </tr>\n",
       "  </tbody>\n",
       "</table>\n",
       "</div>"
      ],
      "text/plain": [
       "  show_id   type                    title      director  \\\n",
       "1     s28  Movie                Grown Ups  Dennis Dugan   \n",
       "2   s5534  Movie             Sandy Wexler  Steven Brill   \n",
       "3   s4483  Movie  ADAM SANDLER 100% FRESH   Steve Brill   \n",
       "4   s6019  Movie           50 First Dates   Peter Segal   \n",
       "5   s7518  Movie                Mr. Deeds   Steve Brill   \n",
       "\n",
       "                                                cast        country  \\\n",
       "1  Adam Sandler, Kevin James, Chris Rock, David S...  United States   \n",
       "2  Adam Sandler, Jennifer Hudson, Kevin James, Te...  United States   \n",
       "3                                       Adam Sandler  United States   \n",
       "4  Adam Sandler, Drew Barrymore, Rob Schneider, S...  United States   \n",
       "5  Adam Sandler, Winona Ryder, Peter Gallagher, J...  United States   \n",
       "\n",
       "           date_added  release_year rating duration  \\\n",
       "1  September 20, 2021          2010  PG-13  103 min   \n",
       "2      April 14, 2017          2017  TV-14  131 min   \n",
       "3    October 23, 2018          2018  TV-MA   74 min   \n",
       "4    December 1, 2020          2004  PG-13   99 min   \n",
       "5      August 1, 2020          2002  PG-13   97 min   \n",
       "\n",
       "                      genres  \\\n",
       "1                   Comedies   \n",
       "2                   Comedies   \n",
       "3            Stand-Up Comedy   \n",
       "4  Comedies, Romantic Movies   \n",
       "5  Comedies, Romantic Movies   \n",
       "\n",
       "                                         description  similiarity  \n",
       "1  Mourning the loss of their beloved junior high...     0.439155  \n",
       "2  When a hapless but dedicated talent manager si...     0.353553  \n",
       "3  From \"Heroes\" to \"Ice Cream Ladies\" – Adam San...     0.338062  \n",
       "4  After falling for a pretty art teacher who has...     0.292770  \n",
       "5  After inheriting a media empire, humble Longfe...     0.292770  "
      ]
     },
     "execution_count": 34,
     "metadata": {},
     "output_type": "execute_result"
    }
   ],
   "source": [
    "recommend('Hubie Halloween')"
   ]
  },
  {
   "cell_type": "code",
   "execution_count": 35,
   "id": "78804e9d-0e19-4954-b304-4294eb27f5cd",
   "metadata": {
    "id": "78804e9d-0e19-4954-b304-4294eb27f5cd",
    "outputId": "52699eab-ebe2-4a31-db89-e5a9e62293fc"
   },
   "outputs": [
    {
     "data": {
      "text/html": [
       "<div>\n",
       "<style scoped>\n",
       "    .dataframe tbody tr th:only-of-type {\n",
       "        vertical-align: middle;\n",
       "    }\n",
       "\n",
       "    .dataframe tbody tr th {\n",
       "        vertical-align: top;\n",
       "    }\n",
       "\n",
       "    .dataframe thead th {\n",
       "        text-align: right;\n",
       "    }\n",
       "</style>\n",
       "<table border=\"1\" class=\"dataframe\">\n",
       "  <thead>\n",
       "    <tr style=\"text-align: right;\">\n",
       "      <th></th>\n",
       "      <th>show_id</th>\n",
       "      <th>type</th>\n",
       "      <th>title</th>\n",
       "      <th>director</th>\n",
       "      <th>cast</th>\n",
       "      <th>country</th>\n",
       "      <th>date_added</th>\n",
       "      <th>release_year</th>\n",
       "      <th>rating</th>\n",
       "      <th>duration</th>\n",
       "      <th>genres</th>\n",
       "      <th>description</th>\n",
       "      <th>similiarity</th>\n",
       "    </tr>\n",
       "  </thead>\n",
       "  <tbody>\n",
       "    <tr>\n",
       "      <th>1</th>\n",
       "      <td>s1502</td>\n",
       "      <td>Movie</td>\n",
       "      <td>After We Collided</td>\n",
       "      <td>Roger Kumble</td>\n",
       "      <td>Josephine Langford, Hero Fiennes Tiffin, Dylan...</td>\n",
       "      <td>United States</td>\n",
       "      <td>December 22, 2020</td>\n",
       "      <td>2020</td>\n",
       "      <td>R</td>\n",
       "      <td>105 min</td>\n",
       "      <td>Dramas, Romantic Movies</td>\n",
       "      <td>Tessa fell hard and fast for Hardin, but after...</td>\n",
       "      <td>0.726722</td>\n",
       "    </tr>\n",
       "    <tr>\n",
       "      <th>2</th>\n",
       "      <td>s5512</td>\n",
       "      <td>Movie</td>\n",
       "      <td>Rodney King</td>\n",
       "      <td>Spike Lee</td>\n",
       "      <td>Roger Guenveur Smith</td>\n",
       "      <td>United States</td>\n",
       "      <td>April 28, 2017</td>\n",
       "      <td>2017</td>\n",
       "      <td>TV-MA</td>\n",
       "      <td>53 min</td>\n",
       "      <td>Dramas</td>\n",
       "      <td>Roger Guenveur Smith gives voice to the man at...</td>\n",
       "      <td>0.335410</td>\n",
       "    </tr>\n",
       "    <tr>\n",
       "      <th>3</th>\n",
       "      <td>s1331</td>\n",
       "      <td>Movie</td>\n",
       "      <td>The World We Make</td>\n",
       "      <td>Brian Baugh</td>\n",
       "      <td>Caleb Castille, Rose Reid, Kevin Sizemore, Gre...</td>\n",
       "      <td>United States</td>\n",
       "      <td>February 10, 2021</td>\n",
       "      <td>2019</td>\n",
       "      <td>PG</td>\n",
       "      <td>108 min</td>\n",
       "      <td>Dramas, Romantic Movies</td>\n",
       "      <td>A teenage equestrian and a local football play...</td>\n",
       "      <td>0.333333</td>\n",
       "    </tr>\n",
       "    <tr>\n",
       "      <th>4</th>\n",
       "      <td>s5688</td>\n",
       "      <td>Movie</td>\n",
       "      <td>Blue Jay</td>\n",
       "      <td>Alex Lehmann</td>\n",
       "      <td>Sarah Paulson, Mark Duplass, Clu Gulager</td>\n",
       "      <td>United States</td>\n",
       "      <td>December 6, 2016</td>\n",
       "      <td>2016</td>\n",
       "      <td>TV-MA</td>\n",
       "      <td>81 min</td>\n",
       "      <td>Dramas, Independent Movies, Romantic Movies</td>\n",
       "      <td>Two former high school sweethearts unexpectedl...</td>\n",
       "      <td>0.333333</td>\n",
       "    </tr>\n",
       "    <tr>\n",
       "      <th>5</th>\n",
       "      <td>s6391</td>\n",
       "      <td>Movie</td>\n",
       "      <td>Burlesque</td>\n",
       "      <td>Steve Antin</td>\n",
       "      <td>Cher, Christina Aguilera, Alan Cumming, Eric D...</td>\n",
       "      <td>United States</td>\n",
       "      <td>December 16, 2019</td>\n",
       "      <td>2010</td>\n",
       "      <td>PG-13</td>\n",
       "      <td>119 min</td>\n",
       "      <td>Dramas, Romantic Movies</td>\n",
       "      <td>After leaving Iowa with stars in her eyes, Ali...</td>\n",
       "      <td>0.322749</td>\n",
       "    </tr>\n",
       "  </tbody>\n",
       "</table>\n",
       "</div>"
      ],
      "text/plain": [
       "  show_id   type              title      director  \\\n",
       "1   s1502  Movie  After We Collided  Roger Kumble   \n",
       "2   s5512  Movie        Rodney King     Spike Lee   \n",
       "3   s1331  Movie  The World We Make   Brian Baugh   \n",
       "4   s5688  Movie           Blue Jay  Alex Lehmann   \n",
       "5   s6391  Movie          Burlesque   Steve Antin   \n",
       "\n",
       "                                                cast        country  \\\n",
       "1  Josephine Langford, Hero Fiennes Tiffin, Dylan...  United States   \n",
       "2                               Roger Guenveur Smith  United States   \n",
       "3  Caleb Castille, Rose Reid, Kevin Sizemore, Gre...  United States   \n",
       "4           Sarah Paulson, Mark Duplass, Clu Gulager  United States   \n",
       "5  Cher, Christina Aguilera, Alan Cumming, Eric D...  United States   \n",
       "\n",
       "          date_added  release_year rating duration  \\\n",
       "1  December 22, 2020          2020      R  105 min   \n",
       "2     April 28, 2017          2017  TV-MA   53 min   \n",
       "3  February 10, 2021          2019     PG  108 min   \n",
       "4   December 6, 2016          2016  TV-MA   81 min   \n",
       "5  December 16, 2019          2010  PG-13  119 min   \n",
       "\n",
       "                                        genres  \\\n",
       "1                      Dramas, Romantic Movies   \n",
       "2                                       Dramas   \n",
       "3                      Dramas, Romantic Movies   \n",
       "4  Dramas, Independent Movies, Romantic Movies   \n",
       "5                      Dramas, Romantic Movies   \n",
       "\n",
       "                                         description  similiarity  \n",
       "1  Tessa fell hard and fast for Hardin, but after...     0.726722  \n",
       "2  Roger Guenveur Smith gives voice to the man at...     0.335410  \n",
       "3  A teenage equestrian and a local football play...     0.333333  \n",
       "4  Two former high school sweethearts unexpectedl...     0.333333  \n",
       "5  After leaving Iowa with stars in her eyes, Ali...     0.322749  "
      ]
     },
     "execution_count": 35,
     "metadata": {},
     "output_type": "execute_result"
    }
   ],
   "source": [
    "recommend('After')"
   ]
  },
  {
   "cell_type": "code",
   "execution_count": 36,
   "id": "b91fb61d-0221-4255-95d8-fb28e7c04c3b",
   "metadata": {
    "id": "b91fb61d-0221-4255-95d8-fb28e7c04c3b",
    "outputId": "1b330bba-3611-43f7-cfb5-566783bb4470"
   },
   "outputs": [
    {
     "data": {
      "text/html": [
       "<div>\n",
       "<style scoped>\n",
       "    .dataframe tbody tr th:only-of-type {\n",
       "        vertical-align: middle;\n",
       "    }\n",
       "\n",
       "    .dataframe tbody tr th {\n",
       "        vertical-align: top;\n",
       "    }\n",
       "\n",
       "    .dataframe thead th {\n",
       "        text-align: right;\n",
       "    }\n",
       "</style>\n",
       "<table border=\"1\" class=\"dataframe\">\n",
       "  <thead>\n",
       "    <tr style=\"text-align: right;\">\n",
       "      <th></th>\n",
       "      <th>show_id</th>\n",
       "      <th>type</th>\n",
       "      <th>title</th>\n",
       "      <th>director</th>\n",
       "      <th>cast</th>\n",
       "      <th>country</th>\n",
       "      <th>date_added</th>\n",
       "      <th>release_year</th>\n",
       "      <th>rating</th>\n",
       "      <th>duration</th>\n",
       "      <th>genres</th>\n",
       "      <th>description</th>\n",
       "      <th>similiarity</th>\n",
       "    </tr>\n",
       "  </thead>\n",
       "  <tbody>\n",
       "    <tr>\n",
       "      <th>1</th>\n",
       "      <td>s4783</td>\n",
       "      <td>Movie</td>\n",
       "      <td>The Legacy of a Whitetail Deer Hunter</td>\n",
       "      <td>Jody Hill</td>\n",
       "      <td>Josh Brolin, Danny McBride, Montana Jordan, Sc...</td>\n",
       "      <td>United States</td>\n",
       "      <td>July 6, 2018</td>\n",
       "      <td>2018</td>\n",
       "      <td>TV-14</td>\n",
       "      <td>83 min</td>\n",
       "      <td>Action &amp; Adventure, Comedies, Dramas</td>\n",
       "      <td>A star of hunting videos strives to bond with ...</td>\n",
       "      <td>0.402015</td>\n",
       "    </tr>\n",
       "    <tr>\n",
       "      <th>2</th>\n",
       "      <td>s296</td>\n",
       "      <td>Movie</td>\n",
       "      <td>The Paper Tigers</td>\n",
       "      <td>Quoc Bao Tran</td>\n",
       "      <td>Alain Uy, Ron Yuan, Mykel Shannon Jenkins, Jae...</td>\n",
       "      <td>United States</td>\n",
       "      <td>August 7, 2021</td>\n",
       "      <td>2021</td>\n",
       "      <td>PG-13</td>\n",
       "      <td>111 min</td>\n",
       "      <td>Action &amp; Adventure, Comedies</td>\n",
       "      <td>After reuniting as middle-aged men, three kung...</td>\n",
       "      <td>0.384900</td>\n",
       "    </tr>\n",
       "    <tr>\n",
       "      <th>3</th>\n",
       "      <td>s2837</td>\n",
       "      <td>Movie</td>\n",
       "      <td>Spenser Confidential</td>\n",
       "      <td>Peter Berg</td>\n",
       "      <td>Mark Wahlberg, Winston Duke, Alan Arkin, Bokee...</td>\n",
       "      <td>United States</td>\n",
       "      <td>March 6, 2020</td>\n",
       "      <td>2020</td>\n",
       "      <td>R</td>\n",
       "      <td>111 min</td>\n",
       "      <td>Action &amp; Adventure, Comedies</td>\n",
       "      <td>Spenser, an ex-cop and ex-con, teams up with a...</td>\n",
       "      <td>0.384900</td>\n",
       "    </tr>\n",
       "    <tr>\n",
       "      <th>4</th>\n",
       "      <td>s355</td>\n",
       "      <td>Movie</td>\n",
       "      <td>The Last Boy Scout</td>\n",
       "      <td>Tony Scott</td>\n",
       "      <td>Bruce Willis, Damon Wayans, Chelsea Field, Nob...</td>\n",
       "      <td>United States</td>\n",
       "      <td>August 1, 2021</td>\n",
       "      <td>1991</td>\n",
       "      <td>R</td>\n",
       "      <td>105 min</td>\n",
       "      <td>Action &amp; Adventure, Comedies</td>\n",
       "      <td>Private eye Joe Hallenbeck is forced to team u...</td>\n",
       "      <td>0.369800</td>\n",
       "    </tr>\n",
       "    <tr>\n",
       "      <th>5</th>\n",
       "      <td>s931</td>\n",
       "      <td>Movie</td>\n",
       "      <td>Due Date</td>\n",
       "      <td>Todd Phillips</td>\n",
       "      <td>Robert Downey Jr., Zach Galifianakis, Michelle...</td>\n",
       "      <td>United States</td>\n",
       "      <td>May 1, 2021</td>\n",
       "      <td>2010</td>\n",
       "      <td>R</td>\n",
       "      <td>95 min</td>\n",
       "      <td>Action &amp; Adventure, Comedies</td>\n",
       "      <td>Days before his pregnant wife's due date, Pete...</td>\n",
       "      <td>0.369800</td>\n",
       "    </tr>\n",
       "  </tbody>\n",
       "</table>\n",
       "</div>"
      ],
      "text/plain": [
       "  show_id   type                                  title       director  \\\n",
       "1   s4783  Movie  The Legacy of a Whitetail Deer Hunter      Jody Hill   \n",
       "2    s296  Movie                       The Paper Tigers  Quoc Bao Tran   \n",
       "3   s2837  Movie                   Spenser Confidential     Peter Berg   \n",
       "4    s355  Movie                     The Last Boy Scout     Tony Scott   \n",
       "5    s931  Movie                               Due Date  Todd Phillips   \n",
       "\n",
       "                                                cast        country  \\\n",
       "1  Josh Brolin, Danny McBride, Montana Jordan, Sc...  United States   \n",
       "2  Alain Uy, Ron Yuan, Mykel Shannon Jenkins, Jae...  United States   \n",
       "3  Mark Wahlberg, Winston Duke, Alan Arkin, Bokee...  United States   \n",
       "4  Bruce Willis, Damon Wayans, Chelsea Field, Nob...  United States   \n",
       "5  Robert Downey Jr., Zach Galifianakis, Michelle...  United States   \n",
       "\n",
       "       date_added  release_year rating duration  \\\n",
       "1    July 6, 2018          2018  TV-14   83 min   \n",
       "2  August 7, 2021          2021  PG-13  111 min   \n",
       "3   March 6, 2020          2020      R  111 min   \n",
       "4  August 1, 2021          1991      R  105 min   \n",
       "5     May 1, 2021          2010      R   95 min   \n",
       "\n",
       "                                 genres  \\\n",
       "1  Action & Adventure, Comedies, Dramas   \n",
       "2          Action & Adventure, Comedies   \n",
       "3          Action & Adventure, Comedies   \n",
       "4          Action & Adventure, Comedies   \n",
       "5          Action & Adventure, Comedies   \n",
       "\n",
       "                                         description  similiarity  \n",
       "1  A star of hunting videos strives to bond with ...     0.402015  \n",
       "2  After reuniting as middle-aged men, three kung...     0.384900  \n",
       "3  Spenser, an ex-cop and ex-con, teams up with a...     0.384900  \n",
       "4  Private eye Joe Hallenbeck is forced to team u...     0.369800  \n",
       "5  Days before his pregnant wife's due date, Pete...     0.369800  "
      ]
     },
     "execution_count": 36,
     "metadata": {},
     "output_type": "execute_result"
    }
   ],
   "source": [
    "recommend('Coffee & Kareem')"
   ]
  },
  {
   "cell_type": "markdown",
   "id": "9fb2ecee-b17a-4351-b137-af4187c31fe6",
   "metadata": {
    "id": "9fb2ecee-b17a-4351-b137-af4187c31fe6"
   },
   "source": [
    "### TV Shows recommendation test"
   ]
  },
  {
   "cell_type": "code",
   "execution_count": 37,
   "id": "bf44e380-1ab4-42ff-90e8-12c1b0c0f944",
   "metadata": {
    "id": "bf44e380-1ab4-42ff-90e8-12c1b0c0f944",
    "outputId": "f196e27f-c32f-4593-a174-09648a984361"
   },
   "outputs": [
    {
     "data": {
      "text/html": [
       "<div>\n",
       "<style scoped>\n",
       "    .dataframe tbody tr th:only-of-type {\n",
       "        vertical-align: middle;\n",
       "    }\n",
       "\n",
       "    .dataframe tbody tr th {\n",
       "        vertical-align: top;\n",
       "    }\n",
       "\n",
       "    .dataframe thead th {\n",
       "        text-align: right;\n",
       "    }\n",
       "</style>\n",
       "<table border=\"1\" class=\"dataframe\">\n",
       "  <thead>\n",
       "    <tr style=\"text-align: right;\">\n",
       "      <th></th>\n",
       "      <th>show_id</th>\n",
       "      <th>type</th>\n",
       "      <th>title</th>\n",
       "      <th>director</th>\n",
       "      <th>cast</th>\n",
       "      <th>country</th>\n",
       "      <th>date_added</th>\n",
       "      <th>release_year</th>\n",
       "      <th>rating</th>\n",
       "      <th>duration</th>\n",
       "      <th>genres</th>\n",
       "      <th>description</th>\n",
       "      <th>similiarity</th>\n",
       "    </tr>\n",
       "  </thead>\n",
       "  <tbody>\n",
       "    <tr>\n",
       "      <th>1</th>\n",
       "      <td>s639</td>\n",
       "      <td>TV Show</td>\n",
       "      <td>Sex/Life</td>\n",
       "      <td>NaN</td>\n",
       "      <td>Sarah Shahi, Mike Vogel, Adam Demos, Margaret ...</td>\n",
       "      <td>United States</td>\n",
       "      <td>June 25, 2021</td>\n",
       "      <td>2021</td>\n",
       "      <td>TV-MA</td>\n",
       "      <td>1 Season</td>\n",
       "      <td>Romantic TV Shows, TV Dramas</td>\n",
       "      <td>A woman's daring sexual past collides with her...</td>\n",
       "      <td>0.288675</td>\n",
       "    </tr>\n",
       "    <tr>\n",
       "      <th>2</th>\n",
       "      <td>s1723</td>\n",
       "      <td>TV Show</td>\n",
       "      <td>DASH &amp; LILY</td>\n",
       "      <td>NaN</td>\n",
       "      <td>Midori Francis, Austin Abrams, Dante Brown, Tr...</td>\n",
       "      <td>United States</td>\n",
       "      <td>November 10, 2020</td>\n",
       "      <td>2020</td>\n",
       "      <td>TV-14</td>\n",
       "      <td>1 Season</td>\n",
       "      <td>Romantic TV Shows, TV Comedies, TV Dramas</td>\n",
       "      <td>Opposites attract at Christmas as cynical Dash...</td>\n",
       "      <td>0.272166</td>\n",
       "    </tr>\n",
       "    <tr>\n",
       "      <th>3</th>\n",
       "      <td>s4571</td>\n",
       "      <td>TV Show</td>\n",
       "      <td>Hot Date</td>\n",
       "      <td>NaN</td>\n",
       "      <td>Emily Axford, Brian Murphy</td>\n",
       "      <td>United States</td>\n",
       "      <td>October 1, 2018</td>\n",
       "      <td>2018</td>\n",
       "      <td>TV-MA</td>\n",
       "      <td>1 Season</td>\n",
       "      <td>Romantic TV Shows, TV Comedies</td>\n",
       "      <td>Interconnected sketches and performances skewe...</td>\n",
       "      <td>0.250000</td>\n",
       "    </tr>\n",
       "    <tr>\n",
       "      <th>4</th>\n",
       "      <td>s489</td>\n",
       "      <td>TV Show</td>\n",
       "      <td>Virgin River</td>\n",
       "      <td>NaN</td>\n",
       "      <td>Alexandra Breckenridge, Martin Henderson, Tim ...</td>\n",
       "      <td>United States</td>\n",
       "      <td>July 9, 2021</td>\n",
       "      <td>2021</td>\n",
       "      <td>TV-14</td>\n",
       "      <td>3 Seasons</td>\n",
       "      <td>Romantic TV Shows, TV Dramas</td>\n",
       "      <td>Searching for a fresh start, a nurse practitio...</td>\n",
       "      <td>0.246183</td>\n",
       "    </tr>\n",
       "    <tr>\n",
       "      <th>5</th>\n",
       "      <td>s5285</td>\n",
       "      <td>TV Show</td>\n",
       "      <td>No Tomorrow</td>\n",
       "      <td>NaN</td>\n",
       "      <td>Joshua Sasse, Tori Anderson, Jonathan Langdon,...</td>\n",
       "      <td>United States</td>\n",
       "      <td>September 5, 2017</td>\n",
       "      <td>2016</td>\n",
       "      <td>TV-PG</td>\n",
       "      <td>1 Season</td>\n",
       "      <td>Romantic TV Shows, TV Comedies, TV Dramas</td>\n",
       "      <td>Her straitjacketed life turned topsy-turvy by ...</td>\n",
       "      <td>0.246183</td>\n",
       "    </tr>\n",
       "  </tbody>\n",
       "</table>\n",
       "</div>"
      ],
      "text/plain": [
       "  show_id     type         title director  \\\n",
       "1    s639  TV Show      Sex/Life      NaN   \n",
       "2   s1723  TV Show   DASH & LILY      NaN   \n",
       "3   s4571  TV Show      Hot Date      NaN   \n",
       "4    s489  TV Show  Virgin River      NaN   \n",
       "5   s5285  TV Show   No Tomorrow      NaN   \n",
       "\n",
       "                                                cast        country  \\\n",
       "1  Sarah Shahi, Mike Vogel, Adam Demos, Margaret ...  United States   \n",
       "2  Midori Francis, Austin Abrams, Dante Brown, Tr...  United States   \n",
       "3                         Emily Axford, Brian Murphy  United States   \n",
       "4  Alexandra Breckenridge, Martin Henderson, Tim ...  United States   \n",
       "5  Joshua Sasse, Tori Anderson, Jonathan Langdon,...  United States   \n",
       "\n",
       "          date_added  release_year rating   duration  \\\n",
       "1      June 25, 2021          2021  TV-MA   1 Season   \n",
       "2  November 10, 2020          2020  TV-14   1 Season   \n",
       "3    October 1, 2018          2018  TV-MA   1 Season   \n",
       "4       July 9, 2021          2021  TV-14  3 Seasons   \n",
       "5  September 5, 2017          2016  TV-PG   1 Season   \n",
       "\n",
       "                                      genres  \\\n",
       "1               Romantic TV Shows, TV Dramas   \n",
       "2  Romantic TV Shows, TV Comedies, TV Dramas   \n",
       "3             Romantic TV Shows, TV Comedies   \n",
       "4               Romantic TV Shows, TV Dramas   \n",
       "5  Romantic TV Shows, TV Comedies, TV Dramas   \n",
       "\n",
       "                                         description  similiarity  \n",
       "1  A woman's daring sexual past collides with her...     0.288675  \n",
       "2  Opposites attract at Christmas as cynical Dash...     0.272166  \n",
       "3  Interconnected sketches and performances skewe...     0.250000  \n",
       "4  Searching for a fresh start, a nurse practitio...     0.246183  \n",
       "5  Her straitjacketed life turned topsy-turvy by ...     0.246183  "
      ]
     },
     "execution_count": 37,
     "metadata": {},
     "output_type": "execute_result"
    }
   ],
   "source": [
    "recommend('Bridgerton')"
   ]
  },
  {
   "cell_type": "code",
   "execution_count": 38,
   "id": "06f33ef2-8081-4c41-9598-f225dcf1a35e",
   "metadata": {
    "id": "06f33ef2-8081-4c41-9598-f225dcf1a35e",
    "outputId": "c492d569-0376-45ed-e72d-18b7bbb72ec0"
   },
   "outputs": [
    {
     "data": {
      "text/html": [
       "<div>\n",
       "<style scoped>\n",
       "    .dataframe tbody tr th:only-of-type {\n",
       "        vertical-align: middle;\n",
       "    }\n",
       "\n",
       "    .dataframe tbody tr th {\n",
       "        vertical-align: top;\n",
       "    }\n",
       "\n",
       "    .dataframe thead th {\n",
       "        text-align: right;\n",
       "    }\n",
       "</style>\n",
       "<table border=\"1\" class=\"dataframe\">\n",
       "  <thead>\n",
       "    <tr style=\"text-align: right;\">\n",
       "      <th></th>\n",
       "      <th>show_id</th>\n",
       "      <th>type</th>\n",
       "      <th>title</th>\n",
       "      <th>director</th>\n",
       "      <th>cast</th>\n",
       "      <th>country</th>\n",
       "      <th>date_added</th>\n",
       "      <th>release_year</th>\n",
       "      <th>rating</th>\n",
       "      <th>duration</th>\n",
       "      <th>genres</th>\n",
       "      <th>description</th>\n",
       "      <th>similiarity</th>\n",
       "    </tr>\n",
       "  </thead>\n",
       "  <tbody>\n",
       "    <tr>\n",
       "      <th>1</th>\n",
       "      <td>s2932</td>\n",
       "      <td>TV Show</td>\n",
       "      <td>Better Call Saul</td>\n",
       "      <td>NaN</td>\n",
       "      <td>Bob Odenkirk, Jonathan Banks, Michael McKean, ...</td>\n",
       "      <td>United States</td>\n",
       "      <td>February 9, 2020</td>\n",
       "      <td>2018</td>\n",
       "      <td>TV-MA</td>\n",
       "      <td>4 Seasons</td>\n",
       "      <td>Crime TV Shows, TV Comedies, TV Dramas</td>\n",
       "      <td>This Emmy-nominated prequel to \"Breaking Bad\" ...</td>\n",
       "      <td>0.447214</td>\n",
       "    </tr>\n",
       "    <tr>\n",
       "      <th>2</th>\n",
       "      <td>s679</td>\n",
       "      <td>TV Show</td>\n",
       "      <td>The Assassination of Gianni Versace</td>\n",
       "      <td>NaN</td>\n",
       "      <td>Edgar Ramírez, Darren Criss, Ricky Martin, Pen...</td>\n",
       "      <td>United States</td>\n",
       "      <td>June 19, 2021</td>\n",
       "      <td>2018</td>\n",
       "      <td>TV-MA</td>\n",
       "      <td>1 Season</td>\n",
       "      <td>Crime TV Shows, TV Dramas, TV Thrillers</td>\n",
       "      <td>Defining moments in Andrew Cunanan's life, sta...</td>\n",
       "      <td>0.430331</td>\n",
       "    </tr>\n",
       "    <tr>\n",
       "      <th>3</th>\n",
       "      <td>s4080</td>\n",
       "      <td>TV Show</td>\n",
       "      <td>Unsolved</td>\n",
       "      <td>NaN</td>\n",
       "      <td>Josh Duhamel, Jimmi Simpson, Bokeem Woodbine</td>\n",
       "      <td>United States</td>\n",
       "      <td>February 27, 2019</td>\n",
       "      <td>2018</td>\n",
       "      <td>TV-MA</td>\n",
       "      <td>1 Season</td>\n",
       "      <td>Crime TV Shows, TV Dramas</td>\n",
       "      <td>Ride along for a dramatized version of the rea...</td>\n",
       "      <td>0.390360</td>\n",
       "    </tr>\n",
       "    <tr>\n",
       "      <th>4</th>\n",
       "      <td>s6842</td>\n",
       "      <td>TV Show</td>\n",
       "      <td>Get Shorty</td>\n",
       "      <td>NaN</td>\n",
       "      <td>Ray Romano, Chris O'Dowd</td>\n",
       "      <td>United States</td>\n",
       "      <td>November 1, 2018</td>\n",
       "      <td>2017</td>\n",
       "      <td>TV-MA</td>\n",
       "      <td>1 Season</td>\n",
       "      <td>Crime TV Shows, TV Comedies, TV Dramas</td>\n",
       "      <td>Organized crime enforcer Miles Daly strives to...</td>\n",
       "      <td>0.390360</td>\n",
       "    </tr>\n",
       "    <tr>\n",
       "      <th>5</th>\n",
       "      <td>s1981</td>\n",
       "      <td>TV Show</td>\n",
       "      <td>The Blacklist</td>\n",
       "      <td>NaN</td>\n",
       "      <td>James Spader, Megan Boone, Diego Klattenhoff, ...</td>\n",
       "      <td>United States</td>\n",
       "      <td>September 18, 2020</td>\n",
       "      <td>2019</td>\n",
       "      <td>TV-14</td>\n",
       "      <td>7 Seasons</td>\n",
       "      <td>Crime TV Shows, TV Dramas, TV Thrillers</td>\n",
       "      <td>After turning himself in, a brilliant fugitive...</td>\n",
       "      <td>0.358057</td>\n",
       "    </tr>\n",
       "  </tbody>\n",
       "</table>\n",
       "</div>"
      ],
      "text/plain": [
       "  show_id     type                                title director  \\\n",
       "1   s2932  TV Show                     Better Call Saul      NaN   \n",
       "2    s679  TV Show  The Assassination of Gianni Versace      NaN   \n",
       "3   s4080  TV Show                             Unsolved      NaN   \n",
       "4   s6842  TV Show                           Get Shorty      NaN   \n",
       "5   s1981  TV Show                        The Blacklist      NaN   \n",
       "\n",
       "                                                cast        country  \\\n",
       "1  Bob Odenkirk, Jonathan Banks, Michael McKean, ...  United States   \n",
       "2  Edgar Ramírez, Darren Criss, Ricky Martin, Pen...  United States   \n",
       "3       Josh Duhamel, Jimmi Simpson, Bokeem Woodbine  United States   \n",
       "4                           Ray Romano, Chris O'Dowd  United States   \n",
       "5  James Spader, Megan Boone, Diego Klattenhoff, ...  United States   \n",
       "\n",
       "           date_added  release_year rating   duration  \\\n",
       "1    February 9, 2020          2018  TV-MA  4 Seasons   \n",
       "2       June 19, 2021          2018  TV-MA   1 Season   \n",
       "3   February 27, 2019          2018  TV-MA   1 Season   \n",
       "4    November 1, 2018          2017  TV-MA   1 Season   \n",
       "5  September 18, 2020          2019  TV-14  7 Seasons   \n",
       "\n",
       "                                    genres  \\\n",
       "1   Crime TV Shows, TV Comedies, TV Dramas   \n",
       "2  Crime TV Shows, TV Dramas, TV Thrillers   \n",
       "3                Crime TV Shows, TV Dramas   \n",
       "4   Crime TV Shows, TV Comedies, TV Dramas   \n",
       "5  Crime TV Shows, TV Dramas, TV Thrillers   \n",
       "\n",
       "                                         description  similiarity  \n",
       "1  This Emmy-nominated prequel to \"Breaking Bad\" ...     0.447214  \n",
       "2  Defining moments in Andrew Cunanan's life, sta...     0.430331  \n",
       "3  Ride along for a dramatized version of the rea...     0.390360  \n",
       "4  Organized crime enforcer Miles Daly strives to...     0.390360  \n",
       "5  After turning himself in, a brilliant fugitive...     0.358057  "
      ]
     },
     "execution_count": 38,
     "metadata": {},
     "output_type": "execute_result"
    }
   ],
   "source": [
    "recommend('Breaking Bad')"
   ]
  },
  {
   "cell_type": "code",
   "execution_count": 39,
   "id": "bcfbb992-929f-4242-842f-147692a19ff2",
   "metadata": {
    "id": "bcfbb992-929f-4242-842f-147692a19ff2",
    "outputId": "751d76b8-dd32-4c72-cecd-ef921a12aa55"
   },
   "outputs": [
    {
     "data": {
      "text/html": [
       "<div>\n",
       "<style scoped>\n",
       "    .dataframe tbody tr th:only-of-type {\n",
       "        vertical-align: middle;\n",
       "    }\n",
       "\n",
       "    .dataframe tbody tr th {\n",
       "        vertical-align: top;\n",
       "    }\n",
       "\n",
       "    .dataframe thead th {\n",
       "        text-align: right;\n",
       "    }\n",
       "</style>\n",
       "<table border=\"1\" class=\"dataframe\">\n",
       "  <thead>\n",
       "    <tr style=\"text-align: right;\">\n",
       "      <th></th>\n",
       "      <th>show_id</th>\n",
       "      <th>type</th>\n",
       "      <th>title</th>\n",
       "      <th>director</th>\n",
       "      <th>cast</th>\n",
       "      <th>country</th>\n",
       "      <th>date_added</th>\n",
       "      <th>release_year</th>\n",
       "      <th>rating</th>\n",
       "      <th>duration</th>\n",
       "      <th>genres</th>\n",
       "      <th>description</th>\n",
       "      <th>similiarity</th>\n",
       "    </tr>\n",
       "  </thead>\n",
       "  <tbody>\n",
       "    <tr>\n",
       "      <th>1</th>\n",
       "      <td>s2185</td>\n",
       "      <td>TV Show</td>\n",
       "      <td>Get Even</td>\n",
       "      <td>NaN</td>\n",
       "      <td>Kim Adis, Mia McKenna-Bruce, Bethany Antonia, ...</td>\n",
       "      <td>United Kingdom</td>\n",
       "      <td>July 31, 2020</td>\n",
       "      <td>2020</td>\n",
       "      <td>TV-PG</td>\n",
       "      <td>1 Season</td>\n",
       "      <td>British TV Shows, Crime TV Shows, Internationa...</td>\n",
       "      <td>In a secret act of skillful revenge, four priv...</td>\n",
       "      <td>0.32075</td>\n",
       "    </tr>\n",
       "    <tr>\n",
       "      <th>2</th>\n",
       "      <td>s1126</td>\n",
       "      <td>TV Show</td>\n",
       "      <td>Murder Maps</td>\n",
       "      <td>NaN</td>\n",
       "      <td>Nicholas Day</td>\n",
       "      <td>United Kingdom</td>\n",
       "      <td>April 1, 2021</td>\n",
       "      <td>2017</td>\n",
       "      <td>TV-MA</td>\n",
       "      <td>2 Seasons</td>\n",
       "      <td>British TV Shows, Crime TV Shows, Docuseries</td>\n",
       "      <td>Dramatic reenactments paired with archival sou...</td>\n",
       "      <td>0.31427</td>\n",
       "    </tr>\n",
       "    <tr>\n",
       "      <th>3</th>\n",
       "      <td>s1130</td>\n",
       "      <td>TV Show</td>\n",
       "      <td>Secrets of Great British Castles</td>\n",
       "      <td>NaN</td>\n",
       "      <td>Dan Jones</td>\n",
       "      <td>United Kingdom</td>\n",
       "      <td>April 1, 2021</td>\n",
       "      <td>2016</td>\n",
       "      <td>TV-PG</td>\n",
       "      <td>2 Seasons</td>\n",
       "      <td>British TV Shows, Docuseries, International TV...</td>\n",
       "      <td>Join historian Dan Jones on a journey back in ...</td>\n",
       "      <td>0.31427</td>\n",
       "    </tr>\n",
       "    <tr>\n",
       "      <th>4</th>\n",
       "      <td>s1318</td>\n",
       "      <td>TV Show</td>\n",
       "      <td>Nadiya Bakes</td>\n",
       "      <td>NaN</td>\n",
       "      <td>Nadiya Hussain</td>\n",
       "      <td>United Kingdom</td>\n",
       "      <td>February 12, 2021</td>\n",
       "      <td>2021</td>\n",
       "      <td>TV-G</td>\n",
       "      <td>1 Season</td>\n",
       "      <td>British TV Shows, International TV Shows, Real...</td>\n",
       "      <td>Delightful cakes and heavenly breads pop from ...</td>\n",
       "      <td>0.31427</td>\n",
       "    </tr>\n",
       "    <tr>\n",
       "      <th>5</th>\n",
       "      <td>s1428</td>\n",
       "      <td>TV Show</td>\n",
       "      <td>Inside the World’s Toughest Prisons</td>\n",
       "      <td>NaN</td>\n",
       "      <td>Paul Connolly</td>\n",
       "      <td>United Kingdom</td>\n",
       "      <td>January 8, 2021</td>\n",
       "      <td>2021</td>\n",
       "      <td>TV-MA</td>\n",
       "      <td>5 Seasons</td>\n",
       "      <td>British TV Shows, Crime TV Shows, Docuseries</td>\n",
       "      <td>Investigative journalist Paul Connolly becomes...</td>\n",
       "      <td>0.31427</td>\n",
       "    </tr>\n",
       "  </tbody>\n",
       "</table>\n",
       "</div>"
      ],
      "text/plain": [
       "  show_id     type                                title director  \\\n",
       "1   s2185  TV Show                             Get Even      NaN   \n",
       "2   s1126  TV Show                          Murder Maps      NaN   \n",
       "3   s1130  TV Show     Secrets of Great British Castles      NaN   \n",
       "4   s1318  TV Show                         Nadiya Bakes      NaN   \n",
       "5   s1428  TV Show  Inside the World’s Toughest Prisons      NaN   \n",
       "\n",
       "                                                cast         country  \\\n",
       "1  Kim Adis, Mia McKenna-Bruce, Bethany Antonia, ...  United Kingdom   \n",
       "2                                       Nicholas Day  United Kingdom   \n",
       "3                                          Dan Jones  United Kingdom   \n",
       "4                                     Nadiya Hussain  United Kingdom   \n",
       "5                                      Paul Connolly  United Kingdom   \n",
       "\n",
       "          date_added  release_year rating   duration  \\\n",
       "1      July 31, 2020          2020  TV-PG   1 Season   \n",
       "2      April 1, 2021          2017  TV-MA  2 Seasons   \n",
       "3      April 1, 2021          2016  TV-PG  2 Seasons   \n",
       "4  February 12, 2021          2021   TV-G   1 Season   \n",
       "5    January 8, 2021          2021  TV-MA  5 Seasons   \n",
       "\n",
       "                                              genres  \\\n",
       "1  British TV Shows, Crime TV Shows, Internationa...   \n",
       "2       British TV Shows, Crime TV Shows, Docuseries   \n",
       "3  British TV Shows, Docuseries, International TV...   \n",
       "4  British TV Shows, International TV Shows, Real...   \n",
       "5       British TV Shows, Crime TV Shows, Docuseries   \n",
       "\n",
       "                                         description  similiarity  \n",
       "1  In a secret act of skillful revenge, four priv...      0.32075  \n",
       "2  Dramatic reenactments paired with archival sou...      0.31427  \n",
       "3  Join historian Dan Jones on a journey back in ...      0.31427  \n",
       "4  Delightful cakes and heavenly breads pop from ...      0.31427  \n",
       "5  Investigative journalist Paul Connolly becomes...      0.31427  "
      ]
     },
     "execution_count": 39,
     "metadata": {},
     "output_type": "execute_result"
    }
   ],
   "source": [
    "recommend('Peaky Blinders')"
   ]
  },
  {
   "cell_type": "code",
   "execution_count": 40,
   "id": "18bce474-07e4-4dc4-93e9-569c19b48934",
   "metadata": {
    "id": "18bce474-07e4-4dc4-93e9-569c19b48934",
    "outputId": "63c627b7-6ef0-4186-99ee-44ad8537cc44"
   },
   "outputs": [
    {
     "data": {
      "text/html": [
       "<div>\n",
       "<style scoped>\n",
       "    .dataframe tbody tr th:only-of-type {\n",
       "        vertical-align: middle;\n",
       "    }\n",
       "\n",
       "    .dataframe tbody tr th {\n",
       "        vertical-align: top;\n",
       "    }\n",
       "\n",
       "    .dataframe thead th {\n",
       "        text-align: right;\n",
       "    }\n",
       "</style>\n",
       "<table border=\"1\" class=\"dataframe\">\n",
       "  <thead>\n",
       "    <tr style=\"text-align: right;\">\n",
       "      <th></th>\n",
       "      <th>show_id</th>\n",
       "      <th>type</th>\n",
       "      <th>title</th>\n",
       "      <th>director</th>\n",
       "      <th>cast</th>\n",
       "      <th>country</th>\n",
       "      <th>date_added</th>\n",
       "      <th>release_year</th>\n",
       "      <th>rating</th>\n",
       "      <th>duration</th>\n",
       "      <th>genres</th>\n",
       "      <th>description</th>\n",
       "      <th>similiarity</th>\n",
       "    </tr>\n",
       "  </thead>\n",
       "  <tbody>\n",
       "    <tr>\n",
       "      <th>1</th>\n",
       "      <td>s110</td>\n",
       "      <td>TV Show</td>\n",
       "      <td>La casa de papel</td>\n",
       "      <td>NaN</td>\n",
       "      <td>Úrsula Corberó, Itziar Ituño, Álvaro Morte, Pa...</td>\n",
       "      <td>Spain</td>\n",
       "      <td>September 3, 2021</td>\n",
       "      <td>2021</td>\n",
       "      <td>TV-MA</td>\n",
       "      <td>5 Seasons</td>\n",
       "      <td>Crime TV Shows, International TV Shows, Spanis...</td>\n",
       "      <td>Eight thieves take hostages and lock themselve...</td>\n",
       "      <td>0.438357</td>\n",
       "    </tr>\n",
       "    <tr>\n",
       "      <th>2</th>\n",
       "      <td>s1433</td>\n",
       "      <td>TV Show</td>\n",
       "      <td>The Idhun Chronicles</td>\n",
       "      <td>Maite Ruiz De Austri</td>\n",
       "      <td>Michelle Jenner, Itzan Escamilla, Sergio Mur, ...</td>\n",
       "      <td>Spain</td>\n",
       "      <td>January 8, 2021</td>\n",
       "      <td>2021</td>\n",
       "      <td>TV-14</td>\n",
       "      <td>2 Seasons</td>\n",
       "      <td>Anime Series, International TV Shows, Spanish-...</td>\n",
       "      <td>A boy suddenly orphaned fights his parents' ki...</td>\n",
       "      <td>0.344265</td>\n",
       "    </tr>\n",
       "    <tr>\n",
       "      <th>3</th>\n",
       "      <td>s5279</td>\n",
       "      <td>TV Show</td>\n",
       "      <td>Apaches</td>\n",
       "      <td>NaN</td>\n",
       "      <td>Alberto Ammann, Eloy Azorín, Verónica Echegui,...</td>\n",
       "      <td>Spain</td>\n",
       "      <td>September 8, 2017</td>\n",
       "      <td>2016</td>\n",
       "      <td>TV-MA</td>\n",
       "      <td>1 Season</td>\n",
       "      <td>Crime TV Shows, International TV Shows, Spanis...</td>\n",
       "      <td>A young journalist is forced into a life of cr...</td>\n",
       "      <td>0.344265</td>\n",
       "    </tr>\n",
       "    <tr>\n",
       "      <th>4</th>\n",
       "      <td>s6792</td>\n",
       "      <td>TV Show</td>\n",
       "      <td>Four Seasons in Havana</td>\n",
       "      <td>NaN</td>\n",
       "      <td>Jorge Perugorría, Carlos Enrique Almirante, Ma...</td>\n",
       "      <td>Spain, Cuba</td>\n",
       "      <td>December 9, 2016</td>\n",
       "      <td>2016</td>\n",
       "      <td>TV-MA</td>\n",
       "      <td>1 Season</td>\n",
       "      <td>Crime TV Shows, International TV Shows, Spanis...</td>\n",
       "      <td>As Havana slowly revolves through the year, wi...</td>\n",
       "      <td>0.311400</td>\n",
       "    </tr>\n",
       "    <tr>\n",
       "      <th>5</th>\n",
       "      <td>s1841</td>\n",
       "      <td>TV Show</td>\n",
       "      <td>Someone Has to Die</td>\n",
       "      <td>Manolo Caro</td>\n",
       "      <td>Carmen Maura, Cecilia Suárez, Ester Expósito, ...</td>\n",
       "      <td>Mexico, Spain</td>\n",
       "      <td>October 16, 2020</td>\n",
       "      <td>2020</td>\n",
       "      <td>TV-MA</td>\n",
       "      <td>1 Season</td>\n",
       "      <td>Crime TV Shows, International TV Shows, Spanis...</td>\n",
       "      <td>In conservative 1950s Spain, the alleged relat...</td>\n",
       "      <td>0.304290</td>\n",
       "    </tr>\n",
       "  </tbody>\n",
       "</table>\n",
       "</div>"
      ],
      "text/plain": [
       "  show_id     type                   title              director  \\\n",
       "1    s110  TV Show        La casa de papel                   NaN   \n",
       "2   s1433  TV Show    The Idhun Chronicles  Maite Ruiz De Austri   \n",
       "3   s5279  TV Show                 Apaches                   NaN   \n",
       "4   s6792  TV Show  Four Seasons in Havana                   NaN   \n",
       "5   s1841  TV Show      Someone Has to Die           Manolo Caro   \n",
       "\n",
       "                                                cast        country  \\\n",
       "1  Úrsula Corberó, Itziar Ituño, Álvaro Morte, Pa...          Spain   \n",
       "2  Michelle Jenner, Itzan Escamilla, Sergio Mur, ...          Spain   \n",
       "3  Alberto Ammann, Eloy Azorín, Verónica Echegui,...          Spain   \n",
       "4  Jorge Perugorría, Carlos Enrique Almirante, Ma...    Spain, Cuba   \n",
       "5  Carmen Maura, Cecilia Suárez, Ester Expósito, ...  Mexico, Spain   \n",
       "\n",
       "          date_added  release_year rating   duration  \\\n",
       "1  September 3, 2021          2021  TV-MA  5 Seasons   \n",
       "2    January 8, 2021          2021  TV-14  2 Seasons   \n",
       "3  September 8, 2017          2016  TV-MA   1 Season   \n",
       "4   December 9, 2016          2016  TV-MA   1 Season   \n",
       "5   October 16, 2020          2020  TV-MA   1 Season   \n",
       "\n",
       "                                              genres  \\\n",
       "1  Crime TV Shows, International TV Shows, Spanis...   \n",
       "2  Anime Series, International TV Shows, Spanish-...   \n",
       "3  Crime TV Shows, International TV Shows, Spanis...   \n",
       "4  Crime TV Shows, International TV Shows, Spanis...   \n",
       "5  Crime TV Shows, International TV Shows, Spanis...   \n",
       "\n",
       "                                         description  similiarity  \n",
       "1  Eight thieves take hostages and lock themselve...     0.438357  \n",
       "2  A boy suddenly orphaned fights his parents' ki...     0.344265  \n",
       "3  A young journalist is forced into a life of cr...     0.344265  \n",
       "4  As Havana slowly revolves through the year, wi...     0.311400  \n",
       "5  In conservative 1950s Spain, the alleged relat...     0.304290  "
      ]
     },
     "execution_count": 40,
     "metadata": {},
     "output_type": "execute_result"
    }
   ],
   "source": [
    "recommend('Elite')"
   ]
  },
  {
   "cell_type": "markdown",
   "id": "1df584ec-47e5-4e93-917e-03100a6d2643",
   "metadata": {
    "id": "1df584ec-47e5-4e93-917e-03100a6d2643"
   },
   "source": [
    "### **CONCLUSION:**\n",
    "- From the test ananlysis we can see that the recommendation engine works very well.\n",
    "- **THE END**"
   ]
  },
  {
   "cell_type": "code",
   "execution_count": 41,
   "id": "1c5e4431-62cd-4aa2-b92b-145048006efa",
   "metadata": {
    "id": "1c5e4431-62cd-4aa2-b92b-145048006efa"
   },
   "outputs": [],
   "source": [
    "import plotly.graph_objects as go"
   ]
  },
  {
   "cell_type": "code",
   "execution_count": 42,
   "id": "2807fd49-1dc5-427d-b1c3-302cf7f675dd",
   "metadata": {
    "id": "2807fd49-1dc5-427d-b1c3-302cf7f675dd"
   },
   "outputs": [],
   "source": [
    "def Table(df):\n",
    "    fig = go.Figure(data=[go.Table(\n",
    "        columnorder=[1, 2, 3, 4, 5],\n",
    "        columnwidth=[20, 20, 20, 30, 50],\n",
    "        header=dict(values=list(['Type', 'Title', 'Country', 'Genre(s)', 'Description']),\n",
    "                    line_color='black', font=dict(color='black', family=\"Gravitas One\", size=20), height=40,\n",
    "                    fill_color='#FF6865',\n",
    "                    align='center'),\n",
    "        cells=dict(values=[df.type, df.title, df.country, df.genres, df.description],\n",
    "                   font=dict(color='black', family=\"Lato\", size=16),\n",
    "                   fill_color='#FFB3B2',\n",
    "                   align='left'))\n",
    "    ])\n",
    "\n",
    "    fig.update_layout(height=700,\n",
    "                      title={'text': \"Top 10 Movie Recommendations\", 'font': {'size': 22, 'family': 'Gravitas One'}},\n",
    "                      title_x=0.5\n",
    "                      )\n",
    "    fig.show()"
   ]
  },
  {
   "cell_type": "code",
   "execution_count": 46,
   "id": "79e49620-01cb-4a61-8ca6-31d1afa11591",
   "metadata": {
    "id": "79e49620-01cb-4a61-8ca6-31d1afa11591",
    "outputId": "1007194f-e36f-48fb-bea7-054e5bbd842a"
   },
   "outputs": [
    {
     "data": {
      "application/vnd.plotly.v1+json": {
       "config": {
        "plotlyServerURL": "https://plot.ly"
       },
       "data": [
        {
         "cells": {
          "align": "left",
          "fill": {
           "color": "#FFB3B2"
          },
          "font": {
           "color": "black",
           "family": "Lato",
           "size": 16
          },
          "values": [
           [
            "TV Show",
            "TV Show",
            "TV Show",
            "TV Show",
            "TV Show"
           ],
           [
            "The Assassination of Gianni Versace",
            "Unsolved",
            "Get Shorty",
            "Ozark",
            "Killer Inside: The Mind of Aaron Hernandez"
           ],
           [
            "United States",
            "United States",
            "United States",
            "United States",
            "United States"
           ],
           [
            "Crime TV Shows, TV Dramas, TV Thrillers",
            "Crime TV Shows, TV Dramas",
            "Crime TV Shows, TV Comedies, TV Dramas",
            "Crime TV Shows, TV Dramas, TV Thrillers",
            "Crime TV Shows, Docuseries"
           ],
           [
            "Defining moments in Andrew Cunanan's life, starting in childhood, lead up to a 1997 murder spree that kills five, including fashion icon Gianni Versace.",
            "Ride along for a dramatized version of the real-life investigations into the murders of rap icons Tupac Shakur and Biggie Smalls.",
            "Organized crime enforcer Miles Daly strives to reinvent himself as a Hollywood filmmaker in this satire based on Elmore Leonard's best-selling novel.",
            "A financial adviser drags his family from Chicago to the Missouri Ozarks, where he must launder $500 million in five years to appease a drug boss.",
            "Via interviews with friends, players and insiders, this docuseries examines how Aaron Hernandez went from an NFL star to a convicted killer."
           ]
          ]
         },
         "columnorder": [
          1,
          2,
          3,
          4,
          5
         ],
         "columnwidth": [
          20,
          20,
          20,
          30,
          50
         ],
         "header": {
          "align": "center",
          "fill": {
           "color": "#FF6865"
          },
          "font": {
           "color": "black",
           "family": "Gravitas One",
           "size": 20
          },
          "height": 40,
          "line": {
           "color": "black"
          },
          "values": [
           "Type",
           "Title",
           "Country",
           "Genre(s)",
           "Description"
          ]
         },
         "type": "table"
        }
       ],
       "layout": {
        "height": 700,
        "template": {
         "data": {
          "bar": [
           {
            "error_x": {
             "color": "#2a3f5f"
            },
            "error_y": {
             "color": "#2a3f5f"
            },
            "marker": {
             "line": {
              "color": "#E5ECF6",
              "width": 0.5
             },
             "pattern": {
              "fillmode": "overlay",
              "size": 10,
              "solidity": 0.2
             }
            },
            "type": "bar"
           }
          ],
          "barpolar": [
           {
            "marker": {
             "line": {
              "color": "#E5ECF6",
              "width": 0.5
             },
             "pattern": {
              "fillmode": "overlay",
              "size": 10,
              "solidity": 0.2
             }
            },
            "type": "barpolar"
           }
          ],
          "carpet": [
           {
            "aaxis": {
             "endlinecolor": "#2a3f5f",
             "gridcolor": "white",
             "linecolor": "white",
             "minorgridcolor": "white",
             "startlinecolor": "#2a3f5f"
            },
            "baxis": {
             "endlinecolor": "#2a3f5f",
             "gridcolor": "white",
             "linecolor": "white",
             "minorgridcolor": "white",
             "startlinecolor": "#2a3f5f"
            },
            "type": "carpet"
           }
          ],
          "choropleth": [
           {
            "colorbar": {
             "outlinewidth": 0,
             "ticks": ""
            },
            "type": "choropleth"
           }
          ],
          "contour": [
           {
            "colorbar": {
             "outlinewidth": 0,
             "ticks": ""
            },
            "colorscale": [
             [
              0,
              "#0d0887"
             ],
             [
              0.1111111111111111,
              "#46039f"
             ],
             [
              0.2222222222222222,
              "#7201a8"
             ],
             [
              0.3333333333333333,
              "#9c179e"
             ],
             [
              0.4444444444444444,
              "#bd3786"
             ],
             [
              0.5555555555555556,
              "#d8576b"
             ],
             [
              0.6666666666666666,
              "#ed7953"
             ],
             [
              0.7777777777777778,
              "#fb9f3a"
             ],
             [
              0.8888888888888888,
              "#fdca26"
             ],
             [
              1,
              "#f0f921"
             ]
            ],
            "type": "contour"
           }
          ],
          "contourcarpet": [
           {
            "colorbar": {
             "outlinewidth": 0,
             "ticks": ""
            },
            "type": "contourcarpet"
           }
          ],
          "heatmap": [
           {
            "colorbar": {
             "outlinewidth": 0,
             "ticks": ""
            },
            "colorscale": [
             [
              0,
              "#0d0887"
             ],
             [
              0.1111111111111111,
              "#46039f"
             ],
             [
              0.2222222222222222,
              "#7201a8"
             ],
             [
              0.3333333333333333,
              "#9c179e"
             ],
             [
              0.4444444444444444,
              "#bd3786"
             ],
             [
              0.5555555555555556,
              "#d8576b"
             ],
             [
              0.6666666666666666,
              "#ed7953"
             ],
             [
              0.7777777777777778,
              "#fb9f3a"
             ],
             [
              0.8888888888888888,
              "#fdca26"
             ],
             [
              1,
              "#f0f921"
             ]
            ],
            "type": "heatmap"
           }
          ],
          "heatmapgl": [
           {
            "colorbar": {
             "outlinewidth": 0,
             "ticks": ""
            },
            "colorscale": [
             [
              0,
              "#0d0887"
             ],
             [
              0.1111111111111111,
              "#46039f"
             ],
             [
              0.2222222222222222,
              "#7201a8"
             ],
             [
              0.3333333333333333,
              "#9c179e"
             ],
             [
              0.4444444444444444,
              "#bd3786"
             ],
             [
              0.5555555555555556,
              "#d8576b"
             ],
             [
              0.6666666666666666,
              "#ed7953"
             ],
             [
              0.7777777777777778,
              "#fb9f3a"
             ],
             [
              0.8888888888888888,
              "#fdca26"
             ],
             [
              1,
              "#f0f921"
             ]
            ],
            "type": "heatmapgl"
           }
          ],
          "histogram": [
           {
            "marker": {
             "pattern": {
              "fillmode": "overlay",
              "size": 10,
              "solidity": 0.2
             }
            },
            "type": "histogram"
           }
          ],
          "histogram2d": [
           {
            "colorbar": {
             "outlinewidth": 0,
             "ticks": ""
            },
            "colorscale": [
             [
              0,
              "#0d0887"
             ],
             [
              0.1111111111111111,
              "#46039f"
             ],
             [
              0.2222222222222222,
              "#7201a8"
             ],
             [
              0.3333333333333333,
              "#9c179e"
             ],
             [
              0.4444444444444444,
              "#bd3786"
             ],
             [
              0.5555555555555556,
              "#d8576b"
             ],
             [
              0.6666666666666666,
              "#ed7953"
             ],
             [
              0.7777777777777778,
              "#fb9f3a"
             ],
             [
              0.8888888888888888,
              "#fdca26"
             ],
             [
              1,
              "#f0f921"
             ]
            ],
            "type": "histogram2d"
           }
          ],
          "histogram2dcontour": [
           {
            "colorbar": {
             "outlinewidth": 0,
             "ticks": ""
            },
            "colorscale": [
             [
              0,
              "#0d0887"
             ],
             [
              0.1111111111111111,
              "#46039f"
             ],
             [
              0.2222222222222222,
              "#7201a8"
             ],
             [
              0.3333333333333333,
              "#9c179e"
             ],
             [
              0.4444444444444444,
              "#bd3786"
             ],
             [
              0.5555555555555556,
              "#d8576b"
             ],
             [
              0.6666666666666666,
              "#ed7953"
             ],
             [
              0.7777777777777778,
              "#fb9f3a"
             ],
             [
              0.8888888888888888,
              "#fdca26"
             ],
             [
              1,
              "#f0f921"
             ]
            ],
            "type": "histogram2dcontour"
           }
          ],
          "mesh3d": [
           {
            "colorbar": {
             "outlinewidth": 0,
             "ticks": ""
            },
            "type": "mesh3d"
           }
          ],
          "parcoords": [
           {
            "line": {
             "colorbar": {
              "outlinewidth": 0,
              "ticks": ""
             }
            },
            "type": "parcoords"
           }
          ],
          "pie": [
           {
            "automargin": true,
            "type": "pie"
           }
          ],
          "scatter": [
           {
            "fillpattern": {
             "fillmode": "overlay",
             "size": 10,
             "solidity": 0.2
            },
            "type": "scatter"
           }
          ],
          "scatter3d": [
           {
            "line": {
             "colorbar": {
              "outlinewidth": 0,
              "ticks": ""
             }
            },
            "marker": {
             "colorbar": {
              "outlinewidth": 0,
              "ticks": ""
             }
            },
            "type": "scatter3d"
           }
          ],
          "scattercarpet": [
           {
            "marker": {
             "colorbar": {
              "outlinewidth": 0,
              "ticks": ""
             }
            },
            "type": "scattercarpet"
           }
          ],
          "scattergeo": [
           {
            "marker": {
             "colorbar": {
              "outlinewidth": 0,
              "ticks": ""
             }
            },
            "type": "scattergeo"
           }
          ],
          "scattergl": [
           {
            "marker": {
             "colorbar": {
              "outlinewidth": 0,
              "ticks": ""
             }
            },
            "type": "scattergl"
           }
          ],
          "scattermapbox": [
           {
            "marker": {
             "colorbar": {
              "outlinewidth": 0,
              "ticks": ""
             }
            },
            "type": "scattermapbox"
           }
          ],
          "scatterpolar": [
           {
            "marker": {
             "colorbar": {
              "outlinewidth": 0,
              "ticks": ""
             }
            },
            "type": "scatterpolar"
           }
          ],
          "scatterpolargl": [
           {
            "marker": {
             "colorbar": {
              "outlinewidth": 0,
              "ticks": ""
             }
            },
            "type": "scatterpolargl"
           }
          ],
          "scatterternary": [
           {
            "marker": {
             "colorbar": {
              "outlinewidth": 0,
              "ticks": ""
             }
            },
            "type": "scatterternary"
           }
          ],
          "surface": [
           {
            "colorbar": {
             "outlinewidth": 0,
             "ticks": ""
            },
            "colorscale": [
             [
              0,
              "#0d0887"
             ],
             [
              0.1111111111111111,
              "#46039f"
             ],
             [
              0.2222222222222222,
              "#7201a8"
             ],
             [
              0.3333333333333333,
              "#9c179e"
             ],
             [
              0.4444444444444444,
              "#bd3786"
             ],
             [
              0.5555555555555556,
              "#d8576b"
             ],
             [
              0.6666666666666666,
              "#ed7953"
             ],
             [
              0.7777777777777778,
              "#fb9f3a"
             ],
             [
              0.8888888888888888,
              "#fdca26"
             ],
             [
              1,
              "#f0f921"
             ]
            ],
            "type": "surface"
           }
          ],
          "table": [
           {
            "cells": {
             "fill": {
              "color": "#EBF0F8"
             },
             "line": {
              "color": "white"
             }
            },
            "header": {
             "fill": {
              "color": "#C8D4E3"
             },
             "line": {
              "color": "white"
             }
            },
            "type": "table"
           }
          ]
         },
         "layout": {
          "annotationdefaults": {
           "arrowcolor": "#2a3f5f",
           "arrowhead": 0,
           "arrowwidth": 1
          },
          "autotypenumbers": "strict",
          "coloraxis": {
           "colorbar": {
            "outlinewidth": 0,
            "ticks": ""
           }
          },
          "colorscale": {
           "diverging": [
            [
             0,
             "#8e0152"
            ],
            [
             0.1,
             "#c51b7d"
            ],
            [
             0.2,
             "#de77ae"
            ],
            [
             0.3,
             "#f1b6da"
            ],
            [
             0.4,
             "#fde0ef"
            ],
            [
             0.5,
             "#f7f7f7"
            ],
            [
             0.6,
             "#e6f5d0"
            ],
            [
             0.7,
             "#b8e186"
            ],
            [
             0.8,
             "#7fbc41"
            ],
            [
             0.9,
             "#4d9221"
            ],
            [
             1,
             "#276419"
            ]
           ],
           "sequential": [
            [
             0,
             "#0d0887"
            ],
            [
             0.1111111111111111,
             "#46039f"
            ],
            [
             0.2222222222222222,
             "#7201a8"
            ],
            [
             0.3333333333333333,
             "#9c179e"
            ],
            [
             0.4444444444444444,
             "#bd3786"
            ],
            [
             0.5555555555555556,
             "#d8576b"
            ],
            [
             0.6666666666666666,
             "#ed7953"
            ],
            [
             0.7777777777777778,
             "#fb9f3a"
            ],
            [
             0.8888888888888888,
             "#fdca26"
            ],
            [
             1,
             "#f0f921"
            ]
           ],
           "sequentialminus": [
            [
             0,
             "#0d0887"
            ],
            [
             0.1111111111111111,
             "#46039f"
            ],
            [
             0.2222222222222222,
             "#7201a8"
            ],
            [
             0.3333333333333333,
             "#9c179e"
            ],
            [
             0.4444444444444444,
             "#bd3786"
            ],
            [
             0.5555555555555556,
             "#d8576b"
            ],
            [
             0.6666666666666666,
             "#ed7953"
            ],
            [
             0.7777777777777778,
             "#fb9f3a"
            ],
            [
             0.8888888888888888,
             "#fdca26"
            ],
            [
             1,
             "#f0f921"
            ]
           ]
          },
          "colorway": [
           "#636efa",
           "#EF553B",
           "#00cc96",
           "#ab63fa",
           "#FFA15A",
           "#19d3f3",
           "#FF6692",
           "#B6E880",
           "#FF97FF",
           "#FECB52"
          ],
          "font": {
           "color": "#2a3f5f"
          },
          "geo": {
           "bgcolor": "white",
           "lakecolor": "white",
           "landcolor": "#E5ECF6",
           "showlakes": true,
           "showland": true,
           "subunitcolor": "white"
          },
          "hoverlabel": {
           "align": "left"
          },
          "hovermode": "closest",
          "mapbox": {
           "style": "light"
          },
          "paper_bgcolor": "white",
          "plot_bgcolor": "#E5ECF6",
          "polar": {
           "angularaxis": {
            "gridcolor": "white",
            "linecolor": "white",
            "ticks": ""
           },
           "bgcolor": "#E5ECF6",
           "radialaxis": {
            "gridcolor": "white",
            "linecolor": "white",
            "ticks": ""
           }
          },
          "scene": {
           "xaxis": {
            "backgroundcolor": "#E5ECF6",
            "gridcolor": "white",
            "gridwidth": 2,
            "linecolor": "white",
            "showbackground": true,
            "ticks": "",
            "zerolinecolor": "white"
           },
           "yaxis": {
            "backgroundcolor": "#E5ECF6",
            "gridcolor": "white",
            "gridwidth": 2,
            "linecolor": "white",
            "showbackground": true,
            "ticks": "",
            "zerolinecolor": "white"
           },
           "zaxis": {
            "backgroundcolor": "#E5ECF6",
            "gridcolor": "white",
            "gridwidth": 2,
            "linecolor": "white",
            "showbackground": true,
            "ticks": "",
            "zerolinecolor": "white"
           }
          },
          "shapedefaults": {
           "line": {
            "color": "#2a3f5f"
           }
          },
          "ternary": {
           "aaxis": {
            "gridcolor": "white",
            "linecolor": "white",
            "ticks": ""
           },
           "baxis": {
            "gridcolor": "white",
            "linecolor": "white",
            "ticks": ""
           },
           "bgcolor": "#E5ECF6",
           "caxis": {
            "gridcolor": "white",
            "linecolor": "white",
            "ticks": ""
           }
          },
          "title": {
           "x": 0.05
          },
          "xaxis": {
           "automargin": true,
           "gridcolor": "white",
           "linecolor": "white",
           "ticks": "",
           "title": {
            "standoff": 15
           },
           "zerolinecolor": "white",
           "zerolinewidth": 2
          },
          "yaxis": {
           "automargin": true,
           "gridcolor": "white",
           "linecolor": "white",
           "ticks": "",
           "title": {
            "standoff": 15
           },
           "zerolinecolor": "white",
           "zerolinewidth": 2
          }
         }
        },
        "title": {
         "font": {
          "family": "Gravitas One",
          "size": 22
         },
         "text": "Top 10 Movie Recommendations",
         "x": 0.5
        }
       }
      },
      "text/html": [
       "<div>                            <div id=\"80bf73f9-0bea-4dd6-a267-85247aabb904\" class=\"plotly-graph-div\" style=\"height:700px; width:100%;\"></div>            <script type=\"text/javascript\">                require([\"plotly\"], function(Plotly) {                    window.PLOTLYENV=window.PLOTLYENV || {};                                    if (document.getElementById(\"80bf73f9-0bea-4dd6-a267-85247aabb904\")) {                    Plotly.newPlot(                        \"80bf73f9-0bea-4dd6-a267-85247aabb904\",                        [{\"cells\":{\"align\":\"left\",\"fill\":{\"color\":\"#FFB3B2\"},\"font\":{\"color\":\"black\",\"family\":\"Lato\",\"size\":16},\"values\":[[\"TV Show\",\"TV Show\",\"TV Show\",\"TV Show\",\"TV Show\"],[\"The Assassination of Gianni Versace\",\"Unsolved\",\"Get Shorty\",\"Ozark\",\"Killer Inside: The Mind of Aaron Hernandez\"],[\"United States\",\"United States\",\"United States\",\"United States\",\"United States\"],[\"Crime TV Shows, TV Dramas, TV Thrillers\",\"Crime TV Shows, TV Dramas\",\"Crime TV Shows, TV Comedies, TV Dramas\",\"Crime TV Shows, TV Dramas, TV Thrillers\",\"Crime TV Shows, Docuseries\"],[\"Defining moments in Andrew Cunanan's life, starting in childhood, lead up to a 1997 murder spree that kills five, including fashion icon Gianni Versace.\",\"Ride along for a dramatized version of the real-life investigations into the murders of rap icons Tupac Shakur and Biggie Smalls.\",\"Organized crime enforcer Miles Daly strives to reinvent himself as a Hollywood filmmaker in this satire based on Elmore Leonard's best-selling novel.\",\"A financial adviser drags his family from Chicago to the Missouri Ozarks, where he must launder $500 million in five years to appease a drug boss.\",\"Via interviews with friends, players and insiders, this docuseries examines how Aaron Hernandez went from an NFL star to a convicted killer.\"]]},\"columnorder\":[1,2,3,4,5],\"columnwidth\":[20,20,20,30,50],\"header\":{\"align\":\"center\",\"fill\":{\"color\":\"#FF6865\"},\"font\":{\"color\":\"black\",\"family\":\"Gravitas One\",\"size\":20},\"height\":40,\"line\":{\"color\":\"black\"},\"values\":[\"Type\",\"Title\",\"Country\",\"Genre(s)\",\"Description\"]},\"type\":\"table\"}],                        {\"template\":{\"data\":{\"histogram2dcontour\":[{\"type\":\"histogram2dcontour\",\"colorbar\":{\"outlinewidth\":0,\"ticks\":\"\"},\"colorscale\":[[0.0,\"#0d0887\"],[0.1111111111111111,\"#46039f\"],[0.2222222222222222,\"#7201a8\"],[0.3333333333333333,\"#9c179e\"],[0.4444444444444444,\"#bd3786\"],[0.5555555555555556,\"#d8576b\"],[0.6666666666666666,\"#ed7953\"],[0.7777777777777778,\"#fb9f3a\"],[0.8888888888888888,\"#fdca26\"],[1.0,\"#f0f921\"]]}],\"choropleth\":[{\"type\":\"choropleth\",\"colorbar\":{\"outlinewidth\":0,\"ticks\":\"\"}}],\"histogram2d\":[{\"type\":\"histogram2d\",\"colorbar\":{\"outlinewidth\":0,\"ticks\":\"\"},\"colorscale\":[[0.0,\"#0d0887\"],[0.1111111111111111,\"#46039f\"],[0.2222222222222222,\"#7201a8\"],[0.3333333333333333,\"#9c179e\"],[0.4444444444444444,\"#bd3786\"],[0.5555555555555556,\"#d8576b\"],[0.6666666666666666,\"#ed7953\"],[0.7777777777777778,\"#fb9f3a\"],[0.8888888888888888,\"#fdca26\"],[1.0,\"#f0f921\"]]}],\"heatmap\":[{\"type\":\"heatmap\",\"colorbar\":{\"outlinewidth\":0,\"ticks\":\"\"},\"colorscale\":[[0.0,\"#0d0887\"],[0.1111111111111111,\"#46039f\"],[0.2222222222222222,\"#7201a8\"],[0.3333333333333333,\"#9c179e\"],[0.4444444444444444,\"#bd3786\"],[0.5555555555555556,\"#d8576b\"],[0.6666666666666666,\"#ed7953\"],[0.7777777777777778,\"#fb9f3a\"],[0.8888888888888888,\"#fdca26\"],[1.0,\"#f0f921\"]]}],\"heatmapgl\":[{\"type\":\"heatmapgl\",\"colorbar\":{\"outlinewidth\":0,\"ticks\":\"\"},\"colorscale\":[[0.0,\"#0d0887\"],[0.1111111111111111,\"#46039f\"],[0.2222222222222222,\"#7201a8\"],[0.3333333333333333,\"#9c179e\"],[0.4444444444444444,\"#bd3786\"],[0.5555555555555556,\"#d8576b\"],[0.6666666666666666,\"#ed7953\"],[0.7777777777777778,\"#fb9f3a\"],[0.8888888888888888,\"#fdca26\"],[1.0,\"#f0f921\"]]}],\"contourcarpet\":[{\"type\":\"contourcarpet\",\"colorbar\":{\"outlinewidth\":0,\"ticks\":\"\"}}],\"contour\":[{\"type\":\"contour\",\"colorbar\":{\"outlinewidth\":0,\"ticks\":\"\"},\"colorscale\":[[0.0,\"#0d0887\"],[0.1111111111111111,\"#46039f\"],[0.2222222222222222,\"#7201a8\"],[0.3333333333333333,\"#9c179e\"],[0.4444444444444444,\"#bd3786\"],[0.5555555555555556,\"#d8576b\"],[0.6666666666666666,\"#ed7953\"],[0.7777777777777778,\"#fb9f3a\"],[0.8888888888888888,\"#fdca26\"],[1.0,\"#f0f921\"]]}],\"surface\":[{\"type\":\"surface\",\"colorbar\":{\"outlinewidth\":0,\"ticks\":\"\"},\"colorscale\":[[0.0,\"#0d0887\"],[0.1111111111111111,\"#46039f\"],[0.2222222222222222,\"#7201a8\"],[0.3333333333333333,\"#9c179e\"],[0.4444444444444444,\"#bd3786\"],[0.5555555555555556,\"#d8576b\"],[0.6666666666666666,\"#ed7953\"],[0.7777777777777778,\"#fb9f3a\"],[0.8888888888888888,\"#fdca26\"],[1.0,\"#f0f921\"]]}],\"mesh3d\":[{\"type\":\"mesh3d\",\"colorbar\":{\"outlinewidth\":0,\"ticks\":\"\"}}],\"scatter\":[{\"fillpattern\":{\"fillmode\":\"overlay\",\"size\":10,\"solidity\":0.2},\"type\":\"scatter\"}],\"parcoords\":[{\"type\":\"parcoords\",\"line\":{\"colorbar\":{\"outlinewidth\":0,\"ticks\":\"\"}}}],\"scatterpolargl\":[{\"type\":\"scatterpolargl\",\"marker\":{\"colorbar\":{\"outlinewidth\":0,\"ticks\":\"\"}}}],\"bar\":[{\"error_x\":{\"color\":\"#2a3f5f\"},\"error_y\":{\"color\":\"#2a3f5f\"},\"marker\":{\"line\":{\"color\":\"#E5ECF6\",\"width\":0.5},\"pattern\":{\"fillmode\":\"overlay\",\"size\":10,\"solidity\":0.2}},\"type\":\"bar\"}],\"scattergeo\":[{\"type\":\"scattergeo\",\"marker\":{\"colorbar\":{\"outlinewidth\":0,\"ticks\":\"\"}}}],\"scatterpolar\":[{\"type\":\"scatterpolar\",\"marker\":{\"colorbar\":{\"outlinewidth\":0,\"ticks\":\"\"}}}],\"histogram\":[{\"marker\":{\"pattern\":{\"fillmode\":\"overlay\",\"size\":10,\"solidity\":0.2}},\"type\":\"histogram\"}],\"scattergl\":[{\"type\":\"scattergl\",\"marker\":{\"colorbar\":{\"outlinewidth\":0,\"ticks\":\"\"}}}],\"scatter3d\":[{\"type\":\"scatter3d\",\"line\":{\"colorbar\":{\"outlinewidth\":0,\"ticks\":\"\"}},\"marker\":{\"colorbar\":{\"outlinewidth\":0,\"ticks\":\"\"}}}],\"scattermapbox\":[{\"type\":\"scattermapbox\",\"marker\":{\"colorbar\":{\"outlinewidth\":0,\"ticks\":\"\"}}}],\"scatterternary\":[{\"type\":\"scatterternary\",\"marker\":{\"colorbar\":{\"outlinewidth\":0,\"ticks\":\"\"}}}],\"scattercarpet\":[{\"type\":\"scattercarpet\",\"marker\":{\"colorbar\":{\"outlinewidth\":0,\"ticks\":\"\"}}}],\"carpet\":[{\"aaxis\":{\"endlinecolor\":\"#2a3f5f\",\"gridcolor\":\"white\",\"linecolor\":\"white\",\"minorgridcolor\":\"white\",\"startlinecolor\":\"#2a3f5f\"},\"baxis\":{\"endlinecolor\":\"#2a3f5f\",\"gridcolor\":\"white\",\"linecolor\":\"white\",\"minorgridcolor\":\"white\",\"startlinecolor\":\"#2a3f5f\"},\"type\":\"carpet\"}],\"table\":[{\"cells\":{\"fill\":{\"color\":\"#EBF0F8\"},\"line\":{\"color\":\"white\"}},\"header\":{\"fill\":{\"color\":\"#C8D4E3\"},\"line\":{\"color\":\"white\"}},\"type\":\"table\"}],\"barpolar\":[{\"marker\":{\"line\":{\"color\":\"#E5ECF6\",\"width\":0.5},\"pattern\":{\"fillmode\":\"overlay\",\"size\":10,\"solidity\":0.2}},\"type\":\"barpolar\"}],\"pie\":[{\"automargin\":true,\"type\":\"pie\"}]},\"layout\":{\"autotypenumbers\":\"strict\",\"colorway\":[\"#636efa\",\"#EF553B\",\"#00cc96\",\"#ab63fa\",\"#FFA15A\",\"#19d3f3\",\"#FF6692\",\"#B6E880\",\"#FF97FF\",\"#FECB52\"],\"font\":{\"color\":\"#2a3f5f\"},\"hovermode\":\"closest\",\"hoverlabel\":{\"align\":\"left\"},\"paper_bgcolor\":\"white\",\"plot_bgcolor\":\"#E5ECF6\",\"polar\":{\"bgcolor\":\"#E5ECF6\",\"angularaxis\":{\"gridcolor\":\"white\",\"linecolor\":\"white\",\"ticks\":\"\"},\"radialaxis\":{\"gridcolor\":\"white\",\"linecolor\":\"white\",\"ticks\":\"\"}},\"ternary\":{\"bgcolor\":\"#E5ECF6\",\"aaxis\":{\"gridcolor\":\"white\",\"linecolor\":\"white\",\"ticks\":\"\"},\"baxis\":{\"gridcolor\":\"white\",\"linecolor\":\"white\",\"ticks\":\"\"},\"caxis\":{\"gridcolor\":\"white\",\"linecolor\":\"white\",\"ticks\":\"\"}},\"coloraxis\":{\"colorbar\":{\"outlinewidth\":0,\"ticks\":\"\"}},\"colorscale\":{\"sequential\":[[0.0,\"#0d0887\"],[0.1111111111111111,\"#46039f\"],[0.2222222222222222,\"#7201a8\"],[0.3333333333333333,\"#9c179e\"],[0.4444444444444444,\"#bd3786\"],[0.5555555555555556,\"#d8576b\"],[0.6666666666666666,\"#ed7953\"],[0.7777777777777778,\"#fb9f3a\"],[0.8888888888888888,\"#fdca26\"],[1.0,\"#f0f921\"]],\"sequentialminus\":[[0.0,\"#0d0887\"],[0.1111111111111111,\"#46039f\"],[0.2222222222222222,\"#7201a8\"],[0.3333333333333333,\"#9c179e\"],[0.4444444444444444,\"#bd3786\"],[0.5555555555555556,\"#d8576b\"],[0.6666666666666666,\"#ed7953\"],[0.7777777777777778,\"#fb9f3a\"],[0.8888888888888888,\"#fdca26\"],[1.0,\"#f0f921\"]],\"diverging\":[[0,\"#8e0152\"],[0.1,\"#c51b7d\"],[0.2,\"#de77ae\"],[0.3,\"#f1b6da\"],[0.4,\"#fde0ef\"],[0.5,\"#f7f7f7\"],[0.6,\"#e6f5d0\"],[0.7,\"#b8e186\"],[0.8,\"#7fbc41\"],[0.9,\"#4d9221\"],[1,\"#276419\"]]},\"xaxis\":{\"gridcolor\":\"white\",\"linecolor\":\"white\",\"ticks\":\"\",\"title\":{\"standoff\":15},\"zerolinecolor\":\"white\",\"automargin\":true,\"zerolinewidth\":2},\"yaxis\":{\"gridcolor\":\"white\",\"linecolor\":\"white\",\"ticks\":\"\",\"title\":{\"standoff\":15},\"zerolinecolor\":\"white\",\"automargin\":true,\"zerolinewidth\":2},\"scene\":{\"xaxis\":{\"backgroundcolor\":\"#E5ECF6\",\"gridcolor\":\"white\",\"linecolor\":\"white\",\"showbackground\":true,\"ticks\":\"\",\"zerolinecolor\":\"white\",\"gridwidth\":2},\"yaxis\":{\"backgroundcolor\":\"#E5ECF6\",\"gridcolor\":\"white\",\"linecolor\":\"white\",\"showbackground\":true,\"ticks\":\"\",\"zerolinecolor\":\"white\",\"gridwidth\":2},\"zaxis\":{\"backgroundcolor\":\"#E5ECF6\",\"gridcolor\":\"white\",\"linecolor\":\"white\",\"showbackground\":true,\"ticks\":\"\",\"zerolinecolor\":\"white\",\"gridwidth\":2}},\"shapedefaults\":{\"line\":{\"color\":\"#2a3f5f\"}},\"annotationdefaults\":{\"arrowcolor\":\"#2a3f5f\",\"arrowhead\":0,\"arrowwidth\":1},\"geo\":{\"bgcolor\":\"white\",\"landcolor\":\"#E5ECF6\",\"subunitcolor\":\"white\",\"showland\":true,\"showlakes\":true,\"lakecolor\":\"white\"},\"title\":{\"x\":0.05},\"mapbox\":{\"style\":\"light\"}}},\"title\":{\"font\":{\"size\":22,\"family\":\"Gravitas One\"},\"text\":\"Top 10 Movie Recommendations\",\"x\":0.5},\"height\":700},                        {\"responsive\": true}                    ).then(function(){\n",
       "                            \n",
       "var gd = document.getElementById('80bf73f9-0bea-4dd6-a267-85247aabb904');\n",
       "var x = new MutationObserver(function (mutations, observer) {{\n",
       "        var display = window.getComputedStyle(gd).display;\n",
       "        if (!display || display === 'none') {{\n",
       "            console.log([gd, 'removed!']);\n",
       "            Plotly.purge(gd);\n",
       "            observer.disconnect();\n",
       "        }}\n",
       "}});\n",
       "\n",
       "// Listen for the removal of the full notebook cells\n",
       "var notebookContainer = gd.closest('#notebook-container');\n",
       "if (notebookContainer) {{\n",
       "    x.observe(notebookContainer, {childList: true});\n",
       "}}\n",
       "\n",
       "// Listen for the clearing of the current output cell\n",
       "var outputEl = gd.closest('.output');\n",
       "if (outputEl) {{\n",
       "    x.observe(outputEl, {childList: true});\n",
       "}}\n",
       "\n",
       "                        })                };                });            </script>        </div>"
      ]
     },
     "metadata": {},
     "output_type": "display_data"
    }
   ],
   "source": [
    "Table(recommend('The Blacklist'))"
   ]
  },
  {
   "cell_type": "code",
   "execution_count": null,
   "id": "2f486742",
   "metadata": {},
   "outputs": [],
   "source": []
  }
 ],
 "metadata": {
  "colab": {
   "include_colab_link": true,
   "name": "Netflix_Recommendation_Engine.ipynb",
   "provenance": []
  },
  "kernelspec": {
   "display_name": "Python 3 (ipykernel)",
   "language": "python",
   "name": "python3"
  },
  "language_info": {
   "codemirror_mode": {
    "name": "ipython",
    "version": 3
   },
   "file_extension": ".py",
   "mimetype": "text/x-python",
   "name": "python",
   "nbconvert_exporter": "python",
   "pygments_lexer": "ipython3",
   "version": "3.10.4"
  }
 },
 "nbformat": 4,
 "nbformat_minor": 5
}
